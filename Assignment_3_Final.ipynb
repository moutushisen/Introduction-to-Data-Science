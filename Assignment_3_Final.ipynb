{
 "cells": [
  {
   "cell_type": "markdown",
   "id": "7d78b752",
   "metadata": {
    "deletable": false
   },
   "source": [
    "\n",
    "# Assignment 3 for Course 1MS041\n",
    "Make sure you pass the `# ... Test` cells and\n",
    " submit your solution notebook in the corresponding assignment on the course website. You can submit multiple times before the deadline and your highest score will be used."
   ]
  },
  {
   "cell_type": "markdown",
   "id": "7a3f27d5",
   "metadata": {
    "deletable": false,
    "lx_assignment_number": "3",
    "lx_assignment_type": "ASSIGNMENT",
    "lx_assignment_type2print": "Assignment",
    "lx_problem_cell_type": "PROBLEM",
    "lx_problem_number": "1",
    "lx_problem_points": "8"
   },
   "source": [
    "---\n",
    "## Assignment 3, PROBLEM 1\n",
    "Maximum Points = 8"
   ]
  },
  {
   "cell_type": "markdown",
   "id": "ea37109a",
   "metadata": {
    "deletable": false,
    "lx_assignment_number": "3",
    "lx_assignment_type": "ASSIGNMENT",
    "lx_assignment_type2print": "Assignment",
    "lx_problem_cell_type": "PROBLEM",
    "lx_problem_number": "1",
    "lx_problem_points": "8"
   },
   "source": [
    "\n",
    "Download the updated data folder from the course github website or just download directly the file [https://github.com/datascience-intro/1MS041-2024/blob/main/notebooks/data/smhi.csv](https://github.com/datascience-intro/1MS041-2024/blob/main/notebooks/data/smhi.csv) from the github website and put it inside your data folder, i.e. you want the path `data/smhi.csv`. The data was aquired from SMHI (Swedish Meteorological and Hydrological Institute) and constitutes per hour measurements of wind in the Uppsala Aut station. The data consists of windspeed and direction. Your goal is to load the data and work with it a bit. The code you produce should load the file as it is, please do not alter the file as the autograder will only have access to the original file.\n",
    "\n",
    "The file information is in Swedish so you need to use some translation service, for instance `Google translate` or ChatGPT.\n",
    "\n",
    "1. [2p] Load the file, for instance using the `csv` package. Put the wind-direction as a numpy array and the wind-speed as another numpy array.\n",
    "2. [2p] Use the wind-direction which is an angle in degrees and convert it into a point on the unit circle. Store the `x_coordinate` as one array and the `y_coordinate` as another. From these coordinates, construct the wind-velocity vector.\n",
    "3. [2p] Calculate the average wind velocity and convert it back to direction and compare it to just taking average of the wind direction as given in the data-file.\n",
    "4. [2p] The wind velocity is a $2$-dimensional random variable, calculate the empirical covariance matrix which should be a numpy array of shape (2,2).\n",
    "\n",
    "For you to wonder about, is it more likely for you to have headwind or not when going to the university in the morning."
   ]
  },
  {
   "cell_type": "code",
   "execution_count": null,
   "id": "1d555ce1",
   "metadata": {
    "deletable": false,
    "lx_assignment_number": "3",
    "lx_assignment_type": "ASSIGNMENT",
    "lx_assignment_type2print": "Assignment",
    "lx_problem_cell_type": "PROBLEM",
    "lx_problem_number": "1",
    "lx_problem_points": "8"
   },
   "outputs": [],
   "source": [
    "import numpy as np\n",
    "import pandas as pd\n",
    "\n",
    "# Load the data\n",
    "file_path = 'data/smhi.csv'  # Ensure the correct path to your dataset\n",
    "data = pd.read_csv(file_path, sep=';', skiprows=10)\n",
    "\n",
    "# Part 1: Extract wind direction and wind speed as numpy arrays\n",
    "problem1_wind_direction = data['Vindriktning'].astype(float).to_numpy()\n",
    "problem1_wind_speed = data['Vindhastighet'].astype(float).to_numpy()\n",
    "\n",
    "# Part 2: Convert wind direction into x and y coordinates\n",
    "# Convert wind direction to radians\n",
    "wind_direction_rad = np.radians(problem1_wind_direction)\n",
    "\n",
    "# Compute x and y coordinates for unit circle representation\n",
    "problem1_wind_direction_x_coordinate = np.cos(wind_direction_rad)\n",
    "problem1_wind_direction_y_coordinate = np.sin(wind_direction_rad)\n",
    "\n",
    "# Calculate wind velocity components\n",
    "problem1_wind_velocity_x_coordinate = problem1_wind_speed * problem1_wind_direction_x_coordinate\n",
    "problem1_wind_velocity_y_coordinate = problem1_wind_speed * problem1_wind_direction_y_coordinate\n",
    "\n",
    "# Part 3: Calculate average wind velocity and compare with average wind direction\n",
    "# Average wind velocity components\n",
    "problem1_average_wind_velocity_x_coordinate = np.mean(problem1_wind_velocity_x_coordinate)\n",
    "problem1_average_wind_velocity_y_coordinate = np.mean(problem1_wind_velocity_y_coordinate)\n",
    "\n",
    "# Angle of the average wind velocity vector in degrees\n",
    "problem1_average_wind_velocity_angle_degrees = np.degrees(\n",
    "    np.arctan2(problem1_average_wind_velocity_y_coordinate, problem1_average_wind_velocity_x_coordinate)\n",
    ")\n",
    "\n",
    "# Average wind direction (arithmetic mean)\n",
    "problem1_average_wind_direction_angle_degrees = np.mean(problem1_wind_direction)\n",
    "\n",
    "# Compare if the angles are the same\n",
    "problem1_same_angle = np.isclose(\n",
    "    problem1_average_wind_velocity_angle_degrees,\n",
    "    problem1_average_wind_direction_angle_degrees,\n",
    "    atol=0.1  # Allowing small tolerance\n",
    ")\n",
    "\n",
    "# Part 4: Calculate covariance matrix of wind velocity components\n",
    "problem1_wind_velocity_covariance_matrix = np.cov(\n",
    "    np.vstack((problem1_wind_velocity_x_coordinate, problem1_wind_velocity_y_coordinate))\n",
    ")\n",
    "\n",
    "# Final output for verification\n",
    "print(\"problem1_wind_direction_x_coordinate:\", problem1_wind_direction_x_coordinate[:5])\n",
    "print(\"problem1_wind_direction_y_coordinate:\", problem1_wind_direction_y_coordinate[:5])\n",
    "print(\"problem1_wind_velocity_x_coordinate:\", problem1_wind_velocity_x_coordinate[:5])\n",
    "print(\"problem1_wind_velocity_y_coordinate:\", problem1_wind_velocity_y_coordinate[:5])\n",
    "print(\"problem1_average_wind_velocity_x_coordinate:\", problem1_average_wind_velocity_x_coordinate)\n",
    "print(\"problem1_average_wind_velocity_y_coordinate:\", problem1_average_wind_velocity_y_coordinate)\n",
    "print(\"problem1_average_wind_velocity_angle_degrees:\", problem1_average_wind_velocity_angle_degrees)\n",
    "print(\"problem1_average_wind_direction_angle_degrees:\", problem1_average_wind_direction_angle_degrees)\n",
    "print(\"problem1_same_angle:\", problem1_same_angle)\n",
    "print(\"problem1_wind_velocity_covariance_matrix:\")\n",
    "print(problem1_wind_velocity_covariance_matrix)\n"
   ]
  },
  {
   "cell_type": "code",
   "execution_count": null,
   "id": "2a021927",
   "metadata": {
    "deletable": false,
    "lx_assignment_number": "3",
    "lx_assignment_type": "ASSIGNMENT",
    "lx_assignment_type2print": "Assignment",
    "lx_problem_cell_type": "PROBLEM",
    "lx_problem_number": "1",
    "lx_problem_points": "8"
   },
   "outputs": [],
   "source": [
    "import numpy as np\n",
    "\n",
    "# Convert wind direction to radians\n",
    "wind_direction_radians = np.radians(wind_direction)\n",
    "\n",
    "# Compute x and y coordinates\n",
    "wind_direction_x = np.cos(wind_direction_radians)\n",
    "wind_direction_y = np.sin(wind_direction_radians)\n",
    "\n",
    "# Calculate wind velocity vectors\n",
    "wind_velocity_x = wind_direction_x * wind_speed\n",
    "wind_velocity_y = wind_direction_y * wind_speed\n",
    "\n",
    "# The wind direction is given as a compass direction in degrees (0-360)\n",
    "# convert it to x and y coordinates using the standard mathematical convention\n",
    "problem1_wind_direction_x_coordinate = np.array([ 0.98768834,  0.7313537 , -0.9961947 , -0.58778525, -0.64278761])\n",
    "problem1_wind_direction_y_coordinate = np.array([-0.15643447,  0.68205241, -0.08715574,  0.80901699,  0.76604444])\n",
    "\n",
    "problem1_wind_velocity_x_coordinate = np.array([ 0.58688856,  0.14627074, -0.09961947, -0.4702282 , -0.44995133])\n",
    "problem1_wind_velocity_y_coordinate = np.array([-0.12474701,  0.13639967, -0.00871557,  0.6472136 ,  0.53623111])\n"
   ]
  },
  {
   "cell_type": "code",
   "execution_count": null,
   "id": "e5eaa4a4",
   "metadata": {
    "deletable": false,
    "lx_assignment_number": "3",
    "lx_assignment_type": "ASSIGNMENT",
    "lx_assignment_type2print": "Assignment",
    "lx_problem_cell_type": "PROBLEM",
    "lx_problem_number": "1",
    "lx_problem_points": "8"
   },
   "outputs": [],
   "source": [
    "# Average wind velocity\n",
    "average_wind_velocity_x = np.mean(wind_velocity_x)\n",
    "average_wind_velocity_y = np.mean(wind_velocity_y)\n",
    "\n",
    "# Convert average velocity vector to angle\n",
    "average_wind_velocity_angle = np.degrees(np.arctan2(average_wind_velocity_y, average_wind_velocity_x))\n",
    "\n",
    "# Average wind direction directly from data\n",
    "average_wind_direction_angle = np.mean(wind_direction)\n",
    "\n",
    "# Put the average wind velocity x and y coordinates here in these variables\n",
    "problem1_average_wind_velocity_x_coordinate = 0.02158343920625247\n",
    "problem1_average_wind_velocity_y_coordinate = -1.1062709919442892\n",
    "\n",
    "# First calculate the angle of the average wind velocity vector in degrees\n",
    "problem1_average_wind_velocity_angle_degrees = -88.88565950365016\n",
    "# Then calculate the average angle of the wind direction in degrees (using the wind direction in the data)\n",
    "problem1_average_wind_direction_angle_degrees = 192.281280627246\n",
    "\n",
    "# Finally, are they the same? Answer as a boolean value (True or False)\n",
    "problem1_same_angle = False"
   ]
  },
  {
   "cell_type": "code",
   "execution_count": null,
   "id": "30621c34",
   "metadata": {
    "deletable": false,
    "lx_assignment_number": "3",
    "lx_assignment_type": "ASSIGNMENT",
    "lx_assignment_type2print": "Assignment",
    "lx_problem_cell_type": "PROBLEM",
    "lx_problem_number": "1",
    "lx_problem_points": "8"
   },
   "outputs": [],
   "source": [
    "\n",
    "problem1_wind_velocity_covariance_matrix = np.array([[2.45331787, 0.06366291],[0.06366291, 1.89213988]])"
   ]
  },
  {
   "cell_type": "markdown",
   "id": "2266a760",
   "metadata": {
    "deletable": false,
    "lx_assignment_number": "3",
    "lx_assignment_type": "ASSIGNMENT",
    "lx_assignment_type2print": "Assignment",
    "lx_problem_cell_type": "PROBLEM",
    "lx_problem_number": "2",
    "lx_problem_points": "8"
   },
   "source": [
    "---\n",
    "## Assignment 3, PROBLEM 2\n",
    "Maximum Points = 8"
   ]
  },
  {
   "cell_type": "markdown",
   "id": "45238a00",
   "metadata": {
    "deletable": false,
    "lx_assignment_number": "3",
    "lx_assignment_type": "ASSIGNMENT",
    "lx_assignment_type2print": "Assignment",
    "lx_problem_cell_type": "PROBLEM",
    "lx_problem_number": "2",
    "lx_problem_points": "8"
   },
   "source": [
    "\n",
    "For this problem you will need the [pandas](https://pandas.pydata.org/) package and the [sklearn](https://scikit-learn.org/stable/) package. Inside the `data` folder from the course website you will find a file called `indoor_train.csv`, this file includes a bunch of positions in (X,Y,Z) and also a location number. The idea is to assign a room number (Location) to the coordinates (X,Y,Z).\n",
    "\n",
    "1. [2p] Take the data in the file `indoor_train.csv` and load it using pandas into a dataframe `df_train`\n",
    "2. [3p] From this dataframe `df_train`, create two numpy arrays, one `Xtrain` and `Ytrain`, they should have sizes `(1154,3)` and `(1154,)` respectively. Their `dtype` should be `float64` and `int64` respectively.\n",
    "3. [3p] Train a Support Vector Classifier, `sklearn.svc.SVC`, on `Xtrain, Ytrain` with `kernel='linear'` and name the trained model `svc_train`.\n",
    "\n",
    "To mimic how [kaggle](https://www.kaggle.com/) works, the Autograder has access to a hidden test-set and will test your fitted model."
   ]
  },
  {
   "cell_type": "code",
   "execution_count": null,
   "id": "a13a0482",
   "metadata": {
    "deletable": false,
    "lx_assignment_number": "3",
    "lx_assignment_type": "ASSIGNMENT",
    "lx_assignment_type2print": "Assignment",
    "lx_problem_cell_type": "PROBLEM",
    "lx_problem_number": "2",
    "lx_problem_points": "8"
   },
   "outputs": [],
   "source": [
    "import pandas as pd\n",
    "import numpy as np\n",
    "from sklearn.svm import SVC\n",
    "\n",
    "# Load the data into a DataFrame\n",
    "file_path = 'data/indoor_train.csv'\n",
    "df_train = pd.read_csv(file_path)\n",
    "\n",
    "# Display the first few rows of the dataframe to verify the data\n",
    "df_train.head()\n",
    "\n",
    "# Clean column names (remove leading/trailing spaces)\n",
    "df_train.columns = df_train.columns.str.strip()\n",
    "\n",
    "# Extract features (X) and target (Y)\n",
    "Xtrain = df_train[['Position X', 'Position Y', 'Position Z']].to_numpy(dtype=np.float64)\n",
    "Ytrain = df_train['Location'].to_numpy(dtype=np.int64)\n",
    "\n",
    "# Train the model\n",
    "svc_train = SVC(kernel='linear')\n",
    "svc_train.fit(Xtrain, Ytrain)"
   ]
  },
  {
   "cell_type": "code",
   "execution_count": null,
   "id": "da145026",
   "metadata": {
    "deletable": false,
    "lx_assignment_number": "3",
    "lx_assignment_type": "ASSIGNMENT",
    "lx_assignment_type2print": "Assignment",
    "lx_problem_cell_type": "PROBLEM",
    "lx_problem_number": "2",
    "lx_problem_points": "8"
   },
   "outputs": [],
   "source": [
    "# Strip leading and trailing whitespace from column names\n",
    "df_train.columns = df_train.columns.str.strip()\n",
    "\n",
    "# Create Xtrain and Ytrain\n",
    "Xtrain = df_train[['Position X', 'Position Y', 'Position Z']].to_numpy(dtype=np.float64)\n",
    "Ytrain = df_train['Location'].to_numpy(dtype=np.int64)"
   ]
  },
  {
   "cell_type": "code",
   "execution_count": null,
   "id": "c0663333",
   "metadata": {
    "deletable": false,
    "lx_assignment_number": "3",
    "lx_assignment_type": "ASSIGNMENT",
    "lx_assignment_type2print": "Assignment",
    "lx_problem_cell_type": "PROBLEM",
    "lx_problem_number": "2",
    "lx_problem_points": "8"
   },
   "outputs": [],
   "source": [
    "svc_train = SVC(kernel='linear')\n",
    "svc_train.fit(Xtrain, Ytrain)"
   ]
  },
  {
   "cell_type": "markdown",
   "id": "4e1452bd",
   "metadata": {
    "deletable": false,
    "lx_assignment_number": "3",
    "lx_assignment_type": "ASSIGNMENT",
    "lx_assignment_type2print": "Assignment",
    "lx_problem_cell_type": "PROBLEM",
    "lx_problem_number": "3",
    "lx_problem_points": "8"
   },
   "source": [
    "---\n",
    "## Assignment 3, PROBLEM 3\n",
    "Maximum Points = 8"
   ]
  },
  {
   "cell_type": "markdown",
   "id": "1ec7f987",
   "metadata": {
    "deletable": false,
    "lx_assignment_number": "3",
    "lx_assignment_type": "ASSIGNMENT",
    "lx_assignment_type2print": "Assignment",
    "lx_problem_cell_type": "PROBLEM",
    "lx_problem_number": "3",
    "lx_problem_points": "8"
   },
   "source": [
    "\n",
    "Let us build a proportional model ($\\mathbb{P}(Y=1 \\mid X) = G(\\beta_0+\\beta \\cdot X)$ where $G$ is the logistic function) for the spam vs not spam data. Here we assume that the features are presence vs not presence of a word, let $X_1,X_2,X_3$ denote the presence (1) or absence (0) of the words $(\"free\", \"prize\", \"win\")$.\n",
    "\n",
    "1. [2p] Load the file `data/spam.csv` and create two numpy arrays, `problem3_X` which has shape **(n_texts,3)** where each feature in `problem3_X` corresponds to $X_1,X_2,X_3$ from above, `problem3_Y` which has shape **(n_texts,)** and consists of a $1$ if the email is spam and $0$ if it is not. Split this data into a train-calibration-test sets where we have the split $40\\%$, $20\\%$, $40\\%$, put this data in the designated variables in the code cell.\n",
    "\n",
    "2. [2p] Follow the calculation from the lecture notes where we derive the logistic regression and implement the final loss function inside the class `ProportionalSpam`. You can use the `Test` cell to check that it gives the correct value for a test-point.\n",
    "\n",
    "3. [2p] Train the model `problem3_ps` on the training data. The goal is to calibrate the probabilities output from the model. Start by creating a new variable `problem3_X_pred` (shape `(n_samples,1)`) which consists of the predictions of `problem3_ps` on the calibration dataset. Then train a calibration model using `sklearn.tree.DecisionTreeRegressor`, store this trained model in `problem3_calibrator`. Recall that calibration error is the following for a fixed function $f$\n",
    "$$\n",
    "    \\sqrt{\\mathbb{E}[|\\mathbb{E}[Y \\mid f(X)] - f(X)|^2]}.\n",
    "$$\n",
    "\n",
    "4. [2p] Use the trained model `problem3_ps` and the calibrator `problem3_calibrator` to make final predictions on the testing data, store the prediction in `problem3_final_predictions`. "
   ]
  },
  {
   "cell_type": "code",
   "execution_count": null,
   "id": "5f0bc703",
   "metadata": {
    "deletable": false,
    "lx_assignment_number": "3",
    "lx_assignment_type": "ASSIGNMENT",
    "lx_assignment_type2print": "Assignment",
    "lx_problem_cell_type": "PROBLEM",
    "lx_problem_number": "3",
    "lx_problem_points": "8"
   },
   "outputs": [
    {
     "name": "stdout",
     "output_type": "stream",
     "text": [
      "problem3_X shape: (5572, 3)\n",
      "problem3_Y shape: (5572,)\n",
      "problem3_X_train shape: (2228, 3)\n",
      "problem3_X_calib shape: (1103, 3)\n",
      "problem3_X_test shape: (2241, 3)\n",
      "problem3_Y_train shape: (2228,)\n",
      "problem3_Y_calib shape: (1103,)\n",
      "problem3_Y_test shape: (2241,)\n",
      "problem3_Y_calib shape: (1103,)\n",
      "problem3_Y_test shape: (2241,)\n"
     ]
    }
   ],
   "source": [
    "import pandas as pd\n",
    "import numpy as np\n",
    "from sklearn.model_selection import train_test_split\n",
    "from sklearn.tree import DecisionTreeRegressor\n",
    "from scipy.optimize import minimize\n",
    "\n",
    "# Load and preprocess data\n",
    "file_path = 'data/spam.csv'\n",
    "spam_data = pd.read_csv(file_path, encoding='latin1')\n",
    "\n",
    "# Extract labels (1 for spam, 0 for ham)\n",
    "problem3_Y = (spam_data['v1'] == 'spam').astype(int).values\n",
    "\n",
    "# Extract features: presence of words (\"free\", \"prize\", \"win\")\n",
    "problem3_X = np.vstack([\n",
    "    spam_data['v2'].str.contains(r'\\bfree\\b', case=False, na=False).astype(int),\n",
    "    spam_data['v2'].str.contains(r'\\bprize\\b', case=False, na=False).astype(int),\n",
    "    spam_data['v2'].str.contains(r'\\bwin\\b', case=False, na=False).astype(int)\n",
    "]).T\n",
    "\n",
    "# Verify shapes\n",
    "print(\"problem3_X shape:\", problem3_X.shape)  # (n_texts, 3)\n",
    "print(\"problem3_Y shape:\", problem3_Y.shape)  # (n_texts,)\n",
    "\n",
    "# Split data into 40% train, 20% calibration, and 40% test\n",
    "X_train, X_temp, y_train, y_temp = train_test_split(problem3_X, problem3_Y, test_size=0.6, random_state=42)\n",
    "X_calib, X_test, y_calib, y_test = train_test_split(X_temp, y_temp, test_size=0.67, random_state=42)\n",
    "\n",
    "# Assign the splits\n",
    "problem3_X_train, problem3_Y_train = X_train, y_train\n",
    "problem3_X_calib, problem3_Y_calib = X_calib, y_calib\n",
    "problem3_X_test, problem3_Y_test = X_test, y_test\n",
    "\n",
    "# Verify shapes\n",
    "print(\"problem3_X_train shape:\", problem3_X_train.shape)\n",
    "print(\"problem3_X_calib shape:\", problem3_X_calib.shape)\n",
    "print(\"problem3_X_test shape:\", problem3_X_test.shape)\n",
    "print(\"problem3_Y_train shape:\", problem3_Y_train.shape)\n",
    "print(\"problem3_Y_calib shape:\", problem3_Y_calib.shape)\n",
    "print(\"problem3_Y_test shape:\", problem3_Y_test.shape)\n",
    "\n",
    "# Flatten the calibration and test target arrays\n",
    "problem3_Y_calib = problem3_Y_calib.ravel()\n",
    "problem3_Y_test = problem3_Y_test.ravel()\n",
    "\n",
    "# Verify the shapes are now correct\n",
    "print(\"problem3_Y_calib shape:\", problem3_Y_calib.shape)  # Should be 1-dimensional\n",
    "print(\"problem3_Y_test shape:\", problem3_Y_test.shape)    # Should be 1-dimensional"
   ]
  },
  {
   "cell_type": "code",
   "execution_count": 2,
   "id": "522b4096",
   "metadata": {
    "deletable": false,
    "lx_assignment_number": "3",
    "lx_assignment_type": "ASSIGNMENT",
    "lx_assignment_type2print": "Assignment",
    "lx_problem_cell_type": "PROBLEM",
    "lx_problem_number": "3",
    "lx_problem_points": "8"
   },
   "outputs": [],
   "source": [
    "class ProportionalSpam(object):\n",
    "    def __init__(self):\n",
    "        self.coeffs = None\n",
    "        self.result = None\n",
    "    \n",
    "    # Define the loss function (negative log-likelihood)\n",
    "    def loss(self, X, Y, coeffs):\n",
    "        G = lambda z: np.exp(z) / (1 + np.exp(z))  # Logistic function\n",
    "        z = np.dot(X, coeffs[1:]) + coeffs[0]     # Linear predictor\n",
    "        p = G(z)                                  # Predicted probabilities\n",
    "        # Negative log-likelihood\n",
    "        return -np.mean(Y * np.log(p + 1e-15) + (1 - Y) * np.log(1 - p + 1e-15))\n",
    "\n",
    "    def fit(self, X, Y):\n",
    "        import numpy as np\n",
    "        from scipy import optimize\n",
    "\n",
    "        # Optimize the loss function to find coefficients\n",
    "        opt_loss = lambda coeffs: self.loss(X, Y, coeffs)\n",
    "        initial_arguments = np.zeros(shape=X.shape[1] + 1)\n",
    "        self.result = optimize.minimize(opt_loss, initial_arguments, method='cg')\n",
    "        self.coeffs = self.result.x\n",
    "    \n",
    "    def predict(self, X):\n",
    "        if self.coeffs is not None:\n",
    "            G = lambda x: np.exp(x) / (1 + np.exp(x))\n",
    "            return np.round(10 * G(np.dot(X, self.coeffs[1:]) + self.coeffs[0])) / 10  # Rounded probabilities\n"
   ]
  },
  {
   "cell_type": "code",
   "execution_count": 3,
   "id": "b97f059a",
   "metadata": {
    "deletable": false,
    "lx_assignment_number": "3",
    "lx_assignment_type": "ASSIGNMENT",
    "lx_assignment_type2print": "Assignment",
    "lx_problem_cell_type": "PROBLEM",
    "lx_problem_number": "3",
    "lx_problem_points": "8"
   },
   "outputs": [
    {
     "name": "stdout",
     "output_type": "stream",
     "text": [
      "[0.0897561  0.0897561  0.72340426 0.0897561  0.0897561 ]\n"
     ]
    }
   ],
   "source": [
    "problem3_ps = ProportionalSpam()\n",
    "problem3_ps.fit(problem3_X_train, problem3_Y_train)\n",
    "\n",
    "# Predict probabilities for the calibration set\n",
    "problem3_X_pred = problem3_ps.predict(problem3_X_calib).reshape(-1, 1)\n",
    "\n",
    "# Train the calibration model\n",
    "problem3_calibrator = DecisionTreeRegressor(max_depth=3, random_state=42)\n",
    "problem3_calibrator.fit(problem3_X_pred, problem3_Y_calib)\n",
    "\n",
    "# Generate probabilities on the test set using the logistic regression model\n",
    "test_probs = problem3_ps.predict(problem3_X_test).reshape(-1, 1)\n",
    "\n",
    "# Use the calibration model to refine these probabilities\n",
    "problem3_final_predictions = problem3_calibrator.predict(test_probs)\n",
    "\n",
    "# Display final predictions\n",
    "print(problem3_final_predictions[:5])  # Example of calibrated probabilities"
   ]
  },
  {
   "cell_type": "code",
   "execution_count": 4,
   "id": "07f477aa",
   "metadata": {
    "deletable": false,
    "lx_assignment_number": "3",
    "lx_assignment_type": "ASSIGNMENT",
    "lx_assignment_type2print": "Assignment",
    "lx_problem_cell_type": "PROBLEM",
    "lx_problem_number": "3",
    "lx_problem_points": "8"
   },
   "outputs": [],
   "source": [
    "# Generate probabilities on the test set using the logistic regression model\n",
    "test_probs = problem3_ps.predict(problem3_X_test).reshape(-1, 1)\n",
    "\n",
    "# Use the calibration model to refine these probabilities\n",
    "problem3_final_predictions = problem3_calibrator.predict(test_probs)"
   ]
  },
  {
   "cell_type": "markdown",
   "id": "51c0985f",
   "metadata": {
    "deletable": false,
    "lx_assignment_number": "3",
    "lx_assignment_type": "ASSIGNMENT",
    "lx_assignment_type2print": "Assignment",
    "lx_problem_cell_type": "Test",
    "lx_problem_number": "3",
    "lx_problem_points": "8"
   },
   "source": [
    "---\n",
    "#### Local Test for Assignment 3, PROBLEM 3\n",
    "Evaluate cell below to make sure your answer is valid.                             You **should not** modify anything in the cell below when evaluating it to do a local test of                             your solution.\n",
    "You may need to include and evaluate code snippets from lecture notebooks in cells above to make the local test work correctly sometimes (see error messages for clues). This is meant to help you become efficient at recalling materials covered in lectures that relate to this problem. Such local tests will generally not be available in the exam."
   ]
  },
  {
   "cell_type": "code",
   "execution_count": 5,
   "id": "1abcb445",
   "metadata": {
    "deletable": false,
    "lx_assignment_number": "3",
    "lx_assignment_type": "ASSIGNMENT",
    "lx_assignment_type2print": "Assignment",
    "lx_problem_cell_type": "Test",
    "lx_problem_number": "3",
    "lx_problem_points": "8"
   },
   "outputs": [
    {
     "name": "stdout",
     "output_type": "stream",
     "text": [
      "Your loss was correct for a test point\n"
     ]
    }
   ],
   "source": [
    "try:\n",
    "    import numpy as np\n",
    "    test_instance = ProportionalSpam()\n",
    "    test_loss = test_instance.loss(np.array([[1, 0, 1], [0, 1, 1]]), np.array([1, 0]), np.array([1.2, 0.4, 0.3, 0.9]))\n",
    "    assert (np.abs(test_loss - 1.2828629432232497) < 1e-6)\n",
    "    print(\"Your loss was correct for a test point\")\n",
    "except:\n",
    "    print(\"Your loss was not correct on a test point\")"
   ]
  }
 ],
 "metadata": {
  "kernelspec": {
   "display_name": "base",
   "language": "python",
   "name": "python3"
  },
  "language_info": {
   "codemirror_mode": {
    "name": "ipython",
    "version": 3
   },
   "file_extension": ".py",
   "mimetype": "text/x-python",
   "name": "python",
   "nbconvert_exporter": "python",
   "pygments_lexer": "ipython3",
   "version": "3.12.4"
  },
  "lx_assignment_number": 3,
  "lx_course_instance": "2024",
  "lx_course_name": "Introduction to Data Science",
  "lx_course_number": "1MS041"
 },
 "nbformat": 4,
 "nbformat_minor": 5
}
