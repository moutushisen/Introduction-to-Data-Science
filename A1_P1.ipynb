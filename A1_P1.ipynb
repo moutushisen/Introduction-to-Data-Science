{
 "cells": [
  {
   "cell_type": "code",
   "execution_count": 10,
   "metadata": {},
   "outputs": [
    {
     "name": "stdout",
     "output_type": "stream",
     "text": [
      "Good, you have answered either True or False. Hopefully they are the correct answers!\n"
     ]
    }
   ],
   "source": [
    "# Test locally to ensure an acceptable answer, True or False\\n\",\n",
    "TruthValueOfStatement0a = True\n",
    "TruthValueOfStatement0b = True\n",
    "TruthValueOfStatement0c = True\n",
    "   \n",
    "try:\n",
    "    assert(isinstance(TruthValueOfStatement0a, bool))\n",
    "    assert(isinstance(TruthValueOfStatement0b, bool))\n",
    "    assert(isinstance(TruthValueOfStatement0c, bool))\n",
    "except:\n",
    "    print(\"Try again. You are not writing True or False for your answers.\")\n",
    "else:\n",
    "    print(\"Good, you have answered either True or False. Hopefully they are the correct answers!\")\n"
   ]
  }
 ],
 "metadata": {
  "kernelspec": {
   "display_name": "base",
   "language": "python",
   "name": "python3"
  },
  "language_info": {
   "codemirror_mode": {
    "name": "ipython",
    "version": 3
   },
   "file_extension": ".py",
   "mimetype": "text/x-python",
   "name": "python",
   "nbconvert_exporter": "python",
   "pygments_lexer": "ipython3",
   "version": "3.12.4"
  }
 },
 "nbformat": 4,
 "nbformat_minor": 2
}
