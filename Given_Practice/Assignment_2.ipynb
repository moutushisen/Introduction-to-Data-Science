{
 "cells": [
  {
   "cell_type": "markdown",
   "id": "daa981f6",
   "metadata": {
    "deletable": false
   },
   "source": [
    "\n",
    "# Assignment 2 for Course 1MS041\n",
    "Make sure you pass the `# ... Test` cells and\n",
    " submit your solution notebook in the corresponding assignment on the course website. You can submit multiple times before the deadline and your highest score will be used."
   ]
  },
  {
   "cell_type": "markdown",
   "id": "5184e036",
   "metadata": {
    "deletable": false,
    "lx_assignment_number": "2",
    "lx_assignment_type": "ASSIGNMENT",
    "lx_assignment_type2print": "Assignment",
    "lx_problem_cell_type": "PROBLEM",
    "lx_problem_number": "1",
    "lx_problem_points": "8"
   },
   "source": [
    "---\n",
    "## Assignment 2, PROBLEM 1\n",
    "Maximum Points = 8"
   ]
  },
  {
   "cell_type": "markdown",
   "id": "db58f10b",
   "metadata": {
    "deletable": false,
    "lx_assignment_number": "2",
    "lx_assignment_type": "ASSIGNMENT",
    "lx_assignment_type2print": "Assignment",
    "lx_problem_cell_type": "PROBLEM",
    "lx_problem_number": "1",
    "lx_problem_points": "8"
   },
   "source": [
    "\n",
    "A courier company operates a fleet of delivery trucks that make deliveries to different parts of the city. The trucks are equipped with GPS tracking devices that record the location of each truck at regular intervals. The locations are divided into three regions: downtown, the suburbs, and the countryside. The following table shows the probabilities of a truck transitioning between these regions at each time step:\n",
    "\n",
    "| Current region | Probability of transitioning to downtown | Probability of transitioning to the suburbs | Probability of transitioning to the countryside |\n",
    "|----------------|--------------------------------------------|-----------------------------------------------|------------------------------------------------|\n",
    "| Downtown       | 0.3                                      | 0.4                                           | 0.3                                            |\n",
    "| Suburbs        | 0.2                                      | 0.5                                           | 0.3                                            |\n",
    "| Countryside    | 0.4                                      | 0.3                                           | 0.3                                            |\n",
    "\n",
    "1. If a truck is currently in the suburbs, what is the probability that it will be in the downtown region after two time steps? [1.5p]\n",
    "2. If a truck is currently in the suburbs, what is the probability that it will be in the downtown region **the first time** after two time steps? [1.5p]\n",
    "3. Is this Markov chain irreducible? [1.5p]\n",
    "4. What is the stationary distribution? [1.5p]\n",
    "5. Advanced question: What is the expected number of steps until the first time one enters the downtown region having started in the suburbs region. Hint: to get within 1 decimal point, it is enough to compute the probabilities for hitting times below 30. [2p]\n",
    "\n"
   ]
  },
  {
   "cell_type": "code",
   "execution_count": 3,
   "id": "2c601f0f",
   "metadata": {
    "deletable": false,
    "lx_assignment_number": "2",
    "lx_assignment_type": "ASSIGNMENT",
    "lx_assignment_type2print": "Assignment",
    "lx_problem_cell_type": "PROBLEM",
    "lx_problem_number": "1",
    "lx_problem_points": "8"
   },
   "outputs": [],
   "source": [
    "# Part 1\n",
    "\n",
    "# Fill in the answer to part 1 below as a decimal number\n",
    "# problem1_p1 = XXX\n",
    "\n",
    "\n",
    "import numpy as np\n",
    "\n",
    "# Transition matrix: [Downtown, Suburbs, Countryside]\n",
    "P = np.array([\n",
    "    [0.3, 0.4, 0.3],\n",
    "    [0.2, 0.5, 0.3],\n",
    "    [0.4, 0.3, 0.3]\n",
    "])\n",
    "\n",
    "# Part 1: Probability in downtown after 2 steps, starting from suburbs\n",
    "# Initial state: suburbs = [0,1,0]\n",
    "v0 = np.array([0, 1, 0])\n",
    "v2 = v0 @ np.linalg.matrix_power(P, 2)\n",
    "problem1_p1 = v2[0]  # Probability in downtown after 2 steps\n"
   ]
  },
  {
   "cell_type": "code",
   "execution_count": 4,
   "id": "52a172dc",
   "metadata": {
    "deletable": false,
    "lx_assignment_number": "2",
    "lx_assignment_type": "ASSIGNMENT",
    "lx_assignment_type2print": "Assignment",
    "lx_problem_cell_type": "PROBLEM",
    "lx_problem_number": "1",
    "lx_problem_points": "8"
   },
   "outputs": [],
   "source": [
    "# Part 2\n",
    "\n",
    "# Fill in the answer to part 2 below as a decimal number\n",
    "# problem1_p2 = XXX\n",
    "\n",
    "# Part 2: Probability first time in downtown at step 2, starting from suburbs\n",
    "# At step 1: not in downtown, so must be in suburbs or countryside\n",
    "# At step 2: in downtown, and not in downtown at step 1\n",
    "# P(suburbs->suburbs->downtown) + P(suburbs->countryside->downtown)\n",
    "p_sub_sub_down = P[1,1] * P[1,0]\n",
    "p_sub_coun_down = P[1,2] * P[2,0]\n",
    "problem1_p2 = p_sub_sub_down + p_sub_coun_down\n"
   ]
  },
  {
   "cell_type": "code",
   "execution_count": 6,
   "id": "a3b3872d",
   "metadata": {
    "deletable": false,
    "lx_assignment_number": "2",
    "lx_assignment_type": "ASSIGNMENT",
    "lx_assignment_type2print": "Assignment",
    "lx_problem_cell_type": "PROBLEM",
    "lx_problem_number": "1",
    "lx_problem_points": "8"
   },
   "outputs": [],
   "source": [
    "# Part 3\n",
    "\n",
    "# Fill in the answer to part 3 below as a boolean\n",
    "# problem1_irreducible = True/False\n",
    "\n",
    "# Part 3: Is the chain irreducible?\n",
    "problem1_irreducible = True  # All states communicate"
   ]
  },
  {
   "cell_type": "code",
   "execution_count": 7,
   "id": "1b9d0a00",
   "metadata": {
    "deletable": false,
    "lx_assignment_number": "2",
    "lx_assignment_type": "ASSIGNMENT",
    "lx_assignment_type2print": "Assignment",
    "lx_problem_cell_type": "PROBLEM",
    "lx_problem_number": "1",
    "lx_problem_points": "8"
   },
   "outputs": [],
   "source": [
    "# Part 4\n",
    "\n",
    "# Fill in the answer to part 4 below\n",
    "# the answer should be a numpy array of length 3\n",
    "# make sure that the entries sums to 1!\n",
    "# problem1_stationary = XXX\n",
    "\n",
    "# Part 4: Stationary distribution\n",
    "# Solve pi = pi P, sum(pi)=1\n",
    "A = np.transpose(P) - np.eye(3)\n",
    "A = np.vstack([A, np.ones(3)])\n",
    "b = np.zeros(4)\n",
    "b[3] = 1\n",
    "problem1_stationary = np.linalg.lstsq(A, b, rcond=None)[0]"
   ]
  },
  {
   "cell_type": "code",
   "execution_count": 8,
   "id": "481625e3",
   "metadata": {
    "deletable": false,
    "lx_assignment_number": "2",
    "lx_assignment_type": "ASSIGNMENT",
    "lx_assignment_type2print": "Assignment",
    "lx_problem_cell_type": "PROBLEM",
    "lx_problem_number": "1",
    "lx_problem_points": "8"
   },
   "outputs": [],
   "source": [
    "# Part 5\n",
    "\n",
    "# Fill in the answer to part 5 below\n",
    "# That is, the expected number of steps as a decimal number\n",
    "# problem1_ET = XXX\n",
    "\n",
    "# Part 5: Expected steps to downtown from suburbs (hitting time)\n",
    "# Let E[i] = expected steps from state i to downtown\n",
    "# E[0] = 0 (already in downtown)\n",
    "# E[1] = 1 + 0.2*E[0] + 0.5*E[1] + 0.3*E[2]\n",
    "# E[2] = 1 + 0.4*E[0] + 0.3*E[1] + 0.3*E[2]\n",
    "# Solve linear system:\n",
    "# E[0] = 0\n",
    "# E[1] = 1 + 0.2*0 + 0.5*E[1] + 0.3*E[2]\n",
    "# E[2] = 1 + 0.4*0 + 0.3*E[1] + 0.3*E[2]\n",
    "# Rearranged:\n",
    "# E[1] - 0.5*E[1] - 0.3*E[2] = 1\n",
    "# E[2] - 0.3*E[1] - 0.3*E[2] = 1\n",
    "# 0.5*E[1] - 0.3*E[2] = 1\n",
    "# -0.3*E[1] + 0.7*E[2] = 1\n",
    "\n",
    "A_ET = np.array([\n",
    "    [0.5, -0.3],\n",
    "    [-0.3, 0.7]\n",
    "])\n",
    "b_ET = np.array([1, 1])\n",
    "E1, E2 = np.linalg.solve(A_ET, b_ET)\n",
    "problem1_ET = E1  # Expected steps from suburbs to downtown\n",
    "\n",
    "# Answers:\n",
    "# problem1_p1: probability in downtown after 2 steps from suburbs\n",
    "# problem1_p2: probability first time in downtown at step 2 from suburbs\n",
    "# problem1_irreducible: True\n",
    "# problem1_stationary: stationary distribution\n",
    "# problem1_ET: expected steps from"
   ]
  },
  {
   "cell_type": "markdown",
   "id": "e78a4dee",
   "metadata": {
    "deletable": false,
    "lx_assignment_number": "2",
    "lx_assignment_type": "ASSIGNMENT",
    "lx_assignment_type2print": "Assignment",
    "lx_problem_cell_type": "PROBLEM",
    "lx_problem_number": "2",
    "lx_problem_points": "4"
   },
   "source": [
    "---\n",
    "## Assignment 2, PROBLEM 2\n",
    "Maximum Points = 4"
   ]
  },
  {
   "cell_type": "markdown",
   "id": "d9a825d1",
   "metadata": {
    "deletable": false,
    "lx_assignment_number": "2",
    "lx_assignment_type": "ASSIGNMENT",
    "lx_assignment_type2print": "Assignment",
    "lx_problem_cell_type": "PROBLEM",
    "lx_problem_number": "2",
    "lx_problem_points": "4"
   },
   "source": [
    "\n",
    "Use the **Multi-dimensional Constrained Optimisation** example (in `07-Optimization.ipynb`) to numerically find the MLe for the mean and variance parameter based on `normallySimulatedDataSamples`, an array obtained by a specific simulation of $30$ IID samples from the $Normal(10,2)$ random variable.\n",
    "\n",
    "Recall that $Normal(\\mu, \\sigma^2)$ RV has the probability density function given by:\n",
    "\n",
    "$$\n",
    "f(x ;\\mu, \\sigma) = \\displaystyle\\frac{1}{\\sigma\\sqrt{2\\pi}}\\exp\\left(\\frac{-1}{2\\sigma^2}(x-\\mu)^2\\right)\n",
    "$$\n",
    "\n",
    "The two parameters, $\\mu \\in \\mathbb{R} := (-\\infty,\\infty)$ and $\\sigma \\in (0,\\infty)$, are sometimes referred to as the location and scale parameters.\n",
    "\n",
    "You know that the log likelihood function for $n$ IID samples from a Normal RV with parameters $\\mu$ and $\\sigma$ simply follows from $\\sum_{i=1}^n \\log(f(x_i; \\mu,\\sigma))$, based on the IID assumption. \n",
    "\n",
    "NOTE: When setting bounding boxes for $\\mu$ and $\\sigma$ try to start with some guesses like $[-20,20]$ and $[0.1,5.0]$ and make it larger if the solution is at the boundary. Making the left bounding-point for $\\sigma$ too close to $0.0$ will cause division by zero Warnings. Other numerical instabilities can happen in such iterative numerical solutions to the MLe. You need to be patient and learn by trial-and-error. You will see the mathematical theory in more details in a future course in scientific computing/optimisation. So don't worry too much now except learning to use it for our problems.  "
   ]
  },
  {
   "cell_type": "code",
   "execution_count": 9,
   "id": "699b52ca",
   "metadata": {
    "deletable": false,
    "lx_assignment_number": "2",
    "lx_assignment_type": "ASSIGNMENT",
    "lx_assignment_type2print": "Assignment",
    "lx_problem_cell_type": "PROBLEM",
    "lx_problem_number": "2",
    "lx_problem_points": "4"
   },
   "outputs": [],
   "source": [
    "import numpy as np\n",
    "from scipy import optimize\n",
    "# do NOT change the next three lines\n",
    "np.random.seed(123456) # set seed\n",
    "# simulate 30 IID samples drawn from Normal(10,2)RV\n",
    "normallySimulatedDataSamples = np.random.normal(10,2,30) \n",
    "\n",
    "# define the negative log likelihood function\n",
    "def negLogLklOfIIDNormalSamples(parameters):\n",
    "    '''return the -log(likelihood) of normallySimulatedDataSamples with mean and var parameters'''\n",
    "    mu_param = parameters[0]\n",
    "    sigma_param = parameters[1]\n",
    "    if sigma_param <= 0:\n",
    "        return np.inf  # avoid invalid sigma\n",
    "    n = len(normallySimulatedDataSamples)\n",
    "    x = normallySimulatedDataSamples\n",
    "    # negative log likelihood for Normal(mu, sigma^2)\n",
    "    neg_log_lkl = n * np.log(sigma_param * np.sqrt(2 * np.pi)) + np.sum((x - mu_param) ** 2) / (2 * sigma_param ** 2)\n",
    "    return neg_log_lkl\n",
    "\n",
    "# bounding box for (mu, sigma)\n",
    "parameter_bounding_box = ((-20, 20), (0.1, 5.0))\n",
    "initial_arguments = np.array([10, 2])  # initial guess: mean=10, sigma=2\n",
    "\n",
    "result_problem2_opt = optimize.minimize(\n",
    "    negLogLklOfIIDNormalSamples,\n",
    "    initial_arguments,\n",
    "    bounds=parameter_bounding_box,\n",
    "    method='L-BFGS-B'\n",
    ")"
   ]
  },
  {
   "cell_type": "markdown",
   "id": "d64a351c",
   "metadata": {
    "deletable": false,
    "lx_assignment_number": "2",
    "lx_assignment_type": "ASSIGNMENT",
    "lx_assignment_type2print": "Assignment",
    "lx_problem_cell_type": "PROBLEM",
    "lx_problem_number": "3",
    "lx_problem_points": "4"
   },
   "source": [
    "---\n",
    "## Assignment 2, PROBLEM 3\n",
    "Maximum Points = 4"
   ]
  },
  {
   "cell_type": "markdown",
   "id": "0b9c787c",
   "metadata": {
    "deletable": false,
    "lx_assignment_number": "2",
    "lx_assignment_type": "ASSIGNMENT",
    "lx_assignment_type2print": "Assignment",
    "lx_problem_cell_type": "PROBLEM",
    "lx_problem_number": "3",
    "lx_problem_points": "4"
   },
   "source": [
    "\n",
    "\n",
    "Derive the maximum likelihood estimate for $n$ IID samples from a random variable with the following probability density function:\n",
    "$$\n",
    "f(x; \\lambda) = \\frac{1}{24} \\lambda^5 x^4 \\exp(-\\lambda x), \\qquad \\text{ where, } \\lambda>0, x > 0\n",
    "$$\n",
    "\n",
    "You can solve the MLe by hand (using pencil paper or using key-strokes). Present your solution as the return value of a function called `def MLeForAssignment2Problem3(x)`, where `x` is a list of $n$ input data points."
   ]
  },
  {
   "cell_type": "code",
   "execution_count": 11,
   "id": "41720f28",
   "metadata": {
    "deletable": false,
    "lx_assignment_number": "2",
    "lx_assignment_type": "ASSIGNMENT",
    "lx_assignment_type2print": "Assignment",
    "lx_problem_cell_type": "PROBLEM",
    "lx_problem_number": "3",
    "lx_problem_points": "4"
   },
   "outputs": [],
   "source": [
    "\n",
    "# do not change the name of the function, just replace XXX with the appropriate expressions for the MLe\n",
    "def MLeForAssignment2Problem3(x):\n",
    "    '''\n",
    "    Computes the maximum likelihood estimate (MLE) for lambda\n",
    "    for the given density f(x; lambda) = (1/24) * lambda^5 * x^4 * exp(-lambda * x)\n",
    "    for n IID samples x.\n",
    "    The MLE is: lambda_hat = 5n / sum(x)\n",
    "    '''\n",
    "    n = len(x)\n",
    "    s = sum(x)\n",
    "    lambda_hat = 5 * n / s"
   ]
  },
  {
   "cell_type": "markdown",
   "id": "2de9360d",
   "metadata": {
    "deletable": false,
    "lx_assignment_number": "2",
    "lx_assignment_type": "ASSIGNMENT",
    "lx_assignment_type2print": "Assignment",
    "lx_problem_cell_type": "PROBLEM",
    "lx_problem_number": "4",
    "lx_problem_points": "8"
   },
   "source": [
    "---\n",
    "## Assignment 2, PROBLEM 4\n",
    "Maximum Points = 8"
   ]
  },
  {
   "cell_type": "markdown",
   "id": "2e67892b",
   "metadata": {
    "deletable": false,
    "lx_assignment_number": "2",
    "lx_assignment_type": "ASSIGNMENT",
    "lx_assignment_type2print": "Assignment",
    "lx_problem_cell_type": "PROBLEM",
    "lx_problem_number": "4",
    "lx_problem_points": "8"
   },
   "source": [
    "\n",
    "## Random variable generation and transformation\n",
    "\n",
    "The purpose of this problem is to show that you can implement your own sampler, this will be built in the following three steps:\n",
    "\n",
    "1. [2p] Implement a Linear Congruential Generator where you tested out a good combination (a large $M$ with $a,b$ satisfying the Hull-Dobell (Thm 6.8)) of parameters. Follow the instructions in the code block.\n",
    "2. [2p] Using a generator construct random numbers from the uniform $[0,1]$ distribution.\n",
    "3. [4p] Using a uniform $[0,1]$ random generator, generate samples from \n",
    "\n",
    "$$p_0(x) = \\frac{\\pi}{2}|\\sin(2\\pi x)|, \\quad x \\in [0,1] \\enspace .$$\n",
    "\n",
    "Using the **Accept-Reject** sampler (**Algorithm 1** in TFDS notes) with sampling density given by the uniform $[0,1]$ distribution."
   ]
  },
  {
   "cell_type": "code",
   "execution_count": 19,
   "id": "530446bc",
   "metadata": {
    "deletable": false,
    "lx_assignment_number": "2",
    "lx_assignment_type": "ASSIGNMENT",
    "lx_assignment_type2print": "Assignment",
    "lx_problem_cell_type": "PROBLEM",
    "lx_problem_number": "4",
    "lx_problem_points": "8"
   },
   "outputs": [],
   "source": [
    "def problem4_LCG(size=None, seed=0):\n",
    "    \"\"\"\n",
    "    A linear congruential generator that generates pseudo random numbers according to size.\n",
    "    Uses parameters satisfying the Hull-Dobell theorem.\n",
    "    \"\"\"\n",
    "    # Parameters: M is large, a and b satisfy Hull-Dobell\n",
    "    M = 2**31 - 1  # a large prime (common choice)\n",
    "    a = 16807      # Lehmer's choice, primitive root modulo M\n",
    "    b = 0          # b=0 is fine for full period with this a, M\n",
    "\n",
    "    u = seed\n",
    "    out = []\n",
    "    for _ in range(size):\n",
    "        u = (a * u + b) % M\n",
    "        out.append(u / M)\n",
    "    return out"
   ]
  },
  {
   "cell_type": "code",
   "execution_count": 20,
   "id": "8d215c5a",
   "metadata": {
    "deletable": false,
    "lx_assignment_number": "2",
    "lx_assignment_type": "ASSIGNMENT",
    "lx_assignment_type2print": "Assignment",
    "lx_problem_cell_type": "PROBLEM",
    "lx_problem_number": "4",
    "lx_problem_points": "8"
   },
   "outputs": [],
   "source": [
    "\n",
    "def problem4_uniform(generator=None, period = 1, size=None, seed=0):\n",
    "    \"\"\"\n",
    "    Takes a generator and produces samples from the uniform [0,1] distribution according\n",
    "    to size.\n",
    "    \n",
    "    Parameters\n",
    "    -------------\n",
    "    generator : a function of type generator(size,seed) and produces the same result as problem1_LCG, i.e. pseudo random numbers in the range {0,1,...,period-1}\n",
    "    period : the period of the generator\n",
    "    seed : the seed to be used in the generator provided\n",
    "    size : an integer denoting how many samples should be produced\n",
    "    \n",
    "    Returns\n",
    "    --------------\n",
    "    out : a list of the uniform pseudo random numbers\n",
    "    \"\"\"\n",
    "    # Use the provided generator to get raw pseudo-random numbers in {0, 1, ..., period-1}\n",
    "    raw_samples = generator(size=size, seed=seed)\n",
    "    # Scale to [0,1]\n",
    "    out = [x / period for x in raw_samples]\n",
    "    return out"
   ]
  },
  {
   "cell_type": "code",
   "execution_count": 21,
   "id": "15832284",
   "metadata": {
    "deletable": false,
    "lx_assignment_number": "2",
    "lx_assignment_type": "ASSIGNMENT",
    "lx_assignment_type2print": "Assignment",
    "lx_problem_cell_type": "PROBLEM",
    "lx_problem_number": "4",
    "lx_problem_points": "8"
   },
   "outputs": [],
   "source": [
    "\n",
    "def problem4_accept_reject(uniformGenerator=None, n_iterations=None, seed=0):\n",
    "    \"\"\"\n",
    "    Takes a generator that produces uniform pseudo random [0,1] numbers \n",
    "    and produces samples from (pi/2)*abs(sin(x*2*pi)) using an Accept-Reject\n",
    "    sampler with the uniform distribution as the proposal distribution.\n",
    "    Runs n_iterations\n",
    "    \n",
    "    Parameters\n",
    "    -------------\n",
    "    generator : a function of the type generator(size,seed) that produces uniform pseudo random\n",
    "    numbers from [0,1]\n",
    "    seed : the seed to be used in the generator provided\n",
    "    n_iterations : an integer denoting how many attempts should be made in the accept-reject sampler\n",
    "    \n",
    "    Returns\n",
    "    --------------\n",
    "    out : a list of the pseudo random numbers with the specified distribution\n",
    "    \"\"\"\n",
    "    \n",
    "    \"\"\"\n",
    "    Accept-Reject sampler for p0(x) = (pi/2)*|sin(2*pi*x)| on [0,1] using uniform proposal.\n",
    "    \"\"\"\n",
    "    out = []\n",
    "    # Generate 2*n_iterations uniform numbers for x and u\n",
    "    uniforms = uniformGenerator(size=2 * n_iterations, seed=seed)\n",
    "    # The maximum of p0(x) is pi/2 (at x=1/4, 3/4, etc.)\n",
    "    c = np.pi / 2\n",
    "    for i in range(n_iterations):\n",
    "        x = uniforms[2 * i]\n",
    "        u = uniforms[2 * i + 1]\n",
    "        px = (np.pi / 2) * abs(np.sin(2 * np.pi * x))\n",
    "        if u < px / c:\n",
    "            out.append(x)\n",
    "    return out"
   ]
  },
  {
   "cell_type": "markdown",
   "id": "6479a17c",
   "metadata": {
    "deletable": false,
    "lx_assignment_number": "2",
    "lx_assignment_type": "ASSIGNMENT",
    "lx_assignment_type2print": "Assignment",
    "lx_problem_cell_type": "Test",
    "lx_problem_number": "4",
    "lx_problem_points": "8"
   },
   "source": [
    "---\n",
    "#### Local Test for Assignment 2, PROBLEM 4\n",
    "Evaluate cell below to make sure your answer is valid.                             You **should not** modify anything in the cell below when evaluating it to do a local test of                             your solution.\n",
    "You may need to include and evaluate code snippets from lecture notebooks in cells above to make the local test work correctly sometimes (see error messages for clues). This is meant to help you become efficient at recalling materials covered in lectures that relate to this problem. Such local tests will generally not be available in the exam."
   ]
  },
  {
   "cell_type": "code",
   "execution_count": 22,
   "id": "26cd1592",
   "metadata": {
    "deletable": false,
    "lx_assignment_number": "2",
    "lx_assignment_type": "ASSIGNMENT",
    "lx_assignment_type2print": "Assignment",
    "lx_problem_cell_type": "Test",
    "lx_problem_number": "4",
    "lx_problem_points": "8"
   },
   "outputs": [
    {
     "name": "stdout",
     "output_type": "stream",
     "text": [
      "LCG output: [7.826369259425611e-06, 0.13153778814316625, 0.7556053221950332, 0.4586501319234493, 0.5327672374121692, 0.21895918632809036, 0.04704461621448613, 0.678864716868319, 0.6792964058366122, 0.9346928959408276]\n",
      "Uniform sampler [3.644437185986921e-15, 6.125205578488219e-11, 3.51856147193764e-10, 2.1357561095479172e-10, 2.4808907772426417e-10, 1.0196081662087291e-10, 2.190685655753733e-11, 3.1612101811191066e-10, 3.163220389526963e-10, 4.3525029736388376e-10]\n",
      "Accept-Reject sampler [3.51856147193764e-10, 2.4808907772426417e-10, 3.163220389526963e-10, 1.785820711722791e-10, 3.869483929589921e-10, 3.1252828631073734e-10, 1.7854182558759897e-10, 1.9440705638947614e-10, 2.742636218346156e-10, 3.9402716369489213e-10, 1.937147961206251e-10, 4.2390116998625887e-10, 1.222141989443378e-10, 3.4276483809953736e-10, 2.945952900602199e-10, 4.614877449327775e-10]\n"
     ]
    }
   ],
   "source": [
    "\n",
    "# If you managed to solve all three parts you can test the following code to see if it runs\n",
    "# you have to change the period to match your LCG though, this is marked as XXX.\n",
    "# It is a very good idea to check these things using the histogram function in sagemath\n",
    "# try with a larger number of samples, up to 10000 should run\n",
    "\n",
    "print(\"LCG output: %s\" % problem4_LCG(size=10, seed=1))\n",
    "\n",
    "period = 2**31 - 1\n",
    "\n",
    "print(\"Uniform sampler %s\" % problem4_uniform(generator=problem4_LCG, period=period, size=10, seed=1))\n",
    "\n",
    "uniform_sampler = lambda size, seed: problem4_uniform(generator=problem4_LCG, period=period, size=size, seed=seed)\n",
    "\n",
    "print(\"Accept-Reject sampler %s\" % problem4_accept_reject(uniformGenerator=uniform_sampler, n_iterations=20, seed=1))"
   ]
  },
  {
   "cell_type": "code",
   "execution_count": 23,
   "id": "5318f370",
   "metadata": {
    "deletable": false,
    "lx_assignment_number": "2",
    "lx_assignment_type": "ASSIGNMENT",
    "lx_assignment_type2print": "Assignment",
    "lx_problem_cell_type": "Test",
    "lx_problem_number": "4",
    "lx_problem_points": "8"
   },
   "outputs": [
    {
     "name": "stdout",
     "output_type": "stream",
     "text": [
      "Accept-Reject sampler [0.763774618976614, 0.651592972722763, 0.0938595867742349, 0.8357651039198697, 0.762280082457942, 0.22876222127045265, 0.9014274576114836, 0.21659939713061338, 0.23308445025757263, 0.2187810373376886, 0.28978161459048557, 0.8375779756625729, 0.6422943629324456]\n"
     ]
    }
   ],
   "source": [
    "\n",
    "# If however you did not manage to implement either part 1 or part 2 but still want to check part 3, you can run the code below\n",
    "\n",
    "def testUniformGenerator(size,seed):\n",
    "    import random\n",
    "    random.seed(seed)\n",
    "    \n",
    "    return [random.uniform(0,1) for s in range(size)]\n",
    "\n",
    "print(\"Accept-Reject sampler %s\" % problem4_accept_reject(uniformGenerator=testUniformGenerator, n_iterations=20, seed=1))"
   ]
  }
 ],
 "metadata": {
  "kernelspec": {
   "display_name": "base",
   "language": "python",
   "name": "python3"
  },
  "language_info": {
   "codemirror_mode": {
    "name": "ipython",
    "version": 3
   },
   "file_extension": ".py",
   "mimetype": "text/x-python",
   "name": "python",
   "nbconvert_exporter": "python",
   "pygments_lexer": "ipython3",
   "version": "3.12.4"
  },
  "lx_assignment_number": 2,
  "lx_course_instance": "2024",
  "lx_course_name": "Introduction to Data Science",
  "lx_course_number": "1MS041"
 },
 "nbformat": 4,
 "nbformat_minor": 5
}
