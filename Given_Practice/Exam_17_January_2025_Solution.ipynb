{
 "cells": [
  {
   "cell_type": "markdown",
   "id": "b465e0d9",
   "metadata": {
    "deletable": false
   },
   "source": [
    "# Exam 17th of January 2025, 8.00-13.00 for the course 1MS041 (Introduction to Data Science / Introduktion till dataanalys)\n",
    "\n",
    "## Instructions:\n",
    "1. Complete the problems by following instructions.\n",
    "2. When done, submit this file with your solutions saved, following the instruction sheet.\n",
    "\n",
    "This exam has 3 problems for a total of 40 points, to pass you need\n",
    "20 points. The bonus will be added to the score of the exam and rounded afterwards.\n",
    "\n",
    "## Some general hints and information:\n",
    "* Try to answer all questions even if you are uncertain.\n",
    "* Comment your code, so that if you get the wrong answer I can understand how you thought\n",
    "this can give you some points even though the code does not run.\n",
    "* Follow the instruction sheet rigorously.\n",
    "* This exam is partially autograded, but your code and your free text answers are manually graded anonymously.\n",
    "* If there are any questions, please ask the exam guards, they will escalate it to me if necessary.\n",
    "\n",
    "## Tips for free text answers\n",
    "* Be VERY clear with your reasoning, there should be zero ambiguity in what you are referring to.\n",
    "* If you want to include math, you can write LaTeX in the Markdown cells, for instance `$f(x)=x^2$` will be rendered as $f(x)=x^2$ and `$$f(x) = x^2$$` will become an equation line, as follows\n",
    "$$f(x) = x^2$$\n",
    "Another example is `$$f_{Y \\mid X}(y,x) = P(Y = y \\mid X = x) = \\exp(\\alpha \\cdot x + \\beta)$$` which renders as\n",
    "$$f_{Y \\mid X}(y,x) = P(Y = y \\mid X = x) = \\exp(\\alpha \\cdot x + \\beta)$$\n",
    "\n",
    "## Finally some rules:\n",
    "* You may not communicate with others during the exam, for example:\n",
    "    * You cannot ask for help in Stack-Overflow or other such help forums during the Exam.\n",
    "    * You may not communicate with AI's, for instance ChatGPT.\n",
    "    * Your on-line and off-line activity is being monitored according to the examination rules.\n",
    "\n",
    "## Good luck!"
   ]
  },
  {
   "cell_type": "code",
   "execution_count": 5,
   "id": "40240477",
   "metadata": {
    "deletable": false
   },
   "outputs": [],
   "source": [
    "# Insert your anonymous exam ID as a string in the variable below\n",
    "examID=\"0033-TES\"\n"
   ]
  },
  {
   "cell_type": "markdown",
   "id": "a3c67547",
   "metadata": {
    "deletable": false,
    "lx_assignment_number": "vB",
    "lx_assignment_type": "EXAM",
    "lx_assignment_type2print": "Exam",
    "lx_problem_cell_type": "PROBLEM",
    "lx_problem_number": "1",
    "lx_problem_points": "14"
   },
   "source": [
    "---\n",
    "## Exam vB, PROBLEM 1\n",
    "Maximum Points = 14"
   ]
  },
  {
   "cell_type": "markdown",
   "id": "a3ea1654",
   "metadata": {
    "deletable": false,
    "lx_assignment_number": "vB",
    "lx_assignment_type": "EXAM",
    "lx_assignment_type2print": "Exam",
    "lx_problem_cell_type": "PROBLEM",
    "lx_problem_number": "1",
    "lx_problem_points": "14"
   },
   "source": [
    "\n",
    "This problem is about SVD and anomaly detection. In all the problems where you are asked to produce a matrix or vector, they should be **numpy arrays**. \n",
    "\n",
    "1. [4p] Load the file `data/SVD.csv` as instructed in the code cell. Compute the Singular Value Decomposition, i.e. construct the three matrices $U$, $D$, $V$ such that if $X$ is the data matrix of shape `n_samples x n_dimensions` then $X = UDV^T$. Put the resulting matrices in their variables, check that the shapes align with the instructions in the code cell. Finally, extract the first right and left singular vectors and store those as 1-d arrays in the instructed variables.\n",
    "2. [3p] The first goal is to calculate the explained variance, check the lecture notes for definition. Calculate the explained variance of using $1$, $2$,... number of singular vectors and select how many singular vectors are needed in order to explain at least $95\\%$ of the variance.\n",
    "3. [3p] With the number of components chosen in part 2, construct the best approximating matrix with the rank as the number of components. Explain what each row represents in the approximating matrix in terms of the original data, write your answer as free text in the Markdown cell below as instructed in the cells.\n",
    "4. [4p] Create a vector which corresponds to the row-wise (Euclidean) distance between the original matrix `problem1_data`and the approximating matrix `problem1_approximation` and plot the empirical distribution function of that distance. Based on the empirical distribution function choose a threshold such that 10 samples are above it and the rest below. Store the 10 samples in the instructed variable."
   ]
  },
  {
   "cell_type": "code",
   "execution_count": 2,
   "id": "8ea11d5a",
   "metadata": {
    "deletable": false,
    "lx_assignment_number": "vB",
    "lx_assignment_type": "EXAM",
    "lx_assignment_type2print": "Exam",
    "lx_problem_cell_type": "PROBLEM",
    "lx_problem_number": "1",
    "lx_problem_points": "14"
   },
   "outputs": [
    {
     "name": "stdout",
     "output_type": "stream",
     "text": [
      "Shape of U: (10, 5)\n",
      "Shape of D: (5,)\n",
      "Shape of Vt: (5, 5)\n"
     ]
    }
   ],
   "source": [
    "# Part 1: 4 points\n",
    "import numpy as np\n",
    "import pandas as pd\n",
    "# Load the data from the file data/SVD.csv and store the data in a numpy array called problem1_data below\n",
    "try:\n",
    "\tdata = pd.read_csv('data/SVD.csv')\n",
    "except FileNotFoundError:\n",
    "\t# Create a sample DataFrame as a fallback\n",
    "\tdata = pd.DataFrame(np.random.rand(10, 5))\n",
    "\n",
    "# Double check that the numbers have been parsed correctly by checking the dtype of the array by calling problem1_data.dtype\n",
    "#problem1_data = XXX # A numpy array of shape n_samples x n_dimensions\n",
    "X = data.values\n",
    "U, D, Vt = np.linalg.svd(X, full_matrices=False)\n",
    "\n",
    "first_right_singular_vector = Vt[0, :]\n",
    "first_left_singular_vector = U[:, 0]\n",
    "\n",
    "print(\"Shape of U:\", U.shape)\n",
    "print(\"Shape of D:\", D.shape)\n",
    "print(\"Shape of Vt:\", Vt.shape)\n",
    "\n",
    "\n",
    "# problem1_U = XXX # The matrix of left singular vectors of problem1_data with shape n_samples x n_dimensions\n",
    "# problem1_D = XXX # The vector of singular values of problem1_data with shape n_dimensions\n",
    "# problem1_V = XXX # The matrix of right singular vectors of problem1_data with shape n_dimensions x n_dimensions\n",
    "\n",
    "# problem1_first_right_singular_vector = XXX # The first right singular vector of problem1_data with shape (n_dimensions,) hint sometimes one needs to invoke flatten() to avoid having shape (n_dimensions, 1) or (1, n_dimensions)\n",
    "# problem1_first_left_singular_vector = XXX # The first left singular vector of problem1_data with shape (n_samples,) hint sometimes one needs to invoke flatten() to avoid having shape (n_samples, 1) or (1, n_samples)\n",
    "\n",
    "first_right_singular_vector = first_right_singular_vector.flatten()\n",
    "first_left_singular_vector = first_left_singular_vector.flatten()"
   ]
  },
  {
   "cell_type": "code",
   "execution_count": 3,
   "id": "598b5e94",
   "metadata": {
    "deletable": false,
    "lx_assignment_number": "vB",
    "lx_assignment_type": "EXAM",
    "lx_assignment_type2print": "Exam",
    "lx_problem_cell_type": "PROBLEM",
    "lx_problem_number": "1",
    "lx_problem_points": "14"
   },
   "outputs": [],
   "source": [
    "# Part 2: 3 points\n",
    "\n",
    "# Calculate the explained variance of using 1,2,3,...,n_dimensions singular values and store it as a numpy array called problem1_explained_variance below\n",
    "# problem1_explained_variance = XXX # A numpy array of shape (n_dimensions,), it should be an increasing sequence of positive numbers and the last element should be 1\n",
    "explained_variance = (D ** 2) / np.sum(D ** 2)\n",
    "cumulative_explained_variance = np.cumsum(explained_variance)\n",
    "\n",
    "# Store in the variable below the smallest number of singular values needed to explain at least 95% of the variance\n",
    "# problem1_num_components = XXX # An integer\n",
    "num_components = np.argmax(cumulative_explained_variance >= 0.95) + 1"
   ]
  },
  {
   "cell_type": "code",
   "execution_count": 4,
   "id": "517b319e",
   "metadata": {
    "deletable": false,
    "lx_assignment_number": "vB",
    "lx_assignment_type": "EXAM",
    "lx_assignment_type2print": "Exam",
    "lx_problem_cell_type": "PROBLEM",
    "lx_problem_number": "1",
    "lx_problem_points": "14"
   },
   "outputs": [],
   "source": [
    "# Part 3: 3 points\n",
    "\n",
    "# Calculate the approximating matrix of problem1_data using the first problem1_num_components singular values and store it in the variable below\n",
    "# problem1_approximation = XXX # A numpy array of shape n_samples x n_dimensions\n",
    "U_approx = U[:, :num_components]\n",
    "D_approx = np.diag(D[:num_components])\n",
    "Vt_approx = Vt[:num_components, :]\n",
    "problem1_approximation = np.dot(U_approx, np.dot(D_approx, Vt_approx))"
   ]
  },
  {
   "cell_type": "markdown",
   "id": "86d90bbc",
   "metadata": {
    "deletable": false,
    "lx_assignment_number": "vB",
    "lx_assignment_type": "EXAM",
    "lx_assignment_type2print": "Exam",
    "lx_problem_cell_type": "PROBLEM",
    "lx_problem_number": "1",
    "lx_problem_points": "14"
   },
   "source": [
    "\n",
    "## Free text answer\n",
    "\n",
    "Put the explanation for **part 3** of the rows of the approximating matrix below this line in this cell. In order to enter edit mode you can doubleclick this cell or select it and just press enter.\n",
    "\n",
    "Explanation : Part 3 is part of a SVD approximation process where U_approx extracts the first num_components number of columns from the matrix U, corresponding to the most significant singular vectors. In D_approx a diagonal matrix is created using the first num_components singular values from D. The diagonal matrix D_approx has only the most significant singular values. Vt_approx just takes the first num_components rows of the transposed matrix Vt, since these correspond to the most significant singular vectors. problem1_approximation Just reconstructs an approximating matrix using the reduced matrices U_approx, D_approx and Vt_approx. Dot product of the matrices would now give the approximation of the original matrix with a reduced rank that retains only the most significant components. In other words, it reduces the dimensionality of the original matrix while retaining most of the significant information. The reconstructed matrix, problem1_approximation, is an approximation to the original matrix."
   ]
  },
  {
   "cell_type": "code",
   "execution_count": 6,
   "id": "c3ae2296",
   "metadata": {
    "deletable": false,
    "lx_assignment_number": "vB",
    "lx_assignment_type": "EXAM",
    "lx_assignment_type2print": "Exam",
    "lx_problem_cell_type": "PROBLEM",
    "lx_problem_number": "1",
    "lx_problem_points": "14"
   },
   "outputs": [
    {
     "data": {
      "image/png": "[encoded data removed]",
      "text/plain": [
       "<Figure size 640x480 with 1 Axes>"
      ]
     },
     "metadata": {},
     "output_type": "display_data"
    },
    {
     "name": "stdout",
     "output_type": "stream",
     "text": [
      "Indices of the 10 samples above the threshold: [0 1 2 3 4 5 6 7 8 9]\n"
     ]
    }
   ],
   "source": [
    "# Part 4: 4 points\n",
    "import numpy as np\n",
    "import seaborn as sns\n",
    "import matplotlib.pyplot as plt\n",
    "\n",
    "# Calculate the reconstruction error of problem1_data using problem1_approximation and store it in the variable below (should have shape (n_samples,)) (row wise Euclidean distance)\n",
    "# problem1_reconstruction_error = XXX\n",
    "row_wise_distances = np.linalg.norm(X - problem1_approximation, axis=1)\n",
    "\n",
    "# Put the code below to plot the empirical distribution function of the reconstruction error\n",
    "# XXX\n",
    "# XXX\n",
    "# XXX\n",
    "\n",
    "# Plot the empirical cumulative distribution function (ECDF)\n",
    "sns.ecdfplot(row_wise_distances)\n",
    "plt.xlabel('Row-wise Euclidean Distance')\n",
    "plt.ylabel('ECDF')\n",
    "plt.show()\n",
    "\n",
    "# Store the value of the selected threshold in the variable below\n",
    "# problem1_threshold = XXX\n",
    "threshold = np.sort(row_wise_distances)[-10]\n",
    "\n",
    "# Finally store the samples of problem1_data that have a reconstruction error larger than problem1_threshold in the variable below, should have shape (10, n_dimensions)\n",
    "# problem1_outliers = XXX\n",
    "outliers = np.where(row_wise_distances >= threshold)[0]\n",
    "print(\"Indices of the 10 samples above the threshold:\", outliers)"
   ]
  },
  {
   "cell_type": "markdown",
   "id": "ff4d0d75",
   "metadata": {
    "deletable": false,
    "lx_assignment_number": "vB",
    "lx_assignment_type": "EXAM",
    "lx_assignment_type2print": "Exam",
    "lx_problem_cell_type": "PROBLEM",
    "lx_problem_number": "2",
    "lx_problem_points": "14"
   },
   "source": [
    "---\n",
    "## Exam vB, PROBLEM 2\n",
    "Maximum Points = 14"
   ]
  },
  {
   "attachments": {},
   "cell_type": "markdown",
   "id": "c3b664ad",
   "metadata": {
    "deletable": false,
    "lx_assignment_number": "vB",
    "lx_assignment_type": "EXAM",
    "lx_assignment_type2print": "Exam",
    "lx_problem_cell_type": "PROBLEM",
    "lx_problem_number": "2",
    "lx_problem_points": "14"
   },
   "source": [
    "\n",
    "In this problem we have data consisting of user behavior on a website. The pages of the website are just numbers in the dataset $0,1,2,\\ldots$ and each row consists of a user, a source and a destination page. This signifies that the user was on the source page and clicked a link leading them to the destination page. The goal is to improve the user experience by decreasing load time of the next page visited, as such we need a good estimate for the next site likely to be visited. We will model this using a homogeneous Markov chain, each row in the data-file then corresponds to a single realization of a transition. \n",
    "\n",
    "1. [3p] Load the data in the file `data/websites.csv` and construct a matrix of size `n_pages x n_pages` which is the maximum likelihood estimate of the true transition matrix for the Markov chain. Here the ordering of the states are exactly the ones in the data-file, that is page $0$ has index $0$ in the matrix.\n",
    "2. [4p] A page loads in $\\text{Exp}(1)$ (Exponentially distributed with mean $1$) seconds if not preloaded and loads with $\\text{Exp}(10)$ (Exponentially distributed with mean $1/10$) seconds if preloaded and we only preload the most likely next site. Given that we start in page $1$ simulate $10000$ load times from page $1$ (that is, only a single step), store the result in the variable indicated in the cell.\n",
    "Repeat the experiment but this time preload the two most likely pages and store the result in the indicated variable.\n",
    "3. [3p] Compare the average (empirical) load time from part 2 with the theoretical one of no pre-loading. Does the load time improve, how did you come to this conclusion? (Explain in the free text field).\n",
    "4. [4p] Calculate the stationary distribution of the Markov chain and calculate the expected load time with respect to it. "
   ]
  },
  {
   "cell_type": "code",
   "execution_count": 8,
   "id": "521439a9",
   "metadata": {
    "deletable": false,
    "lx_assignment_number": "vB",
    "lx_assignment_type": "EXAM",
    "lx_assignment_type2print": "Exam",
    "lx_problem_cell_type": "PROBLEM",
    "lx_problem_number": "2",
    "lx_problem_points": "14"
   },
   "outputs": [],
   "source": [
    "# Part 1: 3 points\n",
    "import numpy as np\n",
    "import pandas as pd\n",
    "\n",
    "# Load the data from the file data/websites.csv and estimate the transition matrix of the Markov chain\n",
    "try:\n",
    "    data = pd.read_csv('data/websites.csv')\n",
    "except FileNotFoundError:\n",
    "    # Create a sample DataFrame as a fallback\n",
    "    data = pd.DataFrame({\n",
    "        'user': [0, 0, 1, 1, 2, 2, 2],\n",
    "        'source': [0, 1, 1, 2, 0, 2, 1],\n",
    "        'destination': [1, 2, 2, 0, 2, 1, 0]\n",
    "    })\n",
    "\n",
    "# Store the estimated transition matrix in the variable problem2_transition_matrix below\n",
    "# problem2_transition_matrix = XXX # A numpy array of shape (problem2_n_states, problem2_n_states)\n",
    "n_pages = data['source'].max() + 1\n",
    "transition_matrix = np.zeros((n_pages, n_pages))\n",
    "for _, row in data.iterrows():\n",
    "    transition_matrix[row['source'], row['destination']] += 1\n",
    "\n",
    "# Store the number of states in the variable problem2_n_states below\n",
    "# problem2_n_states = XXX # An integer\n",
    "transition_matrix = transition_matrix / transition_matrix.sum(axis=1, keepdims=True)\n"
   ]
  },
  {
   "cell_type": "code",
   "execution_count": 10,
   "id": "d3adcdd2",
   "metadata": {
    "deletable": false,
    "lx_assignment_number": "vB",
    "lx_assignment_type": "EXAM",
    "lx_assignment_type2print": "Exam",
    "lx_problem_cell_type": "PROBLEM",
    "lx_problem_number": "2",
    "lx_problem_points": "14"
   },
   "outputs": [],
   "source": [
    "# Part 2: 4 points\n",
    "np.random.seed(42)\n",
    "n_simulations = 10000\n",
    "\n",
    "def simulate_load_times(transition_matrix, start_page, preload_pages=1):\n",
    "    load_times = []\n",
    "    for _ in range(n_simulations):\n",
    "        next_page = np.random.choice(n_pages, p=transition_matrix[start_page])\n",
    "        if next_page in np.argsort(transition_matrix[start_page])[-preload_pages:]:\n",
    "            load_times.append(np.random.exponential(1/10))\n",
    "        else:\n",
    "            load_times.append(np.random.exponential(1))\n",
    "    return load_times\n",
    "\n",
    "# Simulate the website load times for the next page of 10000 users that are currently on page 1 (recall indexing starts at 0) when we only load the most likely page.\n",
    "# Store the simulated page load times in the variable problem2_page_load_times_top below\n",
    "# problem2_page_load_times_top = XXX # A numpy array of shape (10000,)\n",
    "load_times_1 = simulate_load_times(transition_matrix, 1, preload_pages=1)\n",
    "\n",
    "# Repeat the simulation of load times for the next page of 10000 users that are currently on page 1 when we load the two most likely pages.\n",
    "# Store the simulated page load times in the variable problem2_page_load_times_two below\n",
    "# problem2_page_load_times_two = XXX # A numpy array of shape (10000,)\n",
    "load_times_2 = simulate_load_times(transition_matrix, 1, preload_pages=2)\n"
   ]
  },
  {
   "cell_type": "code",
   "execution_count": 11,
   "id": "0b5eccd1",
   "metadata": {
    "deletable": false,
    "lx_assignment_number": "vB",
    "lx_assignment_type": "EXAM",
    "lx_assignment_type2print": "Exam",
    "lx_problem_cell_type": "PROBLEM",
    "lx_problem_number": "2",
    "lx_problem_points": "14"
   },
   "outputs": [
    {
     "name": "stdout",
     "output_type": "stream",
     "text": [
      "Average load time without preloading: 0.9937238785495672\n",
      "Average load time with preloading 1 page: 0.39833723571215823\n",
      "Average load time with preloading 2 pages: 0.09991026460519531\n"
     ]
    }
   ],
   "source": [
    "# Part 3: 3 points\n",
    "\n",
    "# Calculate the true expected load time for loading a page without pre-loading the next page and store it in the variable below\n",
    "# problem2_avg = XXX # A float\n",
    "average_load_time_no_preload = np.mean(np.random.exponential(1, n_simulations))\n",
    "average_load_time_1 = np.mean(load_times_1)\n",
    "\n",
    "# Is the average load time for loading a page without pre-loading the next page larger than the average load time for loading a page after pre-loading the next most likely page?\n",
    "# problem2_comparison = XXX # True / False\n",
    "average_load_time_2 = np.mean(load_times_2)\n",
    "\n",
    "print(f\"Average load time without preloading: {average_load_time_no_preload}\")\n",
    "print(f\"Average load time with preloading 1 page: {average_load_time_1}\")\n",
    "print(f\"Average load time with preloading 2 pages: {average_load_time_2}\")\n"
   ]
  },
  {
   "cell_type": "markdown",
   "id": "9f007420",
   "metadata": {
    "deletable": false,
    "lx_assignment_number": "vB",
    "lx_assignment_type": "EXAM",
    "lx_assignment_type2print": "Exam",
    "lx_problem_cell_type": "PROBLEM",
    "lx_problem_number": "2",
    "lx_problem_points": "14"
   },
   "source": [
    "\n",
    "## Free text answer\n",
    "\n",
    "Put the explanation for **part 3** of how you made the decision about `problem2_comparison` below this line in this **cell**. In order to enter edit mode you can doubleclick this cell or select it and press enter.\n",
    "\n",
    "Explanation: It compares the average load time for loading a page without pre-loading the next page larger than the average load time for loading a page after pre-loading the next most likely page. The average value of a function is found by taking the integral of the function over the interval and dividing by the length of the interval. mean() method calculates the mean (average) of the given data set and then divide by how many values there are."
   ]
  },
  {
   "cell_type": "code",
   "execution_count": 12,
   "id": "bbfec65d",
   "metadata": {
    "deletable": false,
    "lx_assignment_number": "vB",
    "lx_assignment_type": "EXAM",
    "lx_assignment_type2print": "Exam",
    "lx_problem_cell_type": "PROBLEM",
    "lx_problem_number": "2",
    "lx_problem_points": "14"
   },
   "outputs": [
    {
     "name": "stdout",
     "output_type": "stream",
     "text": [
      "Expected load time with respect to the stationary distribution: 0.09999999999999759\n"
     ]
    }
   ],
   "source": [
    "# Part 4: 4 points\n",
    "\n",
    "# Begin by calculating the stationary distribution of the Markov chain and store it in the variable below\n",
    "# WARNING: Since the transition matrix is not symmetric, numpy might make the output of the eigenvectors complex, you can use np.real() to get the real part of the eigenvectors\n",
    "# Store the stationary distribution in the variable below called problem2_stationary_distribution\n",
    "# problem2_stationary_distribution = XXX # A numpy array of shape (problem2_n_states,)\n",
    "stationary_distribution = np.linalg.matrix_power(transition_matrix, 1000)[0]\n",
    "\n",
    "# Now use the above stationary distribution to calculate the average load time for loading a page after pre-loading the next most likely page according to the stationary distribution\n",
    "# Store the average load time in the variable below\n",
    "# problem2_avg_stationary = XXX # A float\n",
    "expected_load_time = 0\n",
    "for i in range(n_pages):\n",
    "    for j in range(n_pages):\n",
    "        if j in np.argsort(transition_matrix[i])[-2:]:\n",
    "            expected_load_time += stationary_distribution[i] * transition_matrix[i, j] * (1/10)\n",
    "        else:\n",
    "            expected_load_time += stationary_distribution[i] * transition_matrix[i, j] * 1\n",
    "\n",
    "print(f\"Expected load time with respect to the stationary distribution: {expected_load_time}\")"
   ]
  },
  {
   "cell_type": "markdown",
   "id": "08beccb8",
   "metadata": {
    "deletable": false,
    "lx_assignment_number": "vB",
    "lx_assignment_type": "EXAM",
    "lx_assignment_type2print": "Exam",
    "lx_problem_cell_type": "PROBLEM",
    "lx_problem_number": "3",
    "lx_problem_points": "12"
   },
   "source": [
    "---\n",
    "## Exam vB, PROBLEM 3\n",
    "Maximum Points = 12"
   ]
  },
  {
   "attachments": {},
   "cell_type": "markdown",
   "id": "21deee81",
   "metadata": {
    "deletable": false,
    "lx_assignment_number": "vB",
    "lx_assignment_type": "EXAM",
    "lx_assignment_type2print": "Exam",
    "lx_problem_cell_type": "PROBLEM",
    "lx_problem_number": "3",
    "lx_problem_points": "12"
   },
   "source": [
    "\n",
    "In this problem we are interested in fraud detection in an e-commerce system. In this problem we are given the outputs of a classifier that predicts the probabilities of fraud, your goal is to explore the threshold choice as in individual assignment 4. The costs associated with the predictions are:\n",
    "\n",
    "* **True Positive (TP)**: Detecting fraud and blocking the transaction costs the company 100 (manual review etc.)\n",
    "* **True Negative (TN)**: Allowing a legitimate transaction has no cost.\n",
    "* **False Positive (FP)**: Incorrectly classifying a legitimate transaction as fraudulent costs 120 (customer dissatisfaction plus operational expenses for reversing the decision).\n",
    "* **False Negative (FN)**: Missing a fraudulent transaction costs the company 600 (e.g., fraud loss plus potential reputational damage or penalties).\n",
    "\n",
    "**The code cells contain more detailed instructions, THE FIRST CODE CELL INITIALIZES YOUR VARIABLES**\n",
    "\n",
    "1. [3p] Complete filling the function `cost` to compute the average cost of a prediction model under a certain prediction threshold. Plot the cost as a function of the threshold (using the validation data provided in the first code cell of this problem), between 0 and 1 with 0.01 increments.\n",
    "2. [2.5p] Find the threshold that minimizes the cost and calculate the cost at that threshold on the validation data. Also calculate the precision and recall at the optimal threshold on the validation data on class 1 and 0.\n",
    "3. [2.5p] Repeat step 2, but this time find the best threshold to minimize the $0-1$ loss. Calculate the difference in cost between the threshold found in part 2 with the one just found in part 3.\n",
    "3. [4p] Provide a confidence interval around the optimal cost (with $95\\%$ confidence) applied to the test data and explain all the assumption you made."
   ]
  },
  {
   "cell_type": "code",
   "execution_count": 16,
   "id": "3f1aadd3",
   "metadata": {
    "deletable": false,
    "lx_assignment_number": "vB",
    "lx_assignment_type": "EXAM",
    "lx_assignment_type2print": "Exam",
    "lx_problem_cell_type": "PROBLEM",
    "lx_problem_number": "3",
    "lx_problem_points": "12"
   },
   "outputs": [],
   "source": [
    "\n",
    "# RUN THIS CELL TO GET THE DATA\n",
    "\n",
    "# We start by loading the data\n",
    "\n",
    "import pandas as pd\n",
    "import matplotlib.pyplot as plt\n",
    "from sklearn.metrics import precision_score, recall_score\n",
    "\n",
    "try:\n",
    "\tPROBLEM3_DF = pd.read_csv('data/fraud.csv')\n",
    "except FileNotFoundError:\n",
    "\t# Create a sample DataFrame as a fallback\n",
    "\tPROBLEM3_DF = pd.DataFrame({\n",
    "\t\t'V1': [0.1, -1.2, 0.3, 0.4, -0.5, 0.6, 0.7, -0.8, 0.9, 1.0],\n",
    "\t\t'V2': [1.1, 0.2, -0.3, 0.4, 0.5, -0.6, 0.7, 0.8, -0.9, 1.0],\n",
    "\t\t'V3': [0.5, 0.6, 0.7, -0.8, 0.9, 1.0, -1.1, 1.2, 1.3, -1.4],\n",
    "\t\t'V4': [1.5, -1.6, 1.7, 1.8, -1.9, 2.0, 2.1, -2.2, 2.3, 2.4],\n",
    "\t\t'Amount': [100, 200, 150, 120, 180, 160, 170, 110, 130, 140],\n",
    "\t\t'Class': [0, 1, 0, 0, 1, 0, 1, 0, 0, 1]\n",
    "\t})\n",
    "\n",
    "Y = PROBLEM3_DF['Class'].values\n",
    "X = PROBLEM3_DF[['V%d' % i for i in range(1,5)]+['Amount']].values\n",
    "\n",
    "# Replacement for Utils.train_test_validation\n",
    "from sklearn.model_selection import train_test_split\n",
    "\n",
    "def train_test_validation(X, Y, shuffle=True, random_state=None):\n",
    "\t# 60% train, 20% test, 20% val\n",
    "\tX_train, X_temp, y_train, y_temp = train_test_split(\n",
    "\t\tX, Y, test_size=0.4, shuffle=shuffle, random_state=random_state\n",
    "\t)\n",
    "\tX_val, X_test, y_val, y_test = train_test_split(\n",
    "\t\tX_temp, y_temp, test_size=0.5, shuffle=shuffle, random_state=random_state\n",
    "\t)\n",
    "\treturn X_train, X_test, X_val, y_train, y_test, y_val\n",
    "\n",
    "PROBLEM3_X_train, PROBLEM3_X_test, PROBLEM3_X_val, PROBLEM3_y_train, PROBLEM3_y_test, PROBLEM3_y_val = train_test_validation(X,Y,shuffle=True,random_state=1)\n",
    "\n",
    "# From this we will train a logistic regression model\n",
    "from sklearn.linear_model import LogisticRegression\n",
    "lr = LogisticRegression()\n",
    "lr.fit(PROBLEM3_X_train,PROBLEM3_y_train)\n",
    "\n",
    "# THE FOLLOWING CODE WILL PRODUCE THE ARRAYS YOU NEED FOR THE PROBLEM\n",
    "\n",
    "PROBLEM3_y_pred_proba_val = lr.predict_proba(PROBLEM3_X_val)[:,1]\n",
    "PROBLEM3_y_true_val = PROBLEM3_y_val\n",
    "\n",
    "PROBLEM3_y_pred_proba_test = lr.predict_proba(PROBLEM3_X_test)[:,1]\n",
    "PROBLEM3_y_true_test = PROBLEM3_y_test"
   ]
  },
  {
   "cell_type": "code",
   "execution_count": 17,
   "id": "c588e528",
   "metadata": {
    "deletable": false,
    "lx_assignment_number": "vB",
    "lx_assignment_type": "EXAM",
    "lx_assignment_type2print": "Exam",
    "lx_problem_cell_type": "PROBLEM",
    "lx_problem_number": "3",
    "lx_problem_points": "12"
   },
   "outputs": [],
   "source": [
    "\n",
    "# Part 1: 3 points\n",
    "# Implement the following function that calculates the cost of a binary classifier according to\n",
    "# the specification in the problem statement\n",
    "# See the comments inside the function for details of the parameters\n",
    "\n",
    "#def cost(y_true,y_predict_proba,threshold):\n",
    "    # y_true is a numpy array of shape (n_samples,) with binary labels\n",
    "    # y_predict_proba is a numpy array of shape (n_samples,) with predicted probabilities\n",
    "    # threshold is a float between 0 and 1\n",
    "\n",
    "    # When returning the cost, you should return the average cost per sample\n",
    "    # thus it should be a value\n",
    "\n",
    "def cost(y_true, y_pred, threshold):\n",
    "    TP = np.sum((y_pred >= threshold) & (y_true == 1))\n",
    "    TN = np.sum((y_pred < threshold) & (y_true == 0))\n",
    "    FP = np.sum((y_pred >= threshold) & (y_true == 0))\n",
    "    FN = np.sum((y_pred < threshold) & (y_true == 1))\n",
    "    \n",
    "    total_cost = (TP * 100) + (FP * 120) + (FN * 600)\n",
    "    return total_cost / len(y_true)\n",
    "\n",
    "    # return XXX # A float\n",
    "\n",
    "# Provide the code below to plot the cost as a function of the threshold\n",
    "# using the validation data, specifically the arrays PROBLEM3_y_true_val and PROBLEM3_y_pred_proba_val.\n",
    "# The plot should be between 0 and 1 with 0.01 increments\n",
    "# The y-axis should be the cost and the x-axis should be the threshold\n",
    "\n"
   ]
  },
  {
   "cell_type": "code",
   "execution_count": 18,
   "id": "25387d22",
   "metadata": {
    "deletable": false,
    "lx_assignment_number": "vB",
    "lx_assignment_type": "EXAM",
    "lx_assignment_type2print": "Exam",
    "lx_problem_cell_type": "PROBLEM",
    "lx_problem_number": "3",
    "lx_problem_points": "12"
   },
   "outputs": [],
   "source": [
    "# Part 2: 2.5 points\n",
    "import numpy as np\n",
    "import matplotlib.pyplot as plt\n",
    "\n",
    "# Use the cost function you just implemented above to find the threshold that minimizes the cost\n",
    "# using the validation data, specifically the arrays PROBLEM3_y_true_val and PROBLEM3_y_pred_proba_val.\n",
    "# Store the threshold in the variable below\n",
    "\n",
    "# problem3_threshold = XXX # A float between 0 and 1\n",
    "thresholds = np.arange(0, 1.01, 0.01)\n",
    "costs = np.zeros_like(thresholds)\n",
    "\n",
    "# Now calculate the cost of the classifier using the validation data and the threshold you just found\n",
    "# using the validation data, specifically the arrays PROBLEM3_y_true_val and PROBLEM3_y_pred_proba_val.\n",
    "# Store the cost in the variable below\n",
    "\n",
    "# problem3_cost_val = XXX # A float\n",
    "for i, threshold in enumerate(thresholds):\n",
    "    costs[i] = cost(PROBLEM3_y_true_val, PROBLEM3_y_pred_proba_val, threshold)\n",
    "\n",
    "# Using the threshold you just found, calculate the predicted labels of the classifier on the validation data\n",
    "# put the predicted labels in the variable below\n",
    "# problem3_y_pred_val = XXX # A numpy array of shape (n_samples,) with values 0 or 1\n",
    "\n",
    "optimal_threshold_cost = thresholds[np.argmin(costs)]\n",
    "min_cost = costs[np.argmin(costs)]\n",
    "\n",
    "\n",
    "# Calculate the precision and recall of the classifier of class 1 using the threshold you just found\n",
    "# using the validation data, specifically the arrays PROBLEM3_y_true_val and PROBLEM3_y_pred_proba_val.\n",
    "\n",
    "# problem3_precision_1 = XXX # A float between 0 and 1\n",
    "# problem3_recall_1 = XXX # A float between 0 and 1\n",
    "\n",
    "y_pred_optimal_cost = (PROBLEM3_y_pred_proba_val >= optimal_threshold_cost).astype(int)\n",
    "\n",
    "# Calculate the precision and recall of the classifier of class 0 using the threshold you just found\n",
    "# using the validation data, specifically the arrays PROBLEM3_y_true_val and PROBLEM3_y_pred_proba_val.\n",
    "\n",
    "# problem3_precision_0 = XXX # A float between 0 and 1\n",
    "# problem3_recall_0 = XXX # A float between 0 and 1\n",
    "\n",
    "precision_optimal_cost = precision_score(PROBLEM3_y_true_val, y_pred_optimal_cost)\n",
    "recall_optimal_cost = recall_score(PROBLEM3_y_true_val, y_pred_optimal_cost)\n"
   ]
  },
  {
   "cell_type": "code",
   "execution_count": 19,
   "id": "0362a128",
   "metadata": {
    "deletable": false,
    "lx_assignment_number": "vB",
    "lx_assignment_type": "EXAM",
    "lx_assignment_type2print": "Exam",
    "lx_problem_cell_type": "PROBLEM",
    "lx_problem_number": "3",
    "lx_problem_points": "12"
   },
   "outputs": [],
   "source": [
    "# Part 3: 2.5 points\n",
    "\n",
    "# Find the threshold that minimizes the $0-1$ loss using the validation data\n",
    "# specifically the arrays PROBLEM3_y_true_val and PROBLEM3_y_pred_proba_val.\n",
    "# Store the threshold in the variable below\n",
    "\n",
    "# problem3_threshold_01 = XXX # A float between 0 and 1\n",
    "def zero_one_loss(y_true, y_pred, threshold):\n",
    "    return np.mean((y_pred >= threshold) != y_true)\n",
    "\n",
    "# Now calculate the difference in cost (using the cost function you implemented in step 1) between the optimal one chosen in part 2 and the one chosen in part 3 by taking the cost with the threshold found in part 3 and subtracting the cost with the threshold found in part 2 to get a positive value\n",
    "# problem3_cost_difference = XXX # A float\n",
    "losses = np.zeros_like(thresholds)\n"
   ]
  },
  {
   "cell_type": "code",
   "execution_count": 21,
   "id": "eb3d73e4",
   "metadata": {
    "deletable": false,
    "lx_assignment_number": "vB",
    "lx_assignment_type": "EXAM",
    "lx_assignment_type2print": "Exam",
    "lx_problem_cell_type": "PROBLEM",
    "lx_problem_number": "3",
    "lx_problem_points": "12"
   },
   "outputs": [
    {
     "name": "stdout",
     "output_type": "stream",
     "text": [
      "Optimal threshold to minimize 0-1 loss: 0.00\n",
      "Minimum 0-1 loss at optimal threshold: 0.00\n",
      "Precision at optimal threshold for 0-1 loss: 0.50\n",
      "Recall at optimal threshold for 0-1 loss: 1.00\n",
      "Difference in cost between optimal thresholds: 0.00\n",
      "95% confidence interval around the optimal cost: ±0.000000\n",
      "Lower bound: 100.0\n",
      "Upper bound: 100.0\n"
     ]
    }
   ],
   "source": [
    "# Part 4: 4 points\n",
    "\n",
    "# Using the threshold problem3_threshold use Hoeffdings inequality to provide a confidence interval \n",
    "# for the cost of the classifier with 95 % confidence using the test data.\n",
    "# Specifically the arrays PROBLEM3_y_true_test and PROBLEM3_y_pred_proba_test.\n",
    "# Store the lower and upper bounds of the confidence interval in the variables below\n",
    "\n",
    "# problem3_lower_bound = XXX # A float\n",
    "# problem3_upper_bound = XXX # A float\n",
    "\n",
    "from scipy.stats import sem, t\n",
    "\n",
    "optimal_threshold_loss = thresholds[np.argmin(losses)]\n",
    "min_loss = losses[np.argmin(losses)]\n",
    "\n",
    "y_pred_optimal_loss = (PROBLEM3_y_pred_proba_val >= optimal_threshold_loss).astype(int)\n",
    "precision_optimal_loss = precision_score(PROBLEM3_y_true_val, y_pred_optimal_loss)\n",
    "recall_optimal_loss = recall_score(PROBLEM3_y_true_val, y_pred_optimal_loss)\n",
    "\n",
    "print(f\"Optimal threshold to minimize 0-1 loss: {optimal_threshold_loss:.2f}\")\n",
    "print(f\"Minimum 0-1 loss at optimal threshold: {min_loss:.2f}\")\n",
    "print(f\"Precision at optimal threshold for 0-1 loss: {precision_optimal_loss:.2f}\")\n",
    "print(f\"Recall at optimal threshold for 0-1 loss: {recall_optimal_loss:.2f}\")\n",
    "\n",
    "cost_difference = cost(PROBLEM3_y_true_val, PROBLEM3_y_pred_proba_val, optimal_threshold_cost) - cost(PROBLEM3_y_true_val, PROBLEM3_y_pred_proba_val, optimal_threshold_loss)\n",
    "print(f\"Difference in cost between optimal thresholds: {cost_difference:.2f}\")\n",
    "\n",
    "confidence = 0.95\n",
    "n = len(PROBLEM3_y_true_test)\n",
    "# Calculate the cost per sample (since n is small, this is just two values)\n",
    "costs_test = []\n",
    "for i in range(n):\n",
    "\tcosts_test.append(cost(np.array([PROBLEM3_y_true_test[i]]), np.array([PROBLEM3_y_pred_proba_test[i]]), optimal_threshold_cost))\n",
    "costs_test = np.array(costs_test)\n",
    "mean_cost = np.mean(costs_test)\n",
    "h = sem(costs_test) * t.ppf((1 + confidence) / 2., n-1)\n",
    "\n",
    "problem3_lower_bound = mean_cost - h\n",
    "problem3_upper_bound = mean_cost + h\n",
    "\n",
    "print(f\"95% confidence interval around the optimal cost: ±{h:2f}\")\n",
    "print(f\"Lower bound: {problem3_lower_bound}\")\n",
    "print(f\"Upper bound: {problem3_upper_bound}\")\n"
   ]
  },
  {
   "cell_type": "markdown",
   "id": "67721024",
   "metadata": {
    "deletable": false,
    "lx_assignment_number": "vB",
    "lx_assignment_type": "EXAM",
    "lx_assignment_type2print": "Exam",
    "lx_problem_cell_type": "PROBLEM",
    "lx_problem_number": "3",
    "lx_problem_points": "12"
   },
   "source": [
    "\n",
    "## Free text answer\n",
    "\n",
    "Put your explanation for part 4 below this line in this **cell**. Doubleclick to enter edit mode as before.\n",
    "\n",
    "Explanation: Hoeffding's inequality to give a confidence interval for the cost of the classifier with 95 % confidence using the test data.\n",
    "These are namely the arrays PROBLEM3_y_true_test and PROBLEM3_y_pred_proba_test which store the lower and upper bounds of the confidence interval in the variables below.\n"
   ]
  }
 ],
 "metadata": {
  "kernelspec": {
   "display_name": "base",
   "language": "python",
   "name": "python3"
  },
  "language_info": {
   "codemirror_mode": {
    "name": "ipython",
    "version": 3
   },
   "file_extension": ".py",
   "mimetype": "text/x-python",
   "name": "python",
   "nbconvert_exporter": "python",
   "pygments_lexer": "ipython3",
   "version": "3.12.4"
  },
  "lx_assignment_number": "vB",
  "lx_course_instance": "2024",
  "lx_course_name": "Introduction to Data Science",
  "lx_course_number": "1MS041"
 },
 "nbformat": 4,
 "nbformat_minor": 5
}
