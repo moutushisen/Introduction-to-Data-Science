{
    "cells": [
        {
            "cell_type": "markdown",
            "metadata": {},
            "source": [
                "# Exam 4th of January 2024, 8.00-13.00 for the course 1MS041\n",
                "(Introduction to Data Science)\n",
                "\n",
                "## Instructions:\n",
                "1. Complete the problems by following instructions.\n",
                "2. When done, submit this file with your solutions saved, following the instruction sheet.\n",
                "\n",
                "This exam has 3 problems for a total of 40 points, to pass you need\n",
                "20 points."
            ]
        },
        {
            "cell_type": "code",
            "execution_count": null,
            "metadata": {},
            "outputs": [],
            "source": [
                "# Insert your anonymous exam ID as a string in the variable below\n",
                "examID=\"XXX\"\n"
            ]
        },
        {
            "cell_type": "markdown",
            "metadata": {
                "lx_assignment_number": "vB",
                "lx_assignment_type": "EXAM",
                "lx_assignment_type2print": "Exam",
                "lx_problem_cell_type": "PROBLEM",
                "lx_problem_number": "1",
                "lx_problem_points": "15"
            },
            "source": [
                "---\n",
                "## Exam vB, PROBLEM 1\n",
                "Maximum Points = 15\n",
                "\n",
                "A biased coin has a probability $p$ of landing heads and $1-p$ of landing tails.  Let $X_1, X_2, \\dots, X_n$ be independent Bernoulli random variables representing the outcome of $n$ coin flips, where $X_i = 1$ if the i-th flip lands heads and $X_i = 0$ if it lands tails.  We are interested in estimating $p$.\n",
                "\n",
                "1.  [5p] Derive the maximum likelihood estimator (MLE) for $p$ given the observed data $X_1, X_2, \\dots, X_n$.\n",
                "2.  [5p] Suppose we have observed 10 coin flips with the following outcomes: H, T, H, H, T, T, H, T, H, H.  Compute the MLE estimate for $p$ using these observations.\n",
                "3. [5p] Derive the Cramer-Rao lower bound for the variance of any unbiased estimator of $p$. Then comment on the efficiency of the MLE you derived in part 1."
            ]
        },
        {
            "cell_type": "code",
            "execution_count": 1,
            "metadata": {
                "lx_assignment_number": "vB",
                "lx_assignment_type": "EXAM",
                "lx_assignment_type2print": "Exam",
                "lx_problem_cell_type": "PROBLEM",
                "lx_problem_number": "1",
                "lx_problem_points": "15"
            },
            "outputs": [],
            "source": [
                "# Part 1: Provide the MLE as a function of the data X = [X_1, ..., X_n]\n",
                "# Replace the XXX with the correct expression\n",
                "def problem1_MLE(X):\n",
                "    \"\"\"\n",
                "    Returns the MLE for p given a list or array of Bernoulli outcomes X.\n",
                "    \"\"\"\n",
                "    return np.mean(X)\n"
            ]
        },
        {
            "cell_type": "code",
            "execution_count": 2,
            "metadata": {
                "lx_assignment_number": "vB",
                "lx_assignment_type": "EXAM",
                "lx_assignment_type2print": "Exam",
                "lx_problem_cell_type": "PROBLEM",
                "lx_problem_number": "1",
                "lx_problem_points": "15"
            },
            "outputs": [],
            "source": [
                "# Part 2: Compute the MLE for the specific dataset\n",
                "# Replace the XXX with the correct expression\n",
                "import numpy as np\n",
                "data = np.array([1,0,1,1,0,0,1,0,1,1]) # 1 for heads, 0 for tails\n",
                "problem1_MLE_estimate = problem1_MLE(data)"
            ]
        },
        {
            "cell_type": "markdown",
            "metadata": {
                "lx_assignment_number": "vB",
                "lx_assignment_type": "EXAM",
                "lx_assignment_type2print": "Exam",
                "lx_problem_cell_type": "PROBLEM",
                "lx_problem_number": "1",
                "lx_problem_points": "15"
            },
            "source": [
                "## Part 3\n",
                "\n",
                "Double click this cell to enter edit mode and write your answer for part 3 below this line.\n",
                "\n",
                "The Cramer-Rao lower bound for the variance of any unbiased estimator of $p$ for $n$ i.i.d. Bernoulli trials is: $$ \\text{Var}(\\hat{p}) \\geq \\frac{p(1-p)}{n} $$\n",
                "The MLE $\\hat{p}{MLE} = \\frac{1}{n}\\sum{i=1}^n X_i$ achieves this bound, so it is efficient.\n"
            ]
        },
        {
            "cell_type": "markdown",
            "metadata": {
                "lx_assignment_number": "vB",
                "lx_assignment_type": "EXAM",
                "lx_assignment_type2print": "Exam",
                "lx_problem_cell_type": "PROBLEM",
                "lx_problem_number": "2",
                "lx_problem_points": "10"
            },
            "source": [
                "---\n",
                "## Exam vB, PROBLEM 2\n",
                "Maximum Points = 10\n",
                "\n",
                "Consider a random walk on the integers that starts at 0. At each step, the random walk moves to the right with probability $p$ and to the left with probability $1-p$. Let $S_n$ denote the position of the random walk after $n$ steps.\n",
                "\n",
                "1.  [5p] Find the probability mass function (PMF) of $S_n$ after $n$ steps. You should provide a formula that gives the probability $P(S_n=k)$ for any given integer $k$ and number of steps $n$. Hint: The number of steps to the right can be described as a binomial random variable.\n",
                "2.  [5p] Suppose that $p=0.6$. What is the probability $P(S_{10} = 4)$? You should provide the answer as a floating point number."
            ]
        },
        {
            "cell_type": "markdown",
            "metadata": {
                "lx_assignment_number": "vB",
                "lx_assignment_type": "EXAM",
                "lx_assignment_type2print": "Exam",
                "lx_problem_cell_type": "PROBLEM",
                "lx_problem_number": "2",
                "lx_problem_points": "10"
            },
            "source": [
                "## Part 1\n",
                "\n",
                "Double click this cell to enter edit mode and write your answer for part 1 below this line.\n",
                "\n",
                "The probability mass function (PMF) of ( S_n ) after ( n ) steps is:\n",
                "\n",
                "[ P(S_n = k) = \\begin{cases} \\displaystyle \\binom{n}{r} p^r (1-p)^{n-r} & \\text{if } n + k \\text{ is even and } r = \\frac{n + k}{2} \\in {0, 1, \\ldots, n} \\ 0 & \\text{otherwise} \\end{cases} ] where ( r = \\frac{n + k}{2} ) is the number of steps to the right.\n"
            ]
        },
        {
            "cell_type": "code",
            "execution_count": 4,
            "metadata": {
                "lx_assignment_number": "vB",
                "lx_assignment_type": "EXAM",
                "lx_assignment_type2print": "Exam",
                "lx_problem_cell_type": "PROBLEM",
                "lx_problem_number": "2",
                "lx_problem_points": "10"
            },
            "outputs": [],
            "source": [
                "# Part 2: Compute the required probability, fill in the XXX\n",
                "from scipy.stats import binom\n",
                "\n",
                "def problem2_PMF(n, k, p):\n",
                "    \"\"\"\n",
                "    Returns the probability P(S_n = k) for a random walk after n steps,\n",
                "    where each step is +1 with probability p and -1 with probability 1-p.\n",
                "    \"\"\"\n",
                "    # Number of right steps: r = (n + k) // 2\n",
                "    # S_n = 2r - n => r = (n + k) / 2 must be integer and in [0, n]\n",
                "    r = (n + k) // 2\n",
                "    if (n + k) % 2 != 0 or r < 0 or r > n:\n",
                "        return 0.0\n",
                "    return binom.pmf(r, n, p)\n",
                "\n",
                "problem2_probability = problem2_PMF(n=10, k=4, p=0.6)"
            ]
        },
        {
            "cell_type": "markdown",
            "id": "beb5d6b5",
            "metadata": {
                "lx_assignment_number": "vB",
                "lx_assignment_type": "EXAM",
                "lx_assignment_type2print": "Exam",
                "lx_problem_cell_type": "PROBLEM",
                "lx_problem_number": "3",
                "lx_problem_points": "15"
            },
            "source": [
                "---\n",
                "## Exam vB, PROBLEM 3\n",
                "Maximum Points = 15\n",
                "\n",
                "Let $X$ be a continuous random variable with probability density function (PDF) given by:\n",
                "\n",
                "$$f(x) = \\begin{cases} \\frac{2}{a^2} (a - x) & \\text{if } 0 \\leq x \\leq a \\\\ 0 & \\text{otherwise} \\end{cases}$$\n",
                "\n",
                "where $a>0$ is a parameter.\n",
                "\n",
                "1.  [5p] Find the cumulative distribution function (CDF) $F(x)$ of $X$.\n",
                "2.  [5p] Calculate the expected value $\\mathbb{E}[X]$ of $X$.\n",
                "3.  [5p] If we have observed 10 samples of $X$, $x_1, x_2, \\dots, x_{10}$, propose an unbiased estimator for $a$, and calculate this for the dataset X = [1,2,1,3,4,2,1,3,2,3]."
            ]
        },
        {
            "cell_type": "markdown",
            "metadata": {
                "lx_assignment_number": "vB",
                "lx_assignment_type": "EXAM",
                "lx_assignment_type2print": "Exam",
                "lx_problem_cell_type": "PROBLEM",
                "lx_problem_number": "3",
                "lx_problem_points": "15"
            },
            "source": [
                "## Part 1\n",
                "\n",
                "Double click this cell to enter edit mode and write your answer for part 1 below this line.\n",
                "\n",
                "The cumulative distribution function (CDF), denoted as F(x), represents the probability that a random variable X takes on a value less than or equal to x. In other words, F(x) = P(X ≤ x). For a continuous random variable, the CDF is found by integrating the probability density function (PDF) from negative infinity to x: F(x) = ∫−∞x f(t) dt. "
            ]
        },
        {
            "cell_type": "markdown",
            "metadata": {
                "lx_assignment_number": "vB",
                "lx_assignment_type": "EXAM",
                "lx_assignment_type2print": "Exam",
                "lx_problem_cell_type": "PROBLEM",
                "lx_problem_number": "3",
                "lx_problem_points": "15"
            },
            "source": [
                "## Part 2\n",
                "\n",
                "Double click this cell to enter edit mode and write your answer for part 2 below this line.\n",
                "\n",
                "The expected value, \\(\\mathbb{E}[X]\\), of a discrete random variable \\(X\\) is calculated by summing the product of each possible value of \\(X\\) and its corresponding probability. In other words, if \\(X\\) can take on values \\(x_{1},x_{2},...,x_{n}\\) with probabilities \\(p_{1},p_{2},...,p_{n}\\) respectively, then \\(\\mathbb{E}[X]=\\sum _{i=1}^{n}x_{i}p_{i}\\).             For a continuous random variable with probability density function \\(f(x)\\), the expected value is calculated by integrating the product of \\(x\\) and \\(f(x)\\) over the entire range of \\(X\\).  That is, \\(\\mathbb{E}[X]=\\int _{-\\infty }^{\\infty }xf(x)dx\\). "
            ]
        },
        {
            "cell_type": "code",
            "execution_count": 5,
            "metadata": {
                "lx_assignment_number": "vB",
                "lx_assignment_type": "EXAM",
                "lx_assignment_type2print": "Exam",
                "lx_problem_cell_type": "PROBLEM",
                "lx_problem_number": "3",
                "lx_problem_points": "15"
            },
            "outputs": [],
            "source": [
                "# Part 3: Provide the unbiased estimator and its value for the dataset, fill in the XXX\n",
                "import numpy as np\n",
                "\n",
                "def problem3_unbiased_estimator(X):\n",
                "    # For this triangular distribution, the unbiased estimator for a is (n+1)/n * max(X)\n",
                "    n = len(X)\n",
                "    return ((n + 1) / n) * np.max(X)\n",
                "\n",
                "data_problem3 = np.array([1,2,1,3,4,2,1,3,2,3])\n",
                "problem3_estimate = problem3_unbiased_estimator(data_problem3)"
            ]
        }
    ],
    "metadata": {
        "kernelspec": {
            "display_name": "base",
            "language": "python",
            "name": "python3"
        },
        "language_info": {
            "codemirror_mode": {
                "name": "ipython",
                "version": 3
            },
            "file_extension": ".py",
            "mimetype": "text/x-python",
            "name": "python",
            "nbconvert_exporter": "python",
            "pygments_lexer": "ipython3",
            "version": "3.12.4"
        },
        "lx_assignment_number": "vB",
        "lx_course_instance": "2024",
        "lx_course_name": "Introduction to Data Science",
        "lx_course_number": "1MS041"
    },
    "nbformat": 4,
    "nbformat_minor": 5
}
