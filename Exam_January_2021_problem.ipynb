{
 "cells": [
  {
   "cell_type": "markdown",
   "id": "81a97188",
   "metadata": {},
   "source": [
    "# Exam January 2021 Problem\n",
    "\n",
    "Course: **1MS041 - Introduction to Data Science**"
   ]
  },
  {
   "cell_type": "markdown",
   "id": "5f29f7fd",
   "metadata": {},
   "source": [
    "## Instructions:\n",
    "\n",
    "1. Complete the problems by following instructions.\n",
    "2. When done, submit this file with your solutions saved.\n",
    "\n",
    "This exam has **3 problems** for a total of **40 points**, to pass you need **20 points**."
   ]
  },
  {
   "cell_type": "markdown",
   "id": "1110d985",
   "metadata": {},
   "source": [
    "### Tips for Free Text Answers\n",
    "\n",
    "- Be **VERY clear** with your reasoning, there should be **zero ambiguity**.\n",
    "- Use LaTeX for math, e.g., `$f(x) = x^2$` or `$$f(x) = x^2$$` for displayed equations."
   ]
  },
  {
   "cell_type": "markdown",
   "id": "f3fecced",
   "metadata": {},
   "source": [
    "## Problem 1: Probability Warmup (8 Points)"
   ]
  },
  {
   "cell_type": "code",
   "execution_count": null,
   "id": "c0962045",
   "metadata": {},
   "outputs": [],
   "source": [
    "# Insert your anonymous exam ID below\n",
    "examID = \"XXX\""
   ]
  },
  {
   "cell_type": "markdown",
   "id": "b117eece",
   "metadata": {},
   "source": [
    "### Part 1: Compute the probability for different thresholds\n",
    "\n",
    "- Define a list `problem11_probabilities` of probabilities for $T = 0, 1, 2, ..., 20$.\n"
   ]
  },
  {
   "cell_type": "code",
   "execution_count": null,
   "id": "fd3e3ba3",
   "metadata": {},
   "outputs": [],
   "source": [
    "problem11_probabilities = [XXX, XXX, ..., XXX]  # Replace with computed probabilities"
   ]
  },
  {
   "cell_type": "markdown",
   "id": "2e471a08",
   "metadata": {},
   "source": [
    "### Part 2: Determine the smallest threshold $T$ for 90% certainty\n"
   ]
  },
  {
   "cell_type": "code",
   "execution_count": null,
   "id": "8948f68a",
   "metadata": {},
   "outputs": [],
   "source": [
    "problem12_T = XXX  # Replace with the computed threshold"
   ]
  },
  {
   "cell_type": "markdown",
   "id": "15bf054d",
   "metadata": {},
   "source": [
    "## Problem 2: Random Variable Generation and Transformation (8 Points)"
   ]
  },
  {
   "cell_type": "code",
   "execution_count": null,
   "id": "7821b703",
   "metadata": {},
   "outputs": [],
   "source": [
    "def problem2_LCG(size=None, seed=0):\n",
    "    \"\"\"\n",
    "    Linear Congruential Generator (LCG).\n",
    "\n",
    "    Parameters:\n",
    "        size : int - Number of samples to generate\n",
    "        seed : int - Starting point of the LCG\n",
    "\n",
    "    Returns:\n",
    "        list of pseudo-random numbers\n",
    "    \"\"\"\n",
    "    XXX\n",
    "    return XXX"
   ]
  },
  {
   "cell_type": "code",
   "execution_count": null,
   "id": "6f2b938f",
   "metadata": {},
   "outputs": [],
   "source": [
    "def problem2_uniform(generator=None, period=1, size=None, seed=0):\n",
    "    \"\"\"\n",
    "    Generate uniform [0, 1] samples using an LCG.\n",
    "\n",
    "    Parameters:\n",
    "        generator : function - LCG generator\n",
    "        period : int - Period of the generator\n",
    "        seed : int - Initial seed\n",
    "        size : int - Number of samples\n",
    "\n",
    "    Returns:\n",
    "        list of uniform samples\n",
    "    \"\"\"\n",
    "    XXX\n",
    "    return XXX"
   ]
  },
  {
   "cell_type": "code",
   "execution_count": null,
   "id": "d4ebc953",
   "metadata": {},
   "outputs": [],
   "source": [
    "def problem2_accept_reject(uniformGenerator=None, size=None, seed=0):\n",
    "    \"\"\"\n",
    "    Generate samples using the accept-reject method.\n",
    "\n",
    "    Parameters:\n",
    "        uniformGenerator : function - Uniform random generator\n",
    "        size : int - Number of samples\n",
    "        seed : int - Seed\n",
    "\n",
    "    Returns:\n",
    "        list of samples from target distribution\n",
    "    \"\"\"\n",
    "    XXX\n",
    "    return XXX"
   ]
  },
  {
   "cell_type": "markdown",
   "id": "56d3af14",
   "metadata": {},
   "source": [
    "## Problem 3: Concentration of Measure (8 Points)"
   ]
  },
  {
   "cell_type": "code",
   "execution_count": null,
   "id": "5364e6c9",
   "metadata": {},
   "outputs": [],
   "source": [
    "# Answers to exponential concentration\n",
    "problem3_answer_1 = [XXX]"
   ]
  },
  {
   "cell_type": "code",
   "execution_count": null,
   "id": "cec4f41d",
   "metadata": {},
   "outputs": [],
   "source": [
    "# Answers to weaker concentration\n",
    "problem3_answer_2 = [XXX]"
   ]
  },
  {
   "cell_type": "markdown",
   "id": "98a59a4f",
   "metadata": {},
   "source": [
    "## Problem 4: SMS Spam Filtering (8 Points)"
   ]
  },
  {
   "cell_type": "code",
   "execution_count": null,
   "id": "38883e31",
   "metadata": {},
   "outputs": [],
   "source": [
    "# Load SMS data\n",
    "from exam_extras import load_sms\n",
    "spam_no_spam = load_sms()"
   ]
  },
  {
   "cell_type": "code",
   "execution_count": null,
   "id": "99184495",
   "metadata": {},
   "outputs": [],
   "source": [
    "# Fill in the estimate for part 1\n",
    "problem4_hatP = XXX"
   ]
  },
  {
   "cell_type": "code",
   "execution_count": null,
   "id": "5517c5ea",
   "metadata": {},
   "outputs": [],
   "source": [
    "# Fill in the confidence interval\n",
    "problem4_l = XXX"
   ]
  },
  {
   "cell_type": "code",
   "execution_count": null,
   "id": "79754aac",
   "metadata": {},
   "outputs": [],
   "source": [
    "# Double 'free' case\n",
    "problem4_hatP2 = XXX\n",
    "problem4_l2 = XXX"
   ]
  },
  {
   "cell_type": "markdown",
   "id": "3300fe5d",
   "metadata": {},
   "source": [
    "## Problem 5: Markovian Travel (8 Points)"
   ]
  },
  {
   "cell_type": "code",
   "execution_count": null,
   "id": "616390e4",
   "metadata": {},
   "outputs": [],
   "source": [
    "# Load the travel dataset\n",
    "import pandas as pd\n",
    "data = pd.read_csv('data/flights.csv')"
   ]
  },
  {
   "cell_type": "code",
   "execution_count": null,
   "id": "c2b31c25",
   "metadata": {},
   "outputs": [],
   "source": [
    "# Transition matrix estimation\n",
    "number_of_cities = XXX\n",
    "transition_matrix = XXX  # Fill with your computation"
   ]
  },
  {
   "cell_type": "code",
   "execution_count": null,
   "id": "0ca6e9ab",
   "metadata": {},
   "outputs": [],
   "source": [
    "# Stationary distribution\n",
    "stationary_distribution_problem5 = XXX"
   ]
  },
  {
   "cell_type": "code",
   "execution_count": null,
   "id": "96e0f669",
   "metadata": {},
   "outputs": [],
   "source": [
    "# Return probability after 3 steps\n",
    "return_probability_problem5 = XXX"
   ]
  },
  {
   "cell_type": "markdown",
   "id": "11194bf3",
   "metadata": {},
   "source": [
    "## Problem 6: Black Box Testing (8 Points)"
   ]
  },
  {
   "cell_type": "code",
   "execution_count": null,
   "id": "306e1f3c",
   "metadata": {},
   "outputs": [],
   "source": [
    "# Load black-box results\n",
    "from exam_extras import load_sms_problem6\n",
    "X_problem6, Y_problem6 = load_sms_problem6()"
   ]
  },
  {
   "cell_type": "code",
   "execution_count": null,
   "id": "3df70507",
   "metadata": {},
   "outputs": [],
   "source": [
    "# Precision calculation\n",
    "problem6_precision = XXX\n",
    "problem6_precision_l = XXX"
   ]
  },
  {
   "cell_type": "code",
   "execution_count": null,
   "id": "cd970238",
   "metadata": {},
   "outputs": [],
   "source": [
    "# Recall calculation\n",
    "problem6_recall = XXX\n",
    "problem6_recall_l = XXX"
   ]
  },
  {
   "cell_type": "code",
   "execution_count": null,
   "id": "84618526",
   "metadata": {},
   "outputs": [],
   "source": [
    "# Accuracy calculation\n",
    "problem6_accuracy = XXX\n",
    "problem6_accuracy_l = XXX"
   ]
  }
 ],
 "metadata": {},
 "nbformat": 4,
 "nbformat_minor": 5
}
