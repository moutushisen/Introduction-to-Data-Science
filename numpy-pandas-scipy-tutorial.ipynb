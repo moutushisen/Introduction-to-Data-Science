{
 "cells": [
  {
   "cell_type": "markdown",
   "metadata": {},
   "source": [
    "Here's a short tutorial of some of the basic Python libraries numpy, pandas, and scipy. \n",
    "We start with numpy"
   ]
  },
  {
   "cell_type": "code",
   "execution_count": 62,
   "metadata": {},
   "outputs": [
    {
     "data": {
      "text/plain": [
       "numpy.ndarray"
      ]
     },
     "execution_count": 62,
     "metadata": {},
     "output_type": "execute_result"
    }
   ],
   "source": [
    "# import the required libraries\n",
    "import numpy as np\n",
    "\n",
    "# create a list\n",
    "my_list = [1, 2, 3]\n",
    "# check type\n",
    "type(my_list)\n",
    "\n",
    "# make a numpy array\n",
    "my_arr = np.array(my_list)\n",
    "type(my_arr)"
   ]
  },
  {
   "cell_type": "code",
   "execution_count": 63,
   "metadata": {},
   "outputs": [
    {
     "name": "stdout",
     "output_type": "stream",
     "text": [
      "[0. 0. 0. 0. 0. 0. 0. 0. 0. 0.]\n",
      "<class 'numpy.ndarray'>\n"
     ]
    },
    {
     "data": {
      "text/plain": [
       "array([0, 1, 2, 3, 4, 5, 6, 7, 8])"
      ]
     },
     "execution_count": 63,
     "metadata": {},
     "output_type": "execute_result"
    }
   ],
   "source": [
    "# Create a null vector of size 10 \n",
    "my_vec = np.zeros(10)\n",
    "\n",
    "print(my_vec)\n",
    "print(type(my_vec))\n",
    "\n",
    "# create sequence 0 to 9\n",
    "my_seq = np.arange(9)\n",
    "my_seq"
   ]
  },
  {
   "cell_type": "code",
   "execution_count": 64,
   "metadata": {},
   "outputs": [
    {
     "data": {
      "text/plain": [
       "array([22, 14, 44, 21, 43])"
      ]
     },
     "execution_count": 64,
     "metadata": {},
     "output_type": "execute_result"
    }
   ],
   "source": [
    "\n",
    "# Create a vector with 5 values ranging from 10 to 49\n",
    "# use randint: random integer values, \n",
    "# parameters: min, max, length of the array\n",
    "my_vec =  np.random.randint(10, 49, 5)\n",
    "\n",
    "my_vec\n",
    "\n"
   ]
  },
  {
   "cell_type": "markdown",
   "metadata": {},
   "source": [
    "Copy an array\n",
    "1. Shallow copy"
   ]
  },
  {
   "cell_type": "code",
   "execution_count": 65,
   "metadata": {},
   "outputs": [
    {
     "name": "stdout",
     "output_type": "stream",
     "text": [
      "[1 2 3]\n",
      "[1 2 3]\n"
     ]
    }
   ],
   "source": [
    "my_arr = np.array([1, 2, 3])\n",
    "print(my_arr)\n",
    "\n",
    "my_arr_copy = my_arr\n",
    "print(my_arr_copy)\n"
   ]
  },
  {
   "cell_type": "markdown",
   "metadata": {},
   "source": [
    "Now we have two identical arrays. But what happens if we alter one of them?"
   ]
  },
  {
   "cell_type": "code",
   "execution_count": 66,
   "metadata": {},
   "outputs": [
    {
     "name": "stdout",
     "output_type": "stream",
     "text": [
      "[5 2 3]\n",
      "[5 2 3]\n"
     ]
    }
   ],
   "source": [
    "my_arr_copy[0] = 5\n",
    "\n",
    "print(my_arr_copy)\n",
    "print(my_arr)\n"
   ]
  },
  {
   "cell_type": "markdown",
   "metadata": {},
   "source": [
    "Check this - both are changed! How to avoid it? Make a deep copy!"
   ]
  },
  {
   "cell_type": "markdown",
   "metadata": {},
   "source": [
    "2. Deep copy"
   ]
  },
  {
   "cell_type": "code",
   "execution_count": 67,
   "metadata": {},
   "outputs": [
    {
     "name": "stdout",
     "output_type": "stream",
     "text": [
      "[1 2 3]\n",
      "[1 2 3]\n",
      "[5 2 3]\n",
      "[1 2 3]\n"
     ]
    }
   ],
   "source": [
    "my_arr = np.array([1, 2, 3])\n",
    "print(my_arr)\n",
    "\n",
    "my_arr_copy = my_arr.copy()\n",
    "print(my_arr_copy)\n",
    "\n",
    "my_arr_copy[0] = 5\n",
    "\n",
    "print(my_arr_copy)\n",
    "print(my_arr)\n",
    "\n"
   ]
  },
  {
   "cell_type": "markdown",
   "metadata": {},
   "source": [
    "Want to experiment with array indexing, access selected elements or reverse arrays? Use slicing!"
   ]
  },
  {
   "cell_type": "code",
   "execution_count": 68,
   "metadata": {},
   "outputs": [
    {
     "name": "stdout",
     "output_type": "stream",
     "text": [
      "[4 1 2 1 4 6 1 3 6 7]\n",
      "[7 6 3 1 6 4 1 2 1 4]\n",
      "[4 1 2]\n",
      "[1 4 6 1 3 6 7]\n",
      "[4 1 2 1 4 6 1]\n",
      "[3 6 7]\n",
      "[4 1 1 7]\n",
      "[3 6 7]\n"
     ]
    }
   ],
   "source": [
    "my_vec = np.random.randint(1, 10, 10)\n",
    "print(my_vec)\n",
    "\n",
    "# k would be the some index of the array\n",
    "k = 3\n",
    "# Reverse a vector (first element becomes last)\n",
    "print(my_vec[::-1])\n",
    "\n",
    "# take first k elements\n",
    "print(my_vec[:k])\n",
    "# take all elements from index k\n",
    "print(my_vec[k:])\n",
    "# all but last k elements\n",
    "print(my_vec[:-k])\n",
    "# all but first k\n",
    "print(my_vec[-k:])\n",
    "# take every k-th element\n",
    "print(my_vec[::k])\n",
    "# take last k elements\n",
    "print(my_vec[len(my_vec)-k:])\n"
   ]
  },
  {
   "cell_type": "markdown",
   "metadata": {},
   "source": [
    "Some simple statistical properties of the array"
   ]
  },
  {
   "cell_type": "code",
   "execution_count": 69,
   "metadata": {},
   "outputs": [
    {
     "name": "stdout",
     "output_type": "stream",
     "text": [
      "[0.94719743 0.92497701 0.50944103 0.54672378 0.74073543 0.34099603\n",
      " 0.54392905 0.59206265 0.81978438 0.99268964 0.59388716 0.36722429\n",
      " 0.3858597  0.23059759 0.40911301 0.9865189  0.8184129  0.11158651\n",
      " 0.48977179 0.01961823 0.07485961 0.71012052 0.08740195 0.57872596\n",
      " 0.00876428 0.97813572 0.76325097 0.69524066 0.71561019 0.59424542]\n"
     ]
    },
    {
     "data": {
      "text/plain": [
       "0.008764276552405748"
      ]
     },
     "execution_count": 69,
     "metadata": {},
     "output_type": "execute_result"
    }
   ],
   "source": [
    "\n",
    "# Create a random vector of size 30 \n",
    "vec = np.random.rand(30)\n",
    "print(vec)\n",
    "\n",
    "#find the mean value\n",
    "vec_mean = vec.mean()\n",
    "# variance\n",
    "vec.var()\n",
    "# standard deviation\n",
    "vec.std()\n",
    "\n",
    "# sum\n",
    "vec.sum()\n",
    "\n",
    "# max and min\n",
    "vec.max()\n",
    "vec.min()\n",
    "\n"
   ]
  },
  {
   "cell_type": "markdown",
   "metadata": {},
   "source": [
    "More operations with indices"
   ]
  },
  {
   "cell_type": "code",
   "execution_count": 70,
   "metadata": {},
   "outputs": [
    {
     "name": "stdout",
     "output_type": "stream",
     "text": [
      "[3 7 6 7 8 3 9 4 3 6 9 4 7 1 9]\n",
      "[3 7 6 7 8 3 4 3 6 4 7]\n",
      "[-3 -7 -6 -7 -8 -3 -4 -3 -6 -4 -7]\n",
      "[-3 -7 -6 -7 -8 -3 -4 -3 -6 -4 -7]\n"
     ]
    }
   ],
   "source": [
    "# create an array\n",
    "my_vec =  np.random.randint(1, 10, 15)\n",
    "print(my_vec)\n",
    "\n",
    "# take elements which are between 3 and 8\n",
    "my_vec_new = my_vec[(my_vec <= 8) * (my_vec >= 3)]\n",
    "print(my_vec_new)\n",
    "\n",
    "# negate them\n",
    "my_vec_neg = -abs(my_vec[(my_vec <= 8) * (my_vec >= 3)])\n",
    "print(my_vec_neg)\n",
    "print(-abs(my_vec_new))\n"
   ]
  },
  {
   "cell_type": "markdown",
   "metadata": {},
   "source": [
    "Sorting"
   ]
  },
  {
   "cell_type": "code",
   "execution_count": 71,
   "metadata": {},
   "outputs": [
    {
     "name": "stdout",
     "output_type": "stream",
     "text": [
      "[0.63191596 0.65110229 0.4646844  0.70921654 0.31547372 0.78449228\n",
      " 0.64996198 0.39136325 0.56157208 0.00449101]\n",
      "[0.00449101 0.31547372 0.39136325 0.4646844  0.56157208 0.63191596\n",
      " 0.64996198 0.65110229 0.70921654 0.78449228]\n",
      "[0.78449228 0.70921654 0.65110229 0.64996198 0.63191596 0.56157208\n",
      " 0.4646844  0.39136325 0.31547372 0.00449101]\n"
     ]
    }
   ],
   "source": [
    "# Create a random vector of size 10 and sort it\n",
    "my_vec_new = np.random.rand(10)\n",
    "print(my_vec_new)\n",
    "\n",
    "# by default does ascending order\n",
    "my_vec_new.sort()\n",
    "print(my_vec_new)\n",
    "\n",
    "# for descending order use slicing!\n",
    "my_vec_rev = np.sort(my_vec_new)[::-1]\n",
    "print(my_vec_rev)\n"
   ]
  },
  {
   "cell_type": "markdown",
   "metadata": {},
   "source": [
    "Sort the array according to a certain field"
   ]
  },
  {
   "cell_type": "code",
   "execution_count": 72,
   "metadata": {},
   "outputs": [
    {
     "data": {
      "text/plain": [
       "array([(b'Galahad', 1.7, 38), (b'Arthur', 1.8, 41),\n",
       "       (b'Lancelot', 1.9, 38)],\n",
       "      dtype=[('name', 'S10'), ('height', '<f8'), ('age', '<i4')])"
      ]
     },
     "execution_count": 72,
     "metadata": {},
     "output_type": "execute_result"
    }
   ],
   "source": [
    "dtype = [('name', 'S10'), ('height', float), ('age', int)]\n",
    "values = [('Arthur', 1.8, 41), ('Lancelot', 1.9, 38),\n",
    "          ('Galahad', 1.7, 38)]\n",
    "a = np.array(values, dtype=dtype)       # create a structured array\n",
    "np.sort(a, order='height')    "
   ]
  },
  {
   "cell_type": "markdown",
   "metadata": {},
   "source": [
    "Taking each array element to a given power"
   ]
  },
  {
   "cell_type": "code",
   "execution_count": 73,
   "metadata": {},
   "outputs": [],
   "source": [
    "\n",
    "# How to calculate the square of every number in an array in place (without creating temporaries)?\n",
    "Z = np.arange(10, dtype=np.int32)\n",
    "Z_squared = np.power(Z, 2)"
   ]
  },
  {
   "cell_type": "markdown",
   "metadata": {},
   "source": [
    "Operations with matrices"
   ]
  },
  {
   "cell_type": "code",
   "execution_count": 74,
   "metadata": {},
   "outputs": [
    {
     "name": "stdout",
     "output_type": "stream",
     "text": [
      "[[4 7 5]\n",
      " [0 3 1]\n",
      " [1 5 3]]\n",
      "[ 5 15  9]\n",
      "[16  4  9]\n",
      "29\n"
     ]
    }
   ],
   "source": [
    "#  create a matrix\n",
    "my_matr = np.random.randint(8, size=(3, 3))\n",
    "print(my_matr)\n",
    "# sum over columns (axis = 0) or over rows (axis = 1)\n",
    "print(my_matr.sum(axis = 0))\n",
    "print(my_matr.sum(axis = 1))\n",
    "# sum all elements\n",
    "print(my_matr.sum())"
   ]
  },
  {
   "cell_type": "markdown",
   "metadata": {},
   "source": [
    "Create an array where the first element is a matrix and the other one is the transposed first matrix"
   ]
  },
  {
   "cell_type": "code",
   "execution_count": 75,
   "metadata": {},
   "outputs": [
    {
     "name": "stdout",
     "output_type": "stream",
     "text": [
      "[[[0 0 0 0 0]\n",
      "  [1 1 1 1 1]\n",
      "  [2 2 2 2 2]\n",
      "  [3 3 3 3 3]\n",
      "  [4 4 4 4 4]]\n",
      "\n",
      " [[0 1 2 3 4]\n",
      "  [0 1 2 3 4]\n",
      "  [0 1 2 3 4]\n",
      "  [0 1 2 3 4]\n",
      "  [0 1 2 3 4]]]\n"
     ]
    },
    {
     "data": {
      "text/plain": [
       "numpy.ndarray"
      ]
     },
     "execution_count": 75,
     "metadata": {},
     "output_type": "execute_result"
    }
   ],
   "source": [
    "two_matr = np.indices([5, 5])\n",
    "print(two_matr)\n",
    "type(two_matr)"
   ]
  },
  {
   "cell_type": "markdown",
   "metadata": {},
   "source": [
    "Some fun with matrices"
   ]
  },
  {
   "cell_type": "code",
   "execution_count": 76,
   "metadata": {},
   "outputs": [],
   "source": [
    "# Create a 8x8 matrix and fill it with a checkerboard pattern\n",
    "\n",
    "chess_matr = np.indices([8, 8]).sum(axis=0) % 2\n",
    "# np.indicies creates 2 arrays, first with rows in ascending order, second is transposed first.\n",
    "# if we sum them element-wise as matrices, we get another matrix, where every second element is even\n",
    "# thus taking the %2 we get 0 and 1\n",
    "\n",
    "# i. Create a checkerboard 8x8 matrix using the tile function\n",
    "chess_matr = np.tile( np.array([[0,1],[1,0]]), (4, 4))\n",
    "\n"
   ]
  },
  {
   "cell_type": "markdown",
   "metadata": {},
   "source": [
    "Check if matrices are equal"
   ]
  },
  {
   "cell_type": "code",
   "execution_count": 77,
   "metadata": {},
   "outputs": [
    {
     "name": "stdout",
     "output_type": "stream",
     "text": [
      "False\n"
     ]
    }
   ],
   "source": [
    "#  Consider two random array A anb B, check if they are equal\n",
    "A =  np.random.randint(1, 10, 10)\n",
    "B =  np.random.randint(1, 10, 10)\n",
    "# compare A and B an\n",
    "print((A == B).all())\n"
   ]
  },
  {
   "cell_type": "code",
   "execution_count": 78,
   "metadata": {},
   "outputs": [
    {
     "name": "stdout",
     "output_type": "stream",
     "text": [
      "[False False False False False False False False False  True]\n"
     ]
    }
   ],
   "source": [
    "# Note! without .all(), you will get an element-wise comparation\n",
    "# compare A and B an\n",
    "print((A == B))"
   ]
  },
  {
   "cell_type": "markdown",
   "metadata": {},
   "source": [
    " Take dot product and diagonal"
   ]
  },
  {
   "cell_type": "code",
   "execution_count": 79,
   "metadata": {},
   "outputs": [],
   "source": [
    "\n",
    "#  How to get the diagonal of a dot product?\n",
    "A = np.arange(9).reshape(3,3)\n",
    "B = A + 1\n",
    "C = np.dot(A,B)\n",
    "C_diag = C.diagonal()\n"
   ]
  },
  {
   "cell_type": "markdown",
   "metadata": {},
   "source": [
    "Reading data from file"
   ]
  },
  {
   "cell_type": "code",
   "execution_count": 80,
   "metadata": {},
   "outputs": [
    {
     "name": "stdout",
     "output_type": "stream",
     "text": [
      "(569, 32)\n",
      "         id diagnosis  radius_mean  texture_mean  perimeter_mean  area_mean  \\\n",
      "0    842302         M        17.99         10.38          122.80     1001.0   \n",
      "1    842517         M        20.57         17.77          132.90     1326.0   \n",
      "2  84300903         M        19.69         21.25          130.00     1203.0   \n",
      "3  84348301         M        11.42         20.38           77.58      386.1   \n",
      "4  84358402         M        20.29         14.34          135.10     1297.0   \n",
      "\n",
      "   smoothness_mean  compactness_mean  concavity_mean  concave points_mean  \\\n",
      "0          0.11840           0.27760          0.3001              0.14710   \n",
      "1          0.08474           0.07864          0.0869              0.07017   \n",
      "2          0.10960           0.15990          0.1974              0.12790   \n",
      "3          0.14250           0.28390          0.2414              0.10520   \n",
      "4          0.10030           0.13280          0.1980              0.10430   \n",
      "\n",
      "   ...  radius_worst  texture_worst  perimeter_worst  area_worst  \\\n",
      "0  ...         25.38          17.33           184.60      2019.0   \n",
      "1  ...         24.99          23.41           158.80      1956.0   \n",
      "2  ...         23.57          25.53           152.50      1709.0   \n",
      "3  ...         14.91          26.50            98.87       567.7   \n",
      "4  ...         22.54          16.67           152.20      1575.0   \n",
      "\n",
      "   smoothness_worst  compactness_worst  concavity_worst  concave points_worst  \\\n",
      "0            0.1622             0.6656           0.7119                0.2654   \n",
      "1            0.1238             0.1866           0.2416                0.1860   \n",
      "2            0.1444             0.4245           0.4504                0.2430   \n",
      "3            0.2098             0.8663           0.6869                0.2575   \n",
      "4            0.1374             0.2050           0.4000                0.1625   \n",
      "\n",
      "   symmetry_worst  fractal_dimension_worst  \n",
      "0          0.4601                  0.11890  \n",
      "1          0.2750                  0.08902  \n",
      "2          0.3613                  0.08758  \n",
      "3          0.6638                  0.17300  \n",
      "4          0.2364                  0.07678  \n",
      "\n",
      "[5 rows x 32 columns]\n"
     ]
    }
   ],
   "source": [
    "import pandas as pd \n",
    "\n",
    "# if you want to run it, you need first to download data file\n",
    "file_path = \"D:/Data Science and Data Engineering/Semester 1/Period 2/Introduction to Data Science/Data Science LAB/Lab Lessons/data/breast_cancer.csv\"\n",
    "my_data = pd.read_csv(file_path)\n",
    "\n",
    "#my_data = pd.read_csv('breast_cancer.csv')\n",
    "\n",
    "# check dimensions \n",
    "print(my_data.shape)\n",
    "\n",
    "# check first 5 entries\n",
    "print(my_data.head())\n",
    "\n",
    "\n"
   ]
  },
  {
   "cell_type": "markdown",
   "metadata": {},
   "source": [
    "Remove rows and columns, remove NaN"
   ]
  },
  {
   "cell_type": "code",
   "execution_count": 81,
   "metadata": {},
   "outputs": [
    {
     "name": "stdout",
     "output_type": "stream",
     "text": [
      "  diagnosis  radius_mean  texture_mean  perimeter_mean  area_mean  \\\n",
      "0         M        17.99         10.38          122.80     1001.0   \n",
      "1         M        20.57         17.77          132.90     1326.0   \n",
      "2         M        19.69         21.25          130.00     1203.0   \n",
      "3         M        11.42         20.38           77.58      386.1   \n",
      "4         M        20.29         14.34          135.10     1297.0   \n",
      "\n",
      "   smoothness_mean  compactness_mean  concavity_mean  concave points_mean  \\\n",
      "0          0.11840           0.27760          0.3001              0.14710   \n",
      "1          0.08474           0.07864          0.0869              0.07017   \n",
      "2          0.10960           0.15990          0.1974              0.12790   \n",
      "3          0.14250           0.28390          0.2414              0.10520   \n",
      "4          0.10030           0.13280          0.1980              0.10430   \n",
      "\n",
      "   symmetry_mean  ...  radius_worst  texture_worst  perimeter_worst  \\\n",
      "0         0.2419  ...         25.38          17.33           184.60   \n",
      "1         0.1812  ...         24.99          23.41           158.80   \n",
      "2         0.2069  ...         23.57          25.53           152.50   \n",
      "3         0.2597  ...         14.91          26.50            98.87   \n",
      "4         0.1809  ...         22.54          16.67           152.20   \n",
      "\n",
      "   area_worst  smoothness_worst  compactness_worst  concavity_worst  \\\n",
      "0      2019.0            0.1622             0.6656           0.7119   \n",
      "1      1956.0            0.1238             0.1866           0.2416   \n",
      "2      1709.0            0.1444             0.4245           0.4504   \n",
      "3       567.7            0.2098             0.8663           0.6869   \n",
      "4      1575.0            0.1374             0.2050           0.4000   \n",
      "\n",
      "   concave points_worst  symmetry_worst  fractal_dimension_worst  \n",
      "0                0.2654          0.4601                  0.11890  \n",
      "1                0.1860          0.2750                  0.08902  \n",
      "2                0.2430          0.3613                  0.08758  \n",
      "3                0.2575          0.6638                  0.17300  \n",
      "4                0.1625          0.2364                  0.07678  \n",
      "\n",
      "[5 rows x 31 columns]\n"
     ]
    }
   ],
   "source": [
    "# remove the row\n",
    "my_data_new = my_data.drop([1], axis=0).dropna()\n",
    "\n",
    "# remove columns\n",
    "my_data_new = my_data.drop(['id'], axis=1).dropna()\n",
    "\n",
    "print(my_data_new.head())\n",
    "\n",
    "my_data_new = my_data_new.drop_duplicates().dropna(axis = 'columns')\n",
    "\n"
   ]
  },
  {
   "cell_type": "markdown",
   "metadata": {},
   "source": [
    "Rename columns"
   ]
  },
  {
   "cell_type": "code",
   "execution_count": 82,
   "metadata": {},
   "outputs": [
    {
     "data": {
      "text/html": [
       "<div>\n",
       "<style scoped>\n",
       "    .dataframe tbody tr th:only-of-type {\n",
       "        vertical-align: middle;\n",
       "    }\n",
       "\n",
       "    .dataframe tbody tr th {\n",
       "        vertical-align: top;\n",
       "    }\n",
       "\n",
       "    .dataframe thead th {\n",
       "        text-align: right;\n",
       "    }\n",
       "</style>\n",
       "<table border=\"1\" class=\"dataframe\">\n",
       "  <thead>\n",
       "    <tr style=\"text-align: right;\">\n",
       "      <th></th>\n",
       "      <th>target</th>\n",
       "      <th>radius_mean</th>\n",
       "      <th>texture_mean</th>\n",
       "      <th>perimeter_mean</th>\n",
       "      <th>area_mean</th>\n",
       "      <th>smoothness_mean</th>\n",
       "      <th>compactness_mean</th>\n",
       "      <th>concavity_mean</th>\n",
       "      <th>concave points_mean</th>\n",
       "      <th>symmetry_mean</th>\n",
       "      <th>...</th>\n",
       "      <th>radius_worst</th>\n",
       "      <th>texture_worst</th>\n",
       "      <th>perimeter_worst</th>\n",
       "      <th>area_worst</th>\n",
       "      <th>smoothness_worst</th>\n",
       "      <th>compactness_worst</th>\n",
       "      <th>concavity_worst</th>\n",
       "      <th>concave points_worst</th>\n",
       "      <th>symmetry_worst</th>\n",
       "      <th>fractal_dimension_worst</th>\n",
       "    </tr>\n",
       "  </thead>\n",
       "  <tbody>\n",
       "    <tr>\n",
       "      <th>0</th>\n",
       "      <td>M</td>\n",
       "      <td>17.99</td>\n",
       "      <td>10.38</td>\n",
       "      <td>122.80</td>\n",
       "      <td>1001.0</td>\n",
       "      <td>0.11840</td>\n",
       "      <td>0.27760</td>\n",
       "      <td>0.3001</td>\n",
       "      <td>0.14710</td>\n",
       "      <td>0.2419</td>\n",
       "      <td>...</td>\n",
       "      <td>25.38</td>\n",
       "      <td>17.33</td>\n",
       "      <td>184.60</td>\n",
       "      <td>2019.0</td>\n",
       "      <td>0.1622</td>\n",
       "      <td>0.6656</td>\n",
       "      <td>0.7119</td>\n",
       "      <td>0.2654</td>\n",
       "      <td>0.4601</td>\n",
       "      <td>0.11890</td>\n",
       "    </tr>\n",
       "    <tr>\n",
       "      <th>1</th>\n",
       "      <td>M</td>\n",
       "      <td>20.57</td>\n",
       "      <td>17.77</td>\n",
       "      <td>132.90</td>\n",
       "      <td>1326.0</td>\n",
       "      <td>0.08474</td>\n",
       "      <td>0.07864</td>\n",
       "      <td>0.0869</td>\n",
       "      <td>0.07017</td>\n",
       "      <td>0.1812</td>\n",
       "      <td>...</td>\n",
       "      <td>24.99</td>\n",
       "      <td>23.41</td>\n",
       "      <td>158.80</td>\n",
       "      <td>1956.0</td>\n",
       "      <td>0.1238</td>\n",
       "      <td>0.1866</td>\n",
       "      <td>0.2416</td>\n",
       "      <td>0.1860</td>\n",
       "      <td>0.2750</td>\n",
       "      <td>0.08902</td>\n",
       "    </tr>\n",
       "    <tr>\n",
       "      <th>2</th>\n",
       "      <td>M</td>\n",
       "      <td>19.69</td>\n",
       "      <td>21.25</td>\n",
       "      <td>130.00</td>\n",
       "      <td>1203.0</td>\n",
       "      <td>0.10960</td>\n",
       "      <td>0.15990</td>\n",
       "      <td>0.1974</td>\n",
       "      <td>0.12790</td>\n",
       "      <td>0.2069</td>\n",
       "      <td>...</td>\n",
       "      <td>23.57</td>\n",
       "      <td>25.53</td>\n",
       "      <td>152.50</td>\n",
       "      <td>1709.0</td>\n",
       "      <td>0.1444</td>\n",
       "      <td>0.4245</td>\n",
       "      <td>0.4504</td>\n",
       "      <td>0.2430</td>\n",
       "      <td>0.3613</td>\n",
       "      <td>0.08758</td>\n",
       "    </tr>\n",
       "    <tr>\n",
       "      <th>3</th>\n",
       "      <td>M</td>\n",
       "      <td>11.42</td>\n",
       "      <td>20.38</td>\n",
       "      <td>77.58</td>\n",
       "      <td>386.1</td>\n",
       "      <td>0.14250</td>\n",
       "      <td>0.28390</td>\n",
       "      <td>0.2414</td>\n",
       "      <td>0.10520</td>\n",
       "      <td>0.2597</td>\n",
       "      <td>...</td>\n",
       "      <td>14.91</td>\n",
       "      <td>26.50</td>\n",
       "      <td>98.87</td>\n",
       "      <td>567.7</td>\n",
       "      <td>0.2098</td>\n",
       "      <td>0.8663</td>\n",
       "      <td>0.6869</td>\n",
       "      <td>0.2575</td>\n",
       "      <td>0.6638</td>\n",
       "      <td>0.17300</td>\n",
       "    </tr>\n",
       "    <tr>\n",
       "      <th>4</th>\n",
       "      <td>M</td>\n",
       "      <td>20.29</td>\n",
       "      <td>14.34</td>\n",
       "      <td>135.10</td>\n",
       "      <td>1297.0</td>\n",
       "      <td>0.10030</td>\n",
       "      <td>0.13280</td>\n",
       "      <td>0.1980</td>\n",
       "      <td>0.10430</td>\n",
       "      <td>0.1809</td>\n",
       "      <td>...</td>\n",
       "      <td>22.54</td>\n",
       "      <td>16.67</td>\n",
       "      <td>152.20</td>\n",
       "      <td>1575.0</td>\n",
       "      <td>0.1374</td>\n",
       "      <td>0.2050</td>\n",
       "      <td>0.4000</td>\n",
       "      <td>0.1625</td>\n",
       "      <td>0.2364</td>\n",
       "      <td>0.07678</td>\n",
       "    </tr>\n",
       "  </tbody>\n",
       "</table>\n",
       "<p>5 rows × 31 columns</p>\n",
       "</div>"
      ],
      "text/plain": [
       "  target  radius_mean  texture_mean  perimeter_mean  area_mean  \\\n",
       "0      M        17.99         10.38          122.80     1001.0   \n",
       "1      M        20.57         17.77          132.90     1326.0   \n",
       "2      M        19.69         21.25          130.00     1203.0   \n",
       "3      M        11.42         20.38           77.58      386.1   \n",
       "4      M        20.29         14.34          135.10     1297.0   \n",
       "\n",
       "   smoothness_mean  compactness_mean  concavity_mean  concave points_mean  \\\n",
       "0          0.11840           0.27760          0.3001              0.14710   \n",
       "1          0.08474           0.07864          0.0869              0.07017   \n",
       "2          0.10960           0.15990          0.1974              0.12790   \n",
       "3          0.14250           0.28390          0.2414              0.10520   \n",
       "4          0.10030           0.13280          0.1980              0.10430   \n",
       "\n",
       "   symmetry_mean  ...  radius_worst  texture_worst  perimeter_worst  \\\n",
       "0         0.2419  ...         25.38          17.33           184.60   \n",
       "1         0.1812  ...         24.99          23.41           158.80   \n",
       "2         0.2069  ...         23.57          25.53           152.50   \n",
       "3         0.2597  ...         14.91          26.50            98.87   \n",
       "4         0.1809  ...         22.54          16.67           152.20   \n",
       "\n",
       "   area_worst  smoothness_worst  compactness_worst  concavity_worst  \\\n",
       "0      2019.0            0.1622             0.6656           0.7119   \n",
       "1      1956.0            0.1238             0.1866           0.2416   \n",
       "2      1709.0            0.1444             0.4245           0.4504   \n",
       "3       567.7            0.2098             0.8663           0.6869   \n",
       "4      1575.0            0.1374             0.2050           0.4000   \n",
       "\n",
       "   concave points_worst  symmetry_worst  fractal_dimension_worst  \n",
       "0                0.2654          0.4601                  0.11890  \n",
       "1                0.1860          0.2750                  0.08902  \n",
       "2                0.2430          0.3613                  0.08758  \n",
       "3                0.2575          0.6638                  0.17300  \n",
       "4                0.1625          0.2364                  0.07678  \n",
       "\n",
       "[5 rows x 31 columns]"
      ]
     },
     "execution_count": 82,
     "metadata": {},
     "output_type": "execute_result"
    }
   ],
   "source": [
    "my_data_new = my_data_new.rename(columns={'diagnosis': 'target'})\n",
    "\n",
    "\n",
    "my_data_new.head()\n"
   ]
  },
  {
   "cell_type": "markdown",
   "metadata": {},
   "source": [
    "Want to do mathematical operations such as numerical integration, optimization and interpolation? Use Scipy library!"
   ]
  },
  {
   "cell_type": "code",
   "execution_count": 83,
   "metadata": {},
   "outputs": [],
   "source": [
    "import scipy.integrate as integrate\n",
    "import scipy.special as special"
   ]
  },
  {
   "cell_type": "markdown",
   "metadata": {},
   "source": [
    "Let's try integrating a function. quad from the scipy library takes a function and integrates it with respect to one variable \n",
    "in the given limits (a, b)\n",
    "\n",
    "Let's define a function using one of the following options:"
   ]
  },
  {
   "cell_type": "code",
   "execution_count": 84,
   "metadata": {},
   "outputs": [],
   "source": [
    "# like this:\n",
    "x2 = lambda x: x**2 + 3*x"
   ]
  },
  {
   "cell_type": "code",
   "execution_count": 85,
   "metadata": {},
   "outputs": [],
   "source": [
    "# or like this:\n",
    "def my_func(x):\n",
    "    return x**2 + 3*x"
   ]
  },
  {
   "cell_type": "markdown",
   "metadata": {},
   "source": [
    "Both do the same thing! Let's integrate both functions from 0 to 1 using integrate module. "
   ]
  },
  {
   "cell_type": "code",
   "execution_count": 86,
   "metadata": {},
   "outputs": [
    {
     "name": "stdout",
     "output_type": "stream",
     "text": [
      "(1.8333333333333335, 2.0354088784794538e-14)\n"
     ]
    },
    {
     "data": {
      "text/plain": [
       "(1.8333333333333335, 2.0354088784794538e-14)"
      ]
     },
     "execution_count": 86,
     "metadata": {},
     "output_type": "execute_result"
    }
   ],
   "source": [
    "res = integrate.quad(x2, 0, 1)\n",
    "print(res)\n",
    "res = integrate.quad(my_func, 0, 1)\n",
    "res"
   ]
  },
  {
   "cell_type": "markdown",
   "metadata": {},
   "source": [
    "If your function has multiple arguments, for example:"
   ]
  },
  {
   "cell_type": "code",
   "execution_count": 87,
   "metadata": {},
   "outputs": [],
   "source": [
    "import numpy as np\n",
    "def my_func_1(t, x):\n",
    "    return np.exp(-x*t)/t**3"
   ]
  },
  {
   "cell_type": "markdown",
   "metadata": {},
   "source": [
    "Then you need to pass them into the integrating function.\n",
    "Let's integrate it from 1 to Inf:"
   ]
  },
  {
   "cell_type": "code",
   "execution_count": 88,
   "metadata": {},
   "outputs": [
    {
     "data": {
      "text/plain": [
       "(0.008930646543835897, 2.1880335925821762e-09)"
      ]
     },
     "execution_count": 88,
     "metadata": {},
     "output_type": "execute_result"
    }
   ],
   "source": [
    "def my_int(x):\n",
    "    return integrate.quad(my_func_1, 1, np.inf, args=x)\n",
    "\n",
    "my_int(3)"
   ]
  },
  {
   "cell_type": "markdown",
   "metadata": {},
   "source": [
    "Double integrals"
   ]
  },
  {
   "cell_type": "code",
   "execution_count": 89,
   "metadata": {},
   "outputs": [
    {
     "name": "stdout",
     "output_type": "stream",
     "text": [
      "(0.4999999999985751, 1.3894083651858995e-08)\n"
     ]
    },
    {
     "data": {
      "text/plain": [
       "(0.4999999999985751, 1.3894083651858995e-08)"
      ]
     },
     "execution_count": 89,
     "metadata": {},
     "output_type": "execute_result"
    }
   ],
   "source": [
    "# to compute double integrals, we can use function dblquad\n",
    "from scipy.integrate import dblquad\n",
    "\n",
    "# integrand function\n",
    "def integrand_1(t, x):\n",
    "  return np.exp(-x*t)/t**2\n",
    "\n",
    "# To work with double integrals, you need to define external integral limits as functions of the variable you are integrating over.\n",
    "# You can do it either explicitly like this:\n",
    "\n",
    "# lower limit of the outer integral (integrating over x)\n",
    "def lower_lim(x):\n",
    "    return(1)\n",
    "\n",
    "# upper limit of the outer integral (integrating over x)\n",
    "def upper_lim(x):\n",
    "    return(np.inf)\n",
    "\n",
    "# And then compute double integral as follows\n",
    "res1 = dblquad(integrand_1, 0, np.inf, lower_lim, upper_lim)\n",
    "\n",
    "# Or you can do everything in place (does the same thing):\n",
    "res2 = dblquad(integrand_1, 0, np.inf, lambda x: 1, lambda x: np.inf)\n",
    "\n",
    "print(res1)\n",
    "res2"
   ]
  },
  {
   "cell_type": "markdown",
   "metadata": {},
   "source": [
    "Can similarly do the integrals of higher order, including integrals of order `n`"
   ]
  },
  {
   "cell_type": "markdown",
   "metadata": {},
   "source": [
    "Optimization"
   ]
  },
  {
   "cell_type": "code",
   "execution_count": 90,
   "metadata": {},
   "outputs": [],
   "source": [
    "from scipy.optimize import minimize"
   ]
  },
  {
   "cell_type": "markdown",
   "metadata": {},
   "source": [
    "Let's try to  minimize the function "
   ]
  },
  {
   "cell_type": "code",
   "execution_count": 91,
   "metadata": {},
   "outputs": [
    {
     "name": "stdout",
     "output_type": "stream",
     "text": [
      "27\n"
     ]
    }
   ],
   "source": [
    "# let's take the function with 4 variables\n",
    "def objective(x):\n",
    "    x1 = x[0]\n",
    "    x2 = x[1]\n",
    "    x3 = x[2]\n",
    "    x4 = x[3]\n",
    "    return x1*x4*(x1+x2+x3)+x3\n",
    "\n",
    "# add a constraint\n",
    "def constraint1(x):\n",
    "    return x[0]*x[1]*x[2]*x[3] - 25\n",
    "\n",
    "#Initial guess\n",
    "x0 = [1, 2, 3, 4]\n",
    "\n",
    "print(objective(x0))\n"
   ]
  },
  {
   "cell_type": "code",
   "execution_count": 92,
   "metadata": {},
   "outputs": [
    {
     "data": {
      "text/plain": [
       " message: Optimization terminated successfully\n",
       " success: True\n",
       "  status: 0\n",
       "     fun: 10.050715991952348\n",
       "       x: [ 1.353e-01  5.116e+02  4.994e+00  7.232e-02]\n",
       "     nit: 73\n",
       "     jac: [ 3.738e+01  9.786e-03  1.010e+00  6.993e+01]\n",
       "    nfev: 376\n",
       "    njev: 69"
      ]
     },
     "execution_count": 92,
     "metadata": {},
     "output_type": "execute_result"
    }
   ],
   "source": [
    "#setting boundries and constraints\n",
    "con1 = {'type': 'ineq', 'fun': constraint1}\n",
    "#The optimization problem is solved using the SLSQP method as:\n",
    "solution = minimize(objective,x0,method='SLSQP',constraints=con1)\n",
    "solution"
   ]
  },
  {
   "cell_type": "code",
   "execution_count": 93,
   "metadata": {},
   "outputs": [
    {
     "data": {
      "text/plain": [
       "array([1.35319517e-01, 5.11620344e+02, 4.99370953e+00, 7.23191166e-02])"
      ]
     },
     "execution_count": 93,
     "metadata": {},
     "output_type": "execute_result"
    }
   ],
   "source": [
    "solution.x"
   ]
  },
  {
   "cell_type": "markdown",
   "metadata": {},
   "source": [
    "Interpolation"
   ]
  },
  {
   "cell_type": "code",
   "execution_count": 97,
   "metadata": {},
   "outputs": [
    {
     "name": "stdout",
     "output_type": "stream",
     "text": [
      "[0.  0.5 1.  1.5 2.  2.5 3.  3.5 4.  4.5 5. ] [ 1.          0.99961422  0.99383351  0.96891242  0.90284967  0.76840935\n",
      "  0.54030231  0.20815202 -0.20550672 -0.62817362 -0.93454613]\n"
     ]
    },
    {
     "data": {
      "image/png": "[encoded data removed]",
      "text/plain": [
       "<Figure size 640x480 with 1 Axes>"
      ]
     },
     "metadata": {},
     "output_type": "display_data"
    }
   ],
   "source": [
    "import numpy as np\n",
    "import matplotlib.pyplot as plt\n",
    "\n",
    "# Let's generate soome data\n",
    "x = np.linspace(0, 5, num=11)\n",
    "y = np.cos(-x**2 / 9.0)\n",
    "print(x,y)\n",
    "\n",
    "# and display it\n",
    "plt.plot(x, y, 'o', label='data')\n",
    "plt.show()\n"
   ]
  },
  {
   "cell_type": "code",
   "execution_count": 95,
   "metadata": {},
   "outputs": [
    {
     "data": {
      "text/plain": [
       "array([ 1.        ,  0.99999961,  0.99999923, ..., -0.93393339,\n",
       "       -0.93423976, -0.93454613])"
      ]
     },
     "execution_count": 95,
     "metadata": {},
     "output_type": "execute_result"
    }
   ],
   "source": [
    "# now let's find a function that fits the data using linear interpolation.\n",
    "# First, let's choose the step (say, 0.0005)\n",
    "x_new = np.linspace(0, 5, num=10001)\n",
    "# no do interpolation\n",
    "y_new = np.interp(x_new, x, y)\n",
    "y_new\n"
   ]
  },
  {
   "cell_type": "code",
   "execution_count": 96,
   "metadata": {},
   "outputs": [
    {
     "data": {
      "image/png": "[encoded data removed]",
      "text/plain": [
       "<Figure size 640x480 with 1 Axes>"
      ]
     },
     "metadata": {},
     "output_type": "display_data"
    }
   ],
   "source": [
    "# and plot the function\n",
    "plt.plot(x_new, y_new, '-', label='linear interp')\n",
    "plt.plot(x, y, 'o', label='data')\n",
    "plt.legend(loc='best')\n",
    "plt.show()"
   ]
  }
 ],
 "metadata": {
  "kernelspec": {
   "display_name": "base",
   "language": "python",
   "name": "python3"
  },
  "language_info": {
   "codemirror_mode": {
    "name": "ipython",
    "version": 3
   },
   "file_extension": ".py",
   "mimetype": "text/x-python",
   "name": "python",
   "nbconvert_exporter": "python",
   "pygments_lexer": "ipython3",
   "version": "3.12.4"
  }
 },
 "nbformat": 4,
 "nbformat_minor": 2
}
