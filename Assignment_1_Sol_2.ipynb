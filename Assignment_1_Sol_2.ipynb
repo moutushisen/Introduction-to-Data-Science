{
 "cells": [
  {
   "cell_type": "code",
   "execution_count": null,
   "metadata": {},
   "outputs": [],
   "source": [
    "# Replace Xxxxx with True or False according to the provided references\n",
    "TruthValueOfStatement0a = True\n",
    "TruthValueOfStatement0b = True\n",
    "TruthValueOfStatement0c = True\n"
   ]
  },
  {
   "cell_type": "code",
   "execution_count": null,
   "metadata": {},
   "outputs": [],
   "source": [
    "%%sh\n",
    "# Replace X with the correct command-line option to `head`\n",
    "head -n 4 data/final.csv\n"
   ]
  },
  {
   "cell_type": "code",
   "execution_count": null,
   "metadata": {},
   "outputs": [],
   "source": [
    "import csv\n",
    "\n",
    "# Reading and parsing the CSV file\n",
    "file_path = \"data/final.csv\"  # Replace with your file path\n",
    "\n",
    "with open(file_path, 'r') as csvfile:\n",
    "    reader = csv.reader(csvfile)\n",
    "    header = next(reader)  # First row as header\n",
    "    data = [row for row in reader]  # Remaining rows as data\n",
    "\n",
    "# Example assignments\n",
    "header = header  # List of column names\n",
    "data = data  # List of rows\n"
   ]
  },
  {
   "cell_type": "code",
   "execution_count": null,
   "metadata": {},
   "outputs": [],
   "source": [
    "import numpy as np\n",
    "from scipy.stats import binom\n",
    "\n",
    "# Part 1: Calculate probabilities\n",
    "p = 0.6\n",
    "p_N = lambda k: binomial(10, k) * ((1 - p) ** (10 - k)) * (p ** k)\n",
    "\n",
    "T_values = list(range(11))\n",
    "problem11_probabilities = []\n",
    "\n",
    "for T in T_values:\n",
    "    # Calculate P(N < 5 | Y >= T)\n",
    "    p_Y_given_N = lambda Y, N: binomial(10 - N, Y - N) * (0.5 ** (10 - N)) if Y >= N else 0\n",
    "    p_Y = lambda Y: sum(p_N(N) * p_Y_given_N(Y, N) for N in range(11))\n",
    "\n",
    "    prob_N_less_than_5_given_Y_ge_T = sum(\n",
    "        p_N(N) * sum(p_Y_given_N(Y, N) for Y in range(T, 11)) for N in range(5)\n",
    "    ) / sum(p_Y(Y) for Y in range(T, 11))\n",
    "\n",
    "    problem11_probabilities.append(prob_N_less_than_5_given_Y_ge_T)\n",
    "\n",
    "# Part 2: Find smallest T for 90% certainty\n",
    "problem12_T = next(\n",
    "    T for T in T_values if problem11_probabilities[T_values.index(T)] <= 0.1\n",
    ")\n"
   ]
  },
  {
   "cell_type": "code",
   "execution_count": null,
   "metadata": {},
   "outputs": [],
   "source": [
    "# Answers to Part 1: Exponentially concentrating quantities\n",
    "problem3_answer_1 = [2, 4, 5, 8, 10]  # Based on sub-Gaussian/sub-Exponential properties\n",
    "\n",
    "# Answers to Part 2: Weakly concentrating quantities\n",
    "problem3_answer_2 = [1, 6, 7]  # Based on finite variance/moments properties\n"
   ]
  },
  {
   "cell_type": "markdown",
   "metadata": {},
   "source": [
    "Notes:\n",
    "Replace placeholders like \"HEADER1,HEADER2,HEADER3\" with the actual data from your final.csv file.\n",
    "For Problem 4, ensure the binomial function and scipy.stats package are properly imported and used.\n",
    "Validate the answers by running the provided test cases in the assignment notebook."
   ]
  }
 ],
 "metadata": {
  "language_info": {
   "name": "python"
  }
 },
 "nbformat": 4,
 "nbformat_minor": 2
}
