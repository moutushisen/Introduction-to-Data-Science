{
 "cells": [
  {
   "cell_type": "code",
   "execution_count": 1,
   "metadata": {},
   "outputs": [
    {
     "name": "stdout",
     "output_type": "stream",
     "text": [
      "Probability of being in downtown after two time steps: 0.28\n",
      "Probability of being in downtown the first time after two time steps: 0.22\n",
      "Is the Markov chain irreducible? Yes\n",
      "Stationary distribution: [0.28888889 0.41111111 0.3       ]\n",
      "Expected number of steps to first enter downtown from suburbs: 8.6\n"
     ]
    }
   ],
   "source": [
    "#Assignment 2 - problem 1\n",
    "import numpy as np\n",
    "\n",
    "# Transition matrix\n",
    "P = np.array([\n",
    "    [0.3, 0.4, 0.3],\n",
    "    [0.2, 0.5, 0.3],\n",
    "    [0.4, 0.3, 0.3]\n",
    "])\n",
    "\n",
    "# 1. Probability of being in the downtown region after two time steps\n",
    "P2 = np.linalg.matrix_power(P, 2)\n",
    "prob_downtown_after_two_steps = P2[1, 0]\n",
    "print(f\"Probability of being in downtown after two time steps: {prob_downtown_after_two_steps:.2f}\")\n",
    "\n",
    "# 2. Probability of being in the downtown region the first time after two time steps\n",
    "prob_first_time_downtown_after_two_steps = P[1, 1] * P[1, 0] + P[1, 2] * P[2, 0]\n",
    "print(f\"Probability of being in downtown the first time after two time steps: {prob_first_time_downtown_after_two_steps:.2f}\")\n",
    "\n",
    "# 3. Check if the Markov chain is irreducible\n",
    "def is_irreducible(P):\n",
    "    n = P.shape[0]\n",
    "    reachability_matrix = np.linalg.matrix_power(P, n-1)\n",
    "    return np.all(reachability_matrix > 0)\n",
    "\n",
    "irreducible = is_irreducible(P)\n",
    "print(f\"Is the Markov chain irreducible? {'Yes' if irreducible else 'No'}\")\n",
    "\n",
    "# 4. Stationary distribution\n",
    "eigvals, eigvecs = np.linalg.eig(P.T)\n",
    "stationary_distribution = eigvecs[:, np.isclose(eigvals, 1)]\n",
    "stationary_distribution = stationary_distribution / stationary_distribution.sum()\n",
    "print(f\"Stationary distribution: {stationary_distribution.flatten()}\")\n",
    "\n",
    "# 5. Expected number of steps until first time entering downtown from suburbs\n",
    "max_steps = 30\n",
    "hitting_times = np.zeros((3, 3))\n",
    "for k in range(1, max_steps + 1):\n",
    "    hitting_times += np.linalg.matrix_power(P, k)\n",
    "\n",
    "expected_hitting_time = hitting_times[1, 0]\n",
    "print(f\"Expected number of steps to first enter downtown from suburbs: {expected_hitting_time:.1f}\")\n"
   ]
  },
  {
   "cell_type": "code",
   "execution_count": 1,
   "metadata": {},
   "outputs": [
    {
     "name": "stdout",
     "output_type": "stream",
     "text": [
      "Probability of being in downtown after two time steps: 0.2800\n"
     ]
    }
   ],
   "source": [
    "#Assignment 2 - problem 1\n",
    "import numpy as np\n",
    "\n",
    "# Transition matrix\n",
    "P = np.array([\n",
    "    [0.3, 0.4, 0.3],\n",
    "    [0.2, 0.5, 0.3],\n",
    "    [0.4, 0.3, 0.3]\n",
    "])\n",
    "\n",
    "# Compute P^2\n",
    "P2 = np.linalg.matrix_power(P, 2)\n",
    "\n",
    "# Probability of being in the downtown region after two time steps from the suburbs\n",
    "prob_downtown_after_two_steps = P2[1, 0]\n",
    "print(f\"Probability of being in downtown after two time steps: {prob_downtown_after_two_steps:.4f}\")\n"
   ]
  },
  {
   "cell_type": "code",
   "execution_count": 2,
   "metadata": {},
   "outputs": [
    {
     "name": "stdout",
     "output_type": "stream",
     "text": [
      "Probability of being in downtown the first time after two time steps: 0.2200\n"
     ]
    }
   ],
   "source": [
    "#Assignment 2 - problem 1\n",
    "# Probability of being in downtown the first time after two time steps\n",
    "prob_first_time_downtown_after_two_steps = P[1, 1] * P[1, 0] + P[1, 2] * P[2, 0]\n",
    "print(f\"Probability of being in downtown the first time after two time steps: {prob_first_time_downtown_after_two_steps:.4f}\")\n"
   ]
  },
  {
   "cell_type": "code",
   "execution_count": 3,
   "metadata": {},
   "outputs": [
    {
     "name": "stdout",
     "output_type": "stream",
     "text": [
      "Is the Markov chain irreducible? Yes\n"
     ]
    }
   ],
   "source": [
    "#Assignment 2 - problem 1\n",
    "def is_irreducible(P):\n",
    "    n = P.shape[0]\n",
    "    reachability_matrix = np.linalg.matrix_power(P, n-1)\n",
    "    return np.all(reachability_matrix > 0)\n",
    "\n",
    "irreducible = is_irreducible(P)\n",
    "print(f\"Is the Markov chain irreducible? {'Yes' if irreducible else 'No'}\")\n"
   ]
  },
  {
   "cell_type": "code",
   "execution_count": 4,
   "metadata": {},
   "outputs": [
    {
     "name": "stdout",
     "output_type": "stream",
     "text": [
      "Stationary distribution: [0.28888889 0.41111111 0.3       ]\n"
     ]
    }
   ],
   "source": [
    "#Assignment 2 - problem 1\n",
    "# Find the stationary distribution\n",
    "eigvals, eigvecs = np.linalg.eig(P.T)\n",
    "stationary_distribution = eigvecs[:, np.isclose(eigvals, 1)]\n",
    "stationary_distribution = stationary_distribution / stationary_distribution.sum()\n",
    "print(f\"Stationary distribution: {stationary_distribution.flatten()}\")\n"
   ]
  },
  {
   "cell_type": "code",
   "execution_count": 5,
   "metadata": {},
   "outputs": [
    {
     "name": "stdout",
     "output_type": "stream",
     "text": [
      "Expected number of steps to first enter downtown from suburbs: 8.6\n"
     ]
    }
   ],
   "source": [
    "#Assignment 2 - problem 1\n",
    "# Compute expected hitting times (up to max_steps = 30)\n",
    "max_steps = 30\n",
    "hitting_times = np.zeros((3, 3))\n",
    "\n",
    "for k in range(1, max_steps + 1):\n",
    "    hitting_times += np.linalg.matrix_power(P, k)\n",
    "\n",
    "# Expected number of steps to first enter downtown from suburbs\n",
    "expected_hitting_time = hitting_times[1, 0]\n",
    "print(f\"Expected number of steps to first enter downtown from suburbs: {expected_hitting_time:.1f}\")\n"
   ]
  },
  {
   "cell_type": "code",
   "execution_count": 1,
   "metadata": {},
   "outputs": [
    {
     "name": "stdout",
     "output_type": "stream",
     "text": [
      "1. Probability of being in downtown after two steps: 0.2800\n",
      "2. Probability of being in downtown for the first time after two steps: 0.2200\n",
      "3. Is the Markov chain irreducible? True\n",
      "4. Stationary distribution: [0.28888889 0.41111111 0.3       ]\n",
      "5. Expected number of steps to reach downtown from suburbs: 0.4\n"
     ]
    }
   ],
   "source": [
    "#Assignment 2 - problem 1 (another option)\n",
    "import numpy as np\n",
    "\n",
    "# Transition matrix\n",
    "P = np.array([\n",
    "    [0.3, 0.4, 0.3],\n",
    "    [0.2, 0.5, 0.3],\n",
    "    [0.4, 0.3, 0.3]\n",
    "])\n",
    "\n",
    "# 1. Probability of being in downtown after two steps, starting from suburbs\n",
    "def two_step_probability():\n",
    "    suburbs_index = 1\n",
    "    downtown_index = 0\n",
    "    two_step_prob = np.linalg.matrix_power(P, 2)[suburbs_index, downtown_index]\n",
    "    return two_step_prob\n",
    "\n",
    "# 2. Probability of being in downtown for the first time after two steps, starting from suburbs\n",
    "def first_time_two_step_probability():\n",
    "    suburbs_to_downtown = P[1, 0]\n",
    "    suburbs_to_suburbs = P[1, 1]\n",
    "    suburbs_to_countryside = P[1, 2]\n",
    "    countryside_to_downtown = P[2, 0]\n",
    "    return suburbs_to_suburbs * suburbs_to_downtown + suburbs_to_countryside * countryside_to_downtown\n",
    "\n",
    "# 3. Check if the Markov chain is irreducible\n",
    "def is_irreducible():\n",
    "    n = len(P)\n",
    "    reachable = np.eye(n)\n",
    "    for _ in range(n):\n",
    "        reachable = np.dot(reachable, P) + reachable\n",
    "    return np.all(reachable > 0)\n",
    "\n",
    "# 4. Find the stationary distribution\n",
    "def stationary_distribution():\n",
    "    eigenvalues, eigenvectors = np.linalg.eig(P.T)\n",
    "    stationary = eigenvectors[:, np.isclose(eigenvalues, 1)].real\n",
    "    return stationary / np.sum(stationary)\n",
    "\n",
    "# 5. Expected number of steps to reach downtown from suburbs\n",
    "def expected_steps_to_downtown():\n",
    "    suburbs_index = 1\n",
    "    downtown_index = 0\n",
    "    max_steps = 30\n",
    "    total_prob = 0\n",
    "    expected_steps = 0\n",
    "    \n",
    "    for steps in range(1, max_steps + 1):\n",
    "        prob = np.linalg.matrix_power(P, steps)[suburbs_index, downtown_index] - total_prob\n",
    "        total_prob += prob\n",
    "        expected_steps += steps * prob\n",
    "        \n",
    "    return expected_steps\n",
    "\n",
    "print(f\"1. Probability of being in downtown after two steps: {two_step_probability():.4f}\")\n",
    "print(f\"2. Probability of being in downtown for the first time after two steps: {first_time_two_step_probability():.4f}\")\n",
    "print(f\"3. Is the Markov chain irreducible? {is_irreducible()}\")\n",
    "print(f\"4. Stationary distribution: {stationary_distribution().flatten()}\")\n",
    "print(f\"5. Expected number of steps to reach downtown from suburbs: {expected_steps_to_downtown():.1f}\")"
   ]
  },
  {
   "cell_type": "code",
   "execution_count": 1,
   "metadata": {},
   "outputs": [],
   "source": [
    "#Assignment 2 - problem 3\n",
    "import numpy as np\n",
    "\n",
    "def MLeForAssignment2Problem3(x):\n",
    "    n = len(x)\n",
    "    sum_x = np.sum(x)\n",
    "    lambda_mle = 5 * n / sum_x\n",
    "    return lambda_mle"
   ]
  },
  {
   "cell_type": "code",
   "execution_count": 3,
   "metadata": {},
   "outputs": [
    {
     "name": "stdout",
     "output_type": "stream",
     "text": [
      "MLE for μ: 9.7339\n",
      "MLE for σ: 1.2514\n",
      "\n",
      "Sample mean: 9.7339\n",
      "Sample standard deviation: 1.2728\n"
     ]
    }
   ],
   "source": [
    "#Assignment 2 - problem 2 another problem  -p\n",
    "\n",
    "import numpy as np\n",
    "from scipy.optimize import minimize\n",
    "\n",
    "# Simulate data from Normal(10, 2)\n",
    "np.random.seed(42)\n",
    "normallySimulatedDataSamples = np.random.normal(loc=10, scale=np.sqrt(2), size=30)\n",
    "\n",
    "# Define the negative log-likelihood function\n",
    "def neg_log_likelihood(params, data):\n",
    "    mu, sigma = params\n",
    "    n = len(data)\n",
    "    return -np.sum(np.log(1/(sigma*np.sqrt(2*np.pi))) - (1/(2*sigma**2))*(data-mu)**2)\n",
    "\n",
    "# Define the objective function (negative log-likelihood)\n",
    "def objective(params):\n",
    "    return neg_log_likelihood(params, normallySimulatedDataSamples)\n",
    "\n",
    "# Initial guess\n",
    "initial_guess = [0, 1]\n",
    "\n",
    "# Bounds for μ and σ\n",
    "bounds = [(-20, 20), (0.1, 5.0)]\n",
    "\n",
    "# Perform the optimization\n",
    "result = minimize(objective, initial_guess, method='L-BFGS-B', bounds=bounds)\n",
    "\n",
    "# Extract the MLEs\n",
    "mle_mu, mle_sigma = result.x\n",
    "\n",
    "print(f\"MLE for μ: {mle_mu:.4f}\")\n",
    "print(f\"MLE for σ: {mle_sigma:.4f}\")\n",
    "\n",
    "# Compare with sample statistics\n",
    "print(f\"\\nSample mean: {np.mean(normallySimulatedDataSamples):.4f}\")\n",
    "print(f\"Sample standard deviation: {np.std(normallySimulatedDataSamples, ddof=1):.4f}\")"
   ]
  },
  {
   "cell_type": "code",
   "execution_count": 1,
   "metadata": {},
   "outputs": [
    {
     "name": "stdout",
     "output_type": "stream",
     "text": [
      "MLE for mean (mu): 9.2686\n",
      "MLE for standard deviation (sigma): 1.7082\n"
     ]
    }
   ],
   "source": [
    "#Assignment 2 - problem 2\n",
    "import numpy as np\n",
    "from scipy import optimize\n",
    "\n",
    "# Set seed for reproducibility\n",
    "np.random.seed(123456)\n",
    "\n",
    "# Simulate 30 IID samples drawn from a Normal(10, 2) distribution\n",
    "normallySimulatedDataSamples = np.random.normal(10, 2, 30)\n",
    "\n",
    "# Define the negative log-likelihood function\n",
    "def negLogLklOfIIDNormalSamples(params):\n",
    "    \"\"\" \n",
    "    Returns the negative log-likelihood of normallySimulatedDataSamples\n",
    "    with parameters mu (mean) and sigma (standard deviation).\n",
    "    \"\"\"\n",
    "    mu_param, sigma_param = params\n",
    "    n = len(normallySimulatedDataSamples)\n",
    "    \n",
    "    # Ensure sigma is strictly positive to avoid issues with log and division\n",
    "    if sigma_param <= 0:\n",
    "        return np.inf\n",
    "    \n",
    "    # Compute the negative log-likelihood\n",
    "    term1 = n * np.log(sigma_param * np.sqrt(2 * np.pi))\n",
    "    term2 = np.sum((normallySimulatedDataSamples - mu_param) ** 2) / (2 * sigma_param ** 2)\n",
    "    \n",
    "    return term1 + term2\n",
    "\n",
    "# Define the bounds for mu and sigma\n",
    "parameter_bounding_box = ((-20, 20), (0.1, 5.0))  # Constraints on mu and sigma\n",
    "\n",
    "# Initial guess for mu and sigma\n",
    "initial_guess = np.array([5, 1])\n",
    "\n",
    "# Use scipy's minimize function to perform the optimization\n",
    "result = optimize.minimize(\n",
    "    negLogLklOfIIDNormalSamples,   # The function to minimize\n",
    "    initial_guess,                 # Initial guess for [mu, sigma]\n",
    "    bounds=parameter_bounding_box,  # Bounds for the parameters\n",
    "    method='L-BFGS-B'              # Optimization method suited for bounded problems\n",
    ")\n",
    "\n",
    "# Output the result of the optimization\n",
    "print(f\"MLE for mean (mu): {result.x[0]:.4f}\")\n",
    "print(f\"MLE for standard deviation (sigma): {result.x[1]:.4f}\")\n"
   ]
  },
  {
   "cell_type": "code",
   "execution_count": 2,
   "metadata": {},
   "outputs": [
    {
     "ename": "SyntaxError",
     "evalue": "positional argument follows keyword argument (3754556138.py, line 28)",
     "output_type": "error",
     "traceback": [
      "\u001b[1;36m  Cell \u001b[1;32mIn[2], line 28\u001b[1;36m\u001b[0m\n\u001b[1;33m    result_problem2_opt = optimize.minimize(negLogLklOfIIDNormalSamples, initial_arguments, bounds=parameter_bounding_box, XXX)\u001b[0m\n\u001b[1;37m                                                                                                                              ^\u001b[0m\n\u001b[1;31mSyntaxError\u001b[0m\u001b[1;31m:\u001b[0m positional argument follows keyword argument\n"
     ]
    }
   ],
   "source": [
    "#Assignment 2 - problem 2 - another option\n",
    "import numpy as np\n",
    "from scipy import optimize\n",
    "# do NOT change the next three lines\n",
    "np.random.seed(123456) # set seed\n",
    "# simulate 30 IID samples drawn from Normal(10,2)RV\n",
    "normallySimulatedDataSamples = np.random.normal(10,2,30) \n",
    "\n",
    "# define the negative log likelihoo function you want to minimise by editing XXX\n",
    "def negLogLklOfIIDNormalSamples(parameters):\n",
    "    '''return the -log(likelihood) of normallySimulatedDataSamples with mean and var parameters'''\n",
    "    mu_param=parameters[0]\n",
    "    sigma_param=parameters[1]\n",
    "    \n",
    "    # Penalize non-positive sigma values to avoid division by zero\n",
    "    if sigma_param <= 0:\n",
    "        return np.inf\n",
    "    \n",
    "    # Log likelihood calculation\n",
    "    n = len(normallySimulatedDataSamples)\n",
    "    log_likelihood_value = -n * np.log(sigma_param * np.sqrt(2 * np.pi)) - np.sum((normallySimulatedDataSamples - mu_param) ** 2) / (2 * sigma_param ** 2)\n",
    "    \n",
    "    return -log_likelihood_value  # Return the negative log likelihood\n",
    "\n",
    "# you should only change XXX below and not anything else\n",
    "parameter_bounding_box=((-20, 20), (0.1, 5.0)) # specify the constraints for each parameter - some guess work...\n",
    "initial_arguments = np.array([10, 2]) # point in 2D to initialise the minimize algorithm\n",
    "result_problem2_opt = optimize.minimize(negLogLklOfIIDNormalSamples, initial_arguments, bounds=parameter_bounding_box, XXX) \n",
    "# call the minimize method above finally! you need to play a bit to get initial conditions and bounding box ok\n",
    "result_problem2_opt"
   ]
  },
  {
   "cell_type": "code",
   "execution_count": null,
   "metadata": {},
   "outputs": [],
   "source": [
    "#Assignment 2 - problem 2 - another option 2\n",
    "import numpy as np\n",
    "from scipy import optimize\n",
    "\n",
    "# Set seed for reproducibility\n",
    "np.random.seed(123456)\n",
    "\n",
    "# Simulate 30 IID samples drawn from Normal(10,2) RV\n",
    "normallySimulatedDataSamples = np.random.normal(10, 2, 30)\n",
    "\n",
    "# Define the negative log likelihood function\n",
    "def negLogLklOfIIDNormalSamples(parameters):\n",
    "    '''Return the -log(likelihood) of normallySimulatedDataSamples with mean and var parameters'''\n",
    "    mu_param = parameters[0]\n",
    "    sigma_param = parameters[1]\n",
    "    n = len(normallySimulatedDataSamples)\n",
    "    log_likelihood = -np.sum(np.log(1/(sigma_param * np.sqrt(2 * np.pi))) - ((normallySimulatedDataSamples - mu_param)**2 / (2 * sigma_param**2)))\n",
    "    return -log_likelihood\n",
    "\n",
    "# Specify the constraints for each parameter\n",
    "parameter_bounding_box = ((-20, 20), (0.1, 5.0))\n",
    "\n",
    "# Initial guess for the parameters\n",
    "initial_arguments = np.array([10, 2])\n",
    "\n",
    "# Call the minimize method\n",
    "result_problem2_opt = optimize.minimize(negLogLklOfIIDNormalSamples, initial_arguments, bounds=parameter_bounding_box, method='L-BFGS-B')\n",
    "\n",
    "# Output the result\n",
    "result_problem2_opt\n"
   ]
  },
  {
   "cell_type": "code",
   "execution_count": 1,
   "metadata": {},
   "outputs": [
    {
     "name": "stdout",
     "output_type": "stream",
     "text": [
      "[0.08174041635356843, 0.202598896343261, 0.16400373936630785, 0.5603366764262319, 0.6423963464330882, 0.01461450895294547, 0.4515828744042665, 0.22008573450148106, 0.44328905059956014, 0.9430172056891024]\n"
     ]
    }
   ],
   "source": [
    "#Assignment 2 - problem 4 - part 1\n",
    "def problem4_LCG(size=None, seed=0):\n",
    "    \"\"\"\n",
    "    A linear congruential generator that generates pseudo random numbers according to size.\n",
    "    \n",
    "    Parameters\n",
    "    -------------\n",
    "    size : an integer denoting how many samples should be produced\n",
    "    seed : the starting point of the LCG, i.e. u0 in the notes.\n",
    "    \n",
    "    Returns\n",
    "    -------------\n",
    "    out : a list of the pseudo random numbers\n",
    "    \"\"\"\n",
    "    \n",
    "    # LCG parameters (good set that satisfies Hull-Dobell Theorem)\n",
    "    M = 2**32       # Modulus, typically a large number\n",
    "    a = 1664525     # Multiplier\n",
    "    b = 1013904223  # Increment\n",
    "    \n",
    "    # Initialize with seed\n",
    "    X = seed\n",
    "    \n",
    "    # Output list for random numbers\n",
    "    random_numbers = []\n",
    "    \n",
    "    for _ in range(size):\n",
    "        # Generate the next random number in the sequence\n",
    "        X = (a * X + b) % M\n",
    "        \n",
    "        # Normalize to the range [0, 1]\n",
    "        random_number = X / M\n",
    "        \n",
    "        # Append to the output list\n",
    "        random_numbers.append(random_number)\n",
    "    \n",
    "    return random_numbers\n",
    "\n",
    "# Example usage:\n",
    "samples = problem4_LCG(size=10, seed=123456)\n",
    "print(samples)\n"
   ]
  },
  {
   "cell_type": "code",
   "execution_count": 2,
   "metadata": {},
   "outputs": [
    {
     "name": "stdout",
     "output_type": "stream",
     "text": [
      "[0.08174041635356843, 0.202598896343261, 0.16400373936630785, 0.5603366764262319, 0.6423963464330882, 0.01461450895294547, 0.4515828744042665, 0.22008573450148106, 0.44328905059956014, 0.9430172056891024]\n"
     ]
    }
   ],
   "source": [
    "#Assignment 2 - problem 4 - part 2\n",
    "def problem4_uniform(generator=None, period=1, size=None, seed=0):\n",
    "    \"\"\"\n",
    "    Takes a generator and produces samples from the uniform [0,1] distribution according\n",
    "    to size.\n",
    "    \n",
    "    Parameters\n",
    "    -------------\n",
    "    generator : a function of type generator(size, seed) and produces pseudo random numbers\n",
    "                in the range {0, 1, ..., period-1}\n",
    "    period : the period of the generator\n",
    "    seed : the seed to be used in the generator provided\n",
    "    size : an integer denoting how many samples should be produced\n",
    "    \n",
    "    Returns\n",
    "    --------------\n",
    "    out : a list of uniform pseudo random numbers in [0,1]\n",
    "    \"\"\"\n",
    "    \n",
    "    # Call the generator function to get the random numbers in the range [0, period-1]\n",
    "    random_numbers = generator(size=size, seed=seed)\n",
    "    \n",
    "    # Normalize the random numbers to be in the range [0,1]\n",
    "    uniform_random_numbers = [num / period for num in random_numbers]\n",
    "    \n",
    "    return uniform_random_numbers\n",
    "\n",
    "# Example usage with LCG:\n",
    "samples = problem4_uniform(generator=problem4_LCG, period=1, size=10, seed=123456)\n",
    "print(samples)\n"
   ]
  },
  {
   "cell_type": "code",
   "execution_count": 3,
   "metadata": {},
   "outputs": [
    {
     "name": "stdout",
     "output_type": "stream",
     "text": [
      "[np.float64(0.19431405251970102), np.float64(0.740250525876183), np.float64(0.3318926366758018), np.float64(0.8015779426618691), np.float64(0.43580090078845235), np.float64(0.1412374061135827), np.float64(0.7508708656982942), np.float64(0.5741530603134027), np.float64(0.8126870314778178), np.float64(0.31968364893687107)]\n"
     ]
    }
   ],
   "source": [
    "#Assignment 2 - problem 4 - part 3\n",
    "import numpy as np\n",
    "\n",
    "def problem4_accept_reject(uniformGenerator=None, n_iterations=None, seed=0):\n",
    "    \"\"\"\n",
    "    Takes a generator that produces uniform pseudo random [0,1] numbers \n",
    "    and produces samples from (pi/2)*abs(sin(x*2*pi)) using an Accept-Reject\n",
    "    sampler with the uniform distribution as the proposal distribution.\n",
    "    Runs n_iterations\n",
    "    \n",
    "    Parameters\n",
    "    -------------\n",
    "    generator : a function of the type generator(size, seed) that produces uniform pseudo random\n",
    "                numbers from [0,1]\n",
    "    seed : the seed to be used in the generator provided\n",
    "    n_iterations : an integer denoting how many attempts should be made in the accept-reject sampler\n",
    "    \n",
    "    Returns\n",
    "    --------------\n",
    "    out : a list of the pseudo random numbers with the specified distribution\n",
    "    \"\"\"\n",
    "    np.random.seed(seed)\n",
    "    samples = []\n",
    "    M = np.pi / 2  # Maximum of the target distribution p_0(x)\n",
    "\n",
    "    for _ in range(n_iterations):\n",
    "        # Generate u from U(0,1)\n",
    "        u = uniformGenerator(size=1, seed=np.random.randint(0, 100000))[0]\n",
    "\n",
    "        # Generate v from U(0,1)\n",
    "        v = uniformGenerator(size=1, seed=np.random.randint(0, 100000))[0]\n",
    "\n",
    "        # Accept the sample if v <= p_0(u) / (M * g(u))\n",
    "        p0_u = (np.pi / 2) * abs(np.sin(2 * np.pi * u))\n",
    "        if v <= p0_u / M:\n",
    "            samples.append(u)\n",
    "\n",
    "    return samples\n",
    "\n",
    "# Example usage\n",
    "def uniform_generator_example(size, seed=0):\n",
    "    np.random.seed(seed)\n",
    "    return np.random.uniform(0, 1, size)\n",
    "\n",
    "samples = problem4_accept_reject(uniformGenerator=uniform_generator_example, n_iterations=10000, seed=123)\n",
    "print(samples[:10])  # Print the first 10 generated samples\n"
   ]
  },
  {
   "cell_type": "code",
   "execution_count": 4,
   "metadata": {},
   "outputs": [
    {
     "data": {
      "image/png": "[encoded data removed]",
      "text/plain": [
       "<Figure size 1500x500 with 2 Axes>"
      ]
     },
     "metadata": {},
     "output_type": "display_data"
    },
    {
     "name": "stdout",
     "output_type": "stream",
     "text": [
      "Uniform [0,1] mean: 0.5030 (expected: 0.5000)\n",
      "Uniform [0,1] variance: 0.0831 (expected: 0.0833)\n",
      "p0(x) mean: 0.4982\n",
      "p0(x) variance: 0.0734\n"
     ]
    }
   ],
   "source": [
    "#Assignment 2 - problem 4 -p\n",
    "\n",
    "import numpy as np\n",
    "import matplotlib.pyplot as plt\n",
    "\n",
    "# Step 1: Linear Congruential Generator\n",
    "class LCG:\n",
    "    def __init__(self, seed, a, b, M):\n",
    "        self.state = seed\n",
    "        self.a = a\n",
    "        self.b = b\n",
    "        self.M = M\n",
    "    \n",
    "    def next(self):\n",
    "        self.state = (self.a * self.state + self.b) % self.M\n",
    "        return self.state\n",
    "\n",
    "# Parameters for LCG (these satisfy Hull-Dobell theorem)\n",
    "seed = 12345\n",
    "a = 1103515245\n",
    "b = 12345\n",
    "M = 2**31 - 1\n",
    "\n",
    "lcg = LCG(seed, a, b, M)\n",
    "\n",
    "# Step 2: Uniform [0,1] generator\n",
    "def uniform_01():\n",
    "    return lcg.next() / M\n",
    "\n",
    "# Step 3: Accept-Reject sampler for p0(x)\n",
    "def p0(x):\n",
    "    return np.pi/2 * np.abs(np.sin(2*np.pi*x))\n",
    "\n",
    "def accept_reject_p0(n_samples):\n",
    "    samples = []\n",
    "    max_p0 = np.pi/2  # Maximum value of p0(x)\n",
    "    \n",
    "    while len(samples) < n_samples:\n",
    "        x = uniform_01()\n",
    "        u = uniform_01()\n",
    "        \n",
    "        if u <= p0(x) / max_p0:\n",
    "            samples.append(x)\n",
    "    \n",
    "    return np.array(samples)\n",
    "\n",
    "# Generate samples\n",
    "n_samples = 10000\n",
    "uniform_samples = np.array([uniform_01() for _ in range(n_samples)])\n",
    "p0_samples = accept_reject_p0(n_samples)\n",
    "\n",
    "# Plotting\n",
    "fig, (ax1, ax2) = plt.subplots(1, 2, figsize=(15, 5))\n",
    "\n",
    "# Plot uniform distribution\n",
    "ax1.hist(uniform_samples, bins=50, density=True, alpha=0.7)\n",
    "ax1.set_title('Uniform [0,1] Distribution')\n",
    "ax1.set_xlabel('x')\n",
    "ax1.set_ylabel('Density')\n",
    "\n",
    "# Plot p0 distribution\n",
    "x = np.linspace(0, 1, 1000)\n",
    "ax2.plot(x, p0(x), 'r-', lw=2, label='p0(x)')\n",
    "ax2.hist(p0_samples, bins=50, density=True, alpha=0.7, label='Samples')\n",
    "ax2.set_title('p0(x) Distribution')\n",
    "ax2.set_xlabel('x')\n",
    "ax2.set_ylabel('Density')\n",
    "ax2.legend()\n",
    "\n",
    "plt.tight_layout()\n",
    "plt.show()\n",
    "\n",
    "# Print some statistics\n",
    "print(f\"Uniform [0,1] mean: {np.mean(uniform_samples):.4f} (expected: 0.5000)\")\n",
    "print(f\"Uniform [0,1] variance: {np.var(uniform_samples):.4f} (expected: 0.0833)\")\n",
    "print(f\"p0(x) mean: {np.mean(p0_samples):.4f}\")\n",
    "print(f\"p0(x) variance: {np.var(p0_samples):.4f}\")"
   ]
  }
 ],
 "metadata": {
  "kernelspec": {
   "display_name": "Python 3",
   "language": "python",
   "name": "python3"
  },
  "language_info": {
   "codemirror_mode": {
    "name": "ipython",
    "version": 3
   },
   "file_extension": ".py",
   "mimetype": "text/x-python",
   "name": "python",
   "nbconvert_exporter": "python",
   "pygments_lexer": "ipython3",
   "version": "3.10.5"
  }
 },
 "nbformat": 4,
 "nbformat_minor": 2
}
