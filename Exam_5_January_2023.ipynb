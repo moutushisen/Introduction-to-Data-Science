{
 "cells": [
  {
   "cell_type": "markdown",
   "id": "257f83a2",
   "metadata": {},
   "source": [
    "# Exam: January 5th, 2023"
   ]
  },
  {
   "cell_type": "markdown",
   "id": "ab8f1e9e",
   "metadata": {},
   "source": [
    "## Course: 1MS041 (Introduction to Data Science / Introduktion till dataanalys)"
   ]
  },
  {
   "cell_type": "markdown",
   "id": "5e564e20",
   "metadata": {},
   "source": [
    "### Instructions:\n",
    "1. Complete the problems by following instructions.\n",
    "2. Submit this notebook with your solutions saved.\n",
    "3. This exam has 3 problems for a total of 40 points, and you need 20 points to pass.\n",
    "4. Be clear with reasoning and comment your code.\n",
    "5. Follow the rules: no external communication or unauthorized tools.\n",
    "6. Good luck!"
   ]
  },
  {
   "cell_type": "code",
   "execution_count": null,
   "id": "08d42fa0",
   "metadata": {},
   "outputs": [],
   "source": [
    "# Insert your anonymous exam ID as a string in the variable below\n",
    "examID = \"XXX\""
   ]
  },
  {
   "cell_type": "markdown",
   "id": "b4b1fdd1",
   "metadata": {},
   "source": [
    "## Problem 1: Markov Chain (Maximum Points: 14)"
   ]
  },
  {
   "cell_type": "markdown",
   "id": "f3f683fe",
   "metadata": {},
   "source": [
    "A courier company operates a fleet of delivery trucks divided into three regions: downtown, suburbs, and countryside. The probabilities of transitioning between regions are as follows:\n",
    "\n",
    "| Current Region | Downtown | Suburbs | Countryside |\n",
    "|----------------|----------|---------|-------------|\n",
    "| Downtown       | 0.3      | 0.4     | 0.3         |\n",
    "| Suburbs        | 0.2      | 0.5     | 0.3         |\n",
    "| Countryside    | 0.4      | 0.3     | 0.3         |\n"
   ]
  },
  {
   "cell_type": "markdown",
   "id": "ba3e29b1",
   "metadata": {},
   "source": [
    "### Questions:\n",
    "1. If a truck is currently in the suburbs, what is the probability that it will    be in the downtown region after two time steps? [2p]\n",
    "2. If a truck is currently in the suburbs, what is the probability that it will    be in the downtown region for the first time after two time steps? [2p]\n",
    "3. Is this Markov chain irreducible? Explain your answer. [3p]\n",
    "4. What is the stationary distribution? [3p]\n",
    "5. What is the expected number of steps until the first time one enters the suburbs    having started in the downtown region? [4p]\n"
   ]
  },
  {
   "cell_type": "code",
   "execution_count": null,
   "id": "e0568c3c",
   "metadata": {},
   "outputs": [],
   "source": [
    "# Problem 1 Solutions:\n",
    "\n",
    "# Part 1\n",
    "problem1_p1 = \"XXX\"\n",
    "\n",
    "# Part 2\n",
    "problem1_p2 = \"XXX\"\n",
    "\n",
    "# Part 3\n",
    "problem1_irreducible = True  # Replace with True/False\n",
    "\n",
    "# Part 4\n",
    "problem1_stationary = [XXX, XXX, XXX]\n",
    "\n",
    "# Part 5\n",
    "problem1_ET = \"XXX\""
   ]
  },
  {
   "cell_type": "markdown",
   "id": "e6f83277",
   "metadata": {},
   "source": [
    "## Problem 2: Linear Regression with Abalone Dataset (Maximum Points: 13)"
   ]
  },
  {
   "cell_type": "markdown",
   "id": "20d46294",
   "metadata": {},
   "source": [
    "You are tasked to predict the age of abalone based on physical measurements using the `data/abalone.csv` dataset.\n",
    "\n",
    "### Questions:\n",
    "1. Load the dataset into a pandas dataframe. Identify features and target. [2p]\n",
    "2. Split the data into train and test sets. [2p]\n",
    "3. Train a linear regression model. [1p]\n",
    "4. Evaluate the model with Mean Absolute Error (MAE) and plot the Empirical Distribution    Function (EDF) with confidence bands. [3p]\n",
    "5. Provide a scatter plot comparing predicted and true values. [2p]\n",
    "6. Reason about model performance. [3p]\n"
   ]
  },
  {
   "cell_type": "code",
   "execution_count": null,
   "id": "fe385f56",
   "metadata": {},
   "outputs": [],
   "source": [
    "# Problem 2 Solutions:\n",
    "\n",
    "# Part 1\n",
    "problem2_df = \"XXX\"\n",
    "problem2_features = [\"XXX\"]\n",
    "problem2_target = \"XXX\"\n",
    "\n",
    "# Part 2\n",
    "from sklearn.model_selection import train_test_split\n",
    "problem2_X_train, problem2_X_test, problem2_y_train, problem2_y_test = train_test_split(X, y, train_size=0.8, random_state=42)\n",
    "\n",
    "# Part 3\n",
    "from sklearn.linear_model import LinearRegression\n",
    "problem2_model = LinearRegression()\n",
    "problem2_model.fit(problem2_X_train, problem2_y_train)\n",
    "\n",
    "# Part 4\n",
    "from sklearn.metrics import mean_absolute_error\n",
    "problem2_mae = mean_absolute_error(problem2_y_test, problem2_model.predict(problem2_X_test))\n",
    "\n",
    "# Part 5\n",
    "import matplotlib.pyplot as plt\n",
    "plt.scatter(problem2_model.predict(problem2_X_test), problem2_y_test)\n",
    "plt.xlabel('Predicted')\n",
    "plt.ylabel('True')\n",
    "plt.show()"
   ]
  },
  {
   "cell_type": "markdown",
   "id": "5d06f0f2",
   "metadata": {},
   "source": [
    "## Problem 3: Poisson Regression (Maximum Points: 13)"
   ]
  },
  {
   "cell_type": "markdown",
   "id": "32710631",
   "metadata": {},
   "source": [
    "### Questions:\n",
    "1. Load the `data/visits_clean.csv` dataset. Decide features and target. [3p]\n",
    "2. Prepare the dataset and split into train-test sets. [3p]\n",
    "3. Implement loss function for Poisson Regression. [2p]\n",
    "4. Train the Poisson Regression model. [2p]\n",
    "5. Evaluate the model and provide justification for chosen metrics. [3p]\n"
   ]
  },
  {
   "cell_type": "code",
   "execution_count": null,
   "id": "ade2f7a7",
   "metadata": {},
   "outputs": [],
   "source": [
    "# Problem 3 Solutions:\n",
    "\n",
    "# Part 1\n",
    "problem3_df = \"XXX\"\n",
    "problem3_features = [\"XXX\"]\n",
    "problem3_target = \"XXX\"\n",
    "\n",
    "# Part 2\n",
    "problem3_X_train, problem3_X_test, problem3_y_train, problem3_y_test = train_test_split(X, y, train_size=0.8, random_state=42)\n",
    "\n",
    "# Part 3\n",
    "class PoissonRegression:\n",
    "    def __init__(self):\n",
    "        self.coeffs = None\n",
    "\n",
    "    def fit(self, X, Y):\n",
    "        pass  # Define your loss and optimization here\n",
    "\n",
    "    def predict(self, X):\n",
    "        pass  # Return predicted lambda values\n",
    "\n",
    "# Initialize and train the model\n",
    "problem3_model = PoissonRegression()\n",
    "problem3_model.fit(problem3_X_train, problem3_y_train)"
   ]
  },
  {
   "cell_type": "markdown",
   "id": "b3f0978c",
   "metadata": {},
   "source": [
    "### Final Discussion and Submission\n",
    "\n",
    "- Ensure all cells are executed.\n",
    "- Save the notebook before submission."
   ]
  }
 ],
 "metadata": {},
 "nbformat": 4,
 "nbformat_minor": 5
}
